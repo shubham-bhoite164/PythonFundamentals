{
 "cells": [
  {
   "cell_type": "markdown",
   "id": "6374af72",
   "metadata": {},
   "source": [
    "* While loop is used to repeat a section of code unknown number of times until a specific condition is met "
   ]
  },
  {
   "cell_type": "code",
   "execution_count": 2,
   "id": "8c5e6013",
   "metadata": {},
   "outputs": [
    {
     "name": "stdout",
     "output_type": "stream",
     "text": [
      "Shubham\n",
      "Shubham\n",
      "Shubham\n",
      "Shubham\n",
      "Shubham\n",
      "Shubham\n",
      "Shubham\n",
      "Shubham\n",
      "Shubham\n",
      "Shubham\n"
     ]
    }
   ],
   "source": [
    "# want to print 'Shubham' 10 times \n",
    "\n",
    "i = 1    # we need to give a starting value\n",
    "while i<=10:  # its a condition\n",
    "    print('Shubham')\n",
    "    i = i+1"
   ]
  },
  {
   "cell_type": "code",
   "execution_count": 4,
   "id": "150308cd",
   "metadata": {},
   "outputs": [
    {
     "name": "stdout",
     "output_type": "stream",
     "text": [
      "55\n"
     ]
    }
   ],
   "source": [
    "# Lets find the sum of first 10 natural numbers\n",
    "\n",
    "i = 1    # we need to give a starting value\n",
    "sum = 0\n",
    "while i<=10:  # its a condition\n",
    "    sum = sum+i\n",
    "    i = i+1\n",
    "print(sum)"
   ]
  },
  {
   "cell_type": "code",
   "execution_count": 11,
   "id": "a28c123d",
   "metadata": {},
   "outputs": [
    {
     "name": "stdout",
     "output_type": "stream",
     "text": [
      "5\n"
     ]
    }
   ],
   "source": [
    "# Lets find the sum of even numbers between 1 to 10\n",
    "\n",
    "i = 1\n",
    "sum = 0\n",
    "while i<=10:\n",
    "    if i%2==0:\n",
    "        sum=sum+1\n",
    "    i=i+1\n",
    "print(sum)"
   ]
  },
  {
   "cell_type": "markdown",
   "id": "c59be4bf",
   "metadata": {},
   "source": [
    "# Reversing an Integer "
   ]
  },
  {
   "cell_type": "code",
   "execution_count": 23,
   "id": "13c8fd7f",
   "metadata": {},
   "outputs": [
    {
     "name": "stdout",
     "output_type": "stream",
     "text": [
      "Enter a number1234\n",
      "4321\n"
     ]
    }
   ],
   "source": [
    "n =  int(input('Enter a number'))\n",
    "nr = 0    # reverse n\n",
    "while n%10 != 0: # we have to last didgit until there no digit left\n",
    "    c = n%10     \n",
    "    nr = nr*10 +c  # to put the last digit at first position\n",
    "    n=n//10     # to remove the value of last digit\n",
    "print(nr)\n",
    "     \n",
    "# if n = 1234\n",
    "#    nr = 4321\n"
   ]
  },
  {
   "cell_type": "code",
   "execution_count": 33,
   "id": "8549c4d3",
   "metadata": {},
   "outputs": [
    {
     "name": "stdout",
     "output_type": "stream",
     "text": [
      "1\n",
      "432.1\n",
      "432\n"
     ]
    }
   ],
   "source": [
    "print(4321%10)\n",
    "\n",
    "print(4321/10)\n",
    "\n",
    "print(4321//10)"
   ]
  },
  {
   "cell_type": "markdown",
   "id": "702aea97",
   "metadata": {},
   "source": [
    "# Calculate the length of the list without using 'len' function"
   ]
  },
  {
   "cell_type": "code",
   "execution_count": 48,
   "id": "9f0c8546",
   "metadata": {},
   "outputs": [
    {
     "name": "stdout",
     "output_type": "stream",
     "text": [
      "3\n"
     ]
    }
   ],
   "source": [
    "x = [1,2.3,'Shubham']\n",
    "length=0\n",
    "i = 0\n",
    "try:\n",
    "    while x[i]:\n",
    "        length=length+1\n",
    "        i=i+1\n",
    "except IndexError:\n",
    "    print(length)"
   ]
  },
  {
   "cell_type": "markdown",
   "id": "fcd04079",
   "metadata": {},
   "source": [
    "# Printing the pattern using Nested while Loop"
   ]
  },
  {
   "cell_type": "code",
   "execution_count": 47,
   "id": "2eb58b84",
   "metadata": {},
   "outputs": [
    {
     "name": "stdout",
     "output_type": "stream",
     "text": [
      "Enter the number9\n",
      "1\n",
      "22\n",
      "333\n",
      "4444\n",
      "55555\n",
      "666666\n",
      "7777777\n",
      "88888888\n",
      "999999999\n"
     ]
    }
   ],
   "source": [
    "# 1\n",
    "# 22\n",
    "# 333\n",
    "# 4444\n",
    "# 55555\n",
    "\n",
    "n = int(input('Enter the number'))\n",
    "i = 1\n",
    "while i<=n:\n",
    "    j = 1\n",
    "    while j<=i:\n",
    "        print(i,end='')\n",
    "        j=j+1\n",
    "    i=i+1\n",
    "    print()\n",
    "\n",
    "    "
   ]
  },
  {
   "cell_type": "code",
   "execution_count": 55,
   "id": "b63ab4ed",
   "metadata": {},
   "outputs": [
    {
     "name": "stdout",
     "output_type": "stream",
     "text": [
      "enter a 4 digit number1234\n",
      "0 digits were guessed right\n",
      "Enter a 4 digit number1234\n",
      "0 digits were guessed right\n",
      "Enter a 4 digit number1234\n",
      "0 digits were guessed right\n",
      "Enter a 4 digit number1234\n",
      "0 digits were guessed right\n",
      "Enter a 4 digit number3455\n",
      "1 digits were guessed right\n",
      "Enter a 4 digit number5555\n",
      "1 digits were guessed right\n",
      "Enter a 4 digit number1235\n",
      "0 digits were guessed right\n",
      "Enter a 4 digit number1254\n",
      "0 digits were guessed right\n"
     ]
    },
    {
     "ename": "KeyboardInterrupt",
     "evalue": "Interrupted by user",
     "output_type": "error",
     "traceback": [
      "\u001b[1;31m---------------------------------------------------------------------------\u001b[0m",
      "\u001b[1;31mKeyboardInterrupt\u001b[0m                         Traceback (most recent call last)",
      "\u001b[1;32m<ipython-input-55-de8fa2474cc6>\u001b[0m in \u001b[0;36m<module>\u001b[1;34m\u001b[0m\n\u001b[0;32m     20\u001b[0m     \u001b[1;32melse\u001b[0m\u001b[1;33m:\u001b[0m\u001b[1;33m\u001b[0m\u001b[1;33m\u001b[0m\u001b[0m\n\u001b[0;32m     21\u001b[0m         \u001b[0mprint\u001b[0m\u001b[1;33m(\u001b[0m\u001b[1;34m'%d digits were guessed right'\u001b[0m \u001b[1;33m%\u001b[0m\u001b[0mcor\u001b[0m\u001b[1;33m)\u001b[0m\u001b[1;33m\u001b[0m\u001b[1;33m\u001b[0m\u001b[0m\n\u001b[1;32m---> 22\u001b[1;33m         \u001b[0mn\u001b[0m \u001b[1;33m=\u001b[0m \u001b[0mint\u001b[0m\u001b[1;33m(\u001b[0m\u001b[0minput\u001b[0m\u001b[1;33m(\u001b[0m\u001b[1;34m'Enter a 4 digit number'\u001b[0m\u001b[1;33m)\u001b[0m\u001b[1;33m)\u001b[0m\u001b[1;33m\u001b[0m\u001b[1;33m\u001b[0m\u001b[0m\n\u001b[0m\u001b[0;32m     23\u001b[0m \u001b[1;32melse\u001b[0m\u001b[1;33m:\u001b[0m\u001b[1;33m\u001b[0m\u001b[1;33m\u001b[0m\u001b[0m\n\u001b[0;32m     24\u001b[0m     \u001b[0mprint\u001b[0m\u001b[1;33m(\u001b[0m\u001b[1;34m'You quit the game'\u001b[0m\u001b[1;33m)\u001b[0m\u001b[1;33m\u001b[0m\u001b[1;33m\u001b[0m\u001b[0m\n",
      "\u001b[1;32mc:\\users\\shubham bhoite\\appdata\\local\\programs\\python\\python36\\lib\\site-packages\\ipykernel\\kernelbase.py\u001b[0m in \u001b[0;36mraw_input\u001b[1;34m(self, prompt)\u001b[0m\n\u001b[0;32m    849\u001b[0m             \u001b[0mself\u001b[0m\u001b[1;33m.\u001b[0m\u001b[0m_parent_ident\u001b[0m\u001b[1;33m,\u001b[0m\u001b[1;33m\u001b[0m\u001b[1;33m\u001b[0m\u001b[0m\n\u001b[0;32m    850\u001b[0m             \u001b[0mself\u001b[0m\u001b[1;33m.\u001b[0m\u001b[0m_parent_header\u001b[0m\u001b[1;33m,\u001b[0m\u001b[1;33m\u001b[0m\u001b[1;33m\u001b[0m\u001b[0m\n\u001b[1;32m--> 851\u001b[1;33m             \u001b[0mpassword\u001b[0m\u001b[1;33m=\u001b[0m\u001b[1;32mFalse\u001b[0m\u001b[1;33m,\u001b[0m\u001b[1;33m\u001b[0m\u001b[1;33m\u001b[0m\u001b[0m\n\u001b[0m\u001b[0;32m    852\u001b[0m         )\n\u001b[0;32m    853\u001b[0m \u001b[1;33m\u001b[0m\u001b[0m\n",
      "\u001b[1;32mc:\\users\\shubham bhoite\\appdata\\local\\programs\\python\\python36\\lib\\site-packages\\ipykernel\\kernelbase.py\u001b[0m in \u001b[0;36m_input_request\u001b[1;34m(self, prompt, ident, parent, password)\u001b[0m\n\u001b[0;32m    890\u001b[0m             \u001b[1;32mexcept\u001b[0m \u001b[0mKeyboardInterrupt\u001b[0m\u001b[1;33m:\u001b[0m\u001b[1;33m\u001b[0m\u001b[1;33m\u001b[0m\u001b[0m\n\u001b[0;32m    891\u001b[0m                 \u001b[1;31m# re-raise KeyboardInterrupt, to truncate traceback\u001b[0m\u001b[1;33m\u001b[0m\u001b[1;33m\u001b[0m\u001b[1;33m\u001b[0m\u001b[0m\n\u001b[1;32m--> 892\u001b[1;33m                 \u001b[1;32mraise\u001b[0m \u001b[0mKeyboardInterrupt\u001b[0m\u001b[1;33m(\u001b[0m\u001b[1;34m\"Interrupted by user\"\u001b[0m\u001b[1;33m)\u001b[0m \u001b[1;32mfrom\u001b[0m \u001b[1;32mNone\u001b[0m\u001b[1;33m\u001b[0m\u001b[1;33m\u001b[0m\u001b[0m\n\u001b[0m\u001b[0;32m    893\u001b[0m             \u001b[1;32mexcept\u001b[0m \u001b[0mException\u001b[0m \u001b[1;32mas\u001b[0m \u001b[0me\u001b[0m\u001b[1;33m:\u001b[0m\u001b[1;33m\u001b[0m\u001b[1;33m\u001b[0m\u001b[0m\n\u001b[0;32m    894\u001b[0m                 \u001b[0mself\u001b[0m\u001b[1;33m.\u001b[0m\u001b[0mlog\u001b[0m\u001b[1;33m.\u001b[0m\u001b[0mwarning\u001b[0m\u001b[1;33m(\u001b[0m\u001b[1;34m\"Invalid Message:\"\u001b[0m\u001b[1;33m,\u001b[0m \u001b[0mexc_info\u001b[0m\u001b[1;33m=\u001b[0m\u001b[1;32mTrue\u001b[0m\u001b[1;33m)\u001b[0m\u001b[1;33m\u001b[0m\u001b[1;33m\u001b[0m\u001b[0m\n",
      "\u001b[1;31mKeyboardInterrupt\u001b[0m: Interrupted by user"
     ]
    }
   ],
   "source": [
    "# System will generate any number and user needs to guess the number\n",
    "\n",
    "# to quit the game enter 10\n",
    "\n",
    "import random    #it is a random library \n",
    "nump = random.randint(1000,9999)  # we have given the boundries \n",
    "n = int(input('enter a 4 digit number'))\n",
    "while n!=10:\n",
    "    num = nump\n",
    "    cor = 0\n",
    "    while num%10 :\n",
    "        numc = num%10\n",
    "        nc=n%10\n",
    "        num=num//10\n",
    "        n=n//10\n",
    "        if numc==nc:\n",
    "            cor=cor+1\n",
    "    if cor==4:\n",
    "            print('Congrats! you guessed it right')\n",
    "    else:\n",
    "        print('%d digits were guessed right' %cor)\n",
    "        n = int(input('Enter a 4 digit number'))\n",
    "else:\n",
    "    print('You quit the game')"
   ]
  },
  {
   "cell_type": "code",
   "execution_count": null,
   "id": "edfc1e9d",
   "metadata": {},
   "outputs": [
    {
     "name": "stdout",
     "output_type": "stream",
     "text": [
      "3646\n"
     ]
    }
   ],
   "source": [
    "# System will generate any number and user needs to guess the number\n",
    "\n",
    "# to quit the game enter 10\n",
    "\n",
    "import random    #it is a random library \n",
    "nump = random.randint(1000,9999)  # we have given the boundries\n",
    "print(nump)\n",
    "n = int(input('enter a 4 digit number'))\n",
    "while n!=10:\n",
    "    num = nump\n",
    "    cor = 0\n",
    "    while num%10 :\n",
    "        numc = num%10\n",
    "        nc=n%10\n",
    "        num=num//10\n",
    "        n=n//10\n",
    "        if numc==nc:\n",
    "            cor=cor+1\n",
    "    if cor==4:\n",
    "            print('Congrats! you guessed it right')\n",
    "    else:\n",
    "        print('%d digits were guessed right' %cor)\n",
    "        n = int(input('Enter a 4 digit number'))\n",
    "else:\n",
    "    print('You quit the game')"
   ]
  },
  {
   "cell_type": "code",
   "execution_count": null,
   "id": "30531f09",
   "metadata": {},
   "outputs": [],
   "source": []
  },
  {
   "cell_type": "code",
   "execution_count": null,
   "id": "d5b42ddc",
   "metadata": {},
   "outputs": [],
   "source": []
  }
 ],
 "metadata": {
  "kernelspec": {
   "display_name": "Python 3",
   "language": "python",
   "name": "python3"
  },
  "language_info": {
   "codemirror_mode": {
    "name": "ipython",
    "version": 3
   },
   "file_extension": ".py",
   "mimetype": "text/x-python",
   "name": "python",
   "nbconvert_exporter": "python",
   "pygments_lexer": "ipython3",
   "version": "3.6.8"
  }
 },
 "nbformat": 4,
 "nbformat_minor": 5
}
