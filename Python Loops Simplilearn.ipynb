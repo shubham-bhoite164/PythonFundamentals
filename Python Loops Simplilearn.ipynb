{
 "cells": [
  {
   "cell_type": "markdown",
   "id": "59ec6ee3",
   "metadata": {},
   "source": [
    "* Loop is an instruction that repeats multiple times as long as sone condition is met \n",
    "\n",
    "* There are 3 types of lopps , 1) for loop  2) while loop  3) nested loop"
   ]
  },
  {
   "cell_type": "markdown",
   "id": "542f417c",
   "metadata": {},
   "source": [
    "# while Loop\n",
    "\n",
    "* The while loop is used to repeat a section of code an unknown number of times until the specific condition is met."
   ]
  },
  {
   "cell_type": "code",
   "execution_count": 3,
   "id": "79c88194",
   "metadata": {},
   "outputs": [
    {
     "name": "stdout",
     "output_type": "stream",
     "text": [
      "Enter a number multiple of 714\n",
      "14 is a numtiple of 7\n"
     ]
    }
   ],
   "source": [
    "val = int(input('Enter a number multiple of 7'))\n",
    "while val%7 !=0:\n",
    "    val = int(input('Enter the multiple of 7')) \n",
    "else:\n",
    "    print('%d is a numtiple of 7' %val)\n",
    "    \n",
    "    # %d will give the input value which is multiple of 7 and %val give the value as 7\n",
    "    # Run this program in VS code "
   ]
  },
  {
   "cell_type": "code",
   "execution_count": null,
   "id": "dda69e14",
   "metadata": {},
   "outputs": [],
   "source": []
  },
  {
   "cell_type": "markdown",
   "id": "f05a51af",
   "metadata": {},
   "source": [
    "# for loop\n",
    "\n",
    "* For loop is used to iterate over a sequence, which could be a list, tuple, array or a string"
   ]
  },
  {
   "cell_type": "code",
   "execution_count": 4,
   "id": "ce502494",
   "metadata": {},
   "outputs": [
    {
     "name": "stdout",
     "output_type": "stream",
     "text": [
      "1\n",
      "6\n",
      "Shubham\n"
     ]
    }
   ],
   "source": [
    "x = [1,6,'Shubham']\n",
    "for i in x:\n",
    "    print(i)"
   ]
  },
  {
   "cell_type": "code",
   "execution_count": 9,
   "id": "ea8b1e82",
   "metadata": {},
   "outputs": [
    {
     "name": "stdout",
     "output_type": "stream",
     "text": [
      "S\n",
      "h\n",
      "u\n",
      "b\n",
      "h\n",
      "a\n",
      "m\n"
     ]
    }
   ],
   "source": [
    "x = 'Shubham'\n",
    "for i in x:\n",
    "    print(i)"
   ]
  },
  {
   "cell_type": "markdown",
   "id": "37372925",
   "metadata": {},
   "source": [
    "# Nested Loop\n",
    "\n",
    "* for in for\n",
    "\n",
    "* for in while\n",
    "\n",
    "* while in while "
   ]
  },
  {
   "cell_type": "code",
   "execution_count": 1,
   "id": "1ca02970",
   "metadata": {},
   "outputs": [
    {
     "name": "stdout",
     "output_type": "stream",
     "text": [
      "123\n",
      "abc\n"
     ]
    }
   ],
   "source": [
    "# Accessing the elements within the matrix\n",
    "\n",
    "x = [[1,2,3],['a','b','c']]\n",
    "for i in x:         # it works list by list\n",
    "    for j in i:     # it works element by element\n",
    "        print(j, end='')\n",
    "    print()"
   ]
  },
  {
   "cell_type": "markdown",
   "id": "33d83719",
   "metadata": {},
   "source": [
    "# Loop control statements \n",
    "\n",
    "* Loop control statements alter thr regular flow of a loop\n"
   ]
  },
  {
   "cell_type": "markdown",
   "id": "57f880f7",
   "metadata": {},
   "source": [
    "## Break"
   ]
  },
  {
   "cell_type": "code",
   "execution_count": 11,
   "id": "de2b17b9",
   "metadata": {},
   "outputs": [
    {
     "name": "stdout",
     "output_type": "stream",
     "text": [
      "h\n",
      "e\n",
      "y\n",
      " \n",
      "t\n",
      "h\n",
      "e\n",
      "r\n",
      "e\n"
     ]
    }
   ],
   "source": [
    "x = 'hey there. how are you'\n",
    "for i in x:\n",
    "    if i == '.':   # it says than when it notices the '.'(full stop) the loop will break\n",
    "        break\n",
    "    print(i)      # It will print everything in a vertical line"
   ]
  },
  {
   "cell_type": "code",
   "execution_count": 12,
   "id": "fbd5670c",
   "metadata": {},
   "outputs": [
    {
     "name": "stdout",
     "output_type": "stream",
     "text": [
      "hey there"
     ]
    }
   ],
   "source": [
    "x = 'hey there. how are you'\n",
    "for i in x:\n",
    "    if i == '.':   # it says than when it notices the '.'(full stop) the loop will break\n",
    "        break\n",
    "    print(i, end ='')   # it will print in horizontal line"
   ]
  },
  {
   "cell_type": "markdown",
   "id": "35730e4c",
   "metadata": {},
   "source": [
    "## Continue "
   ]
  },
  {
   "cell_type": "code",
   "execution_count": 13,
   "id": "a1bc9b9b",
   "metadata": {},
   "outputs": [
    {
     "name": "stdout",
     "output_type": "stream",
     "text": [
      "1\n",
      "4\n",
      "6\n"
     ]
    }
   ],
   "source": [
    "# Now lets say we have to print the naumber which are less than 10\n",
    "\n",
    "for i in [1,13,56,4,6]:\n",
    "    if i>10 :\n",
    "        continue        # we can't keep the if block empty so we add the continue statement into in.\n",
    "    else:\n",
    "        print(i)"
   ]
  },
  {
   "cell_type": "code",
   "execution_count": 15,
   "id": "f721ec7c",
   "metadata": {},
   "outputs": [
    {
     "name": "stdout",
     "output_type": "stream",
     "text": [
      "1 4 6 "
     ]
    }
   ],
   "source": [
    "# Now lets say we have to print the naumber which are less than 10\n",
    "\n",
    "for i in [1,13,56,4,6]:\n",
    "    if i>10 :\n",
    "        continue        # we can't keep the if block empty so we add the continue statement into in.\n",
    "    else:\n",
    "        print(i, end=' ')"
   ]
  },
  {
   "cell_type": "code",
   "execution_count": null,
   "id": "a313322a",
   "metadata": {},
   "outputs": [],
   "source": []
  }
 ],
 "metadata": {
  "kernelspec": {
   "display_name": "Python 3 (ipykernel)",
   "language": "python",
   "name": "python3"
  },
  "language_info": {
   "codemirror_mode": {
    "name": "ipython",
    "version": 3
   },
   "file_extension": ".py",
   "mimetype": "text/x-python",
   "name": "python",
   "nbconvert_exporter": "python",
   "pygments_lexer": "ipython3",
   "version": "3.9.6"
  }
 },
 "nbformat": 4,
 "nbformat_minor": 5
}
