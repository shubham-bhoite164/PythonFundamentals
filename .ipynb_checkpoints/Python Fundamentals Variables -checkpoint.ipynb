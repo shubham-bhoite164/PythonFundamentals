{
 "cells": [
  {
   "cell_type": "markdown",
   "id": "dbaaa0dd",
   "metadata": {},
   "source": [
    "* this is python\n"
   ]
  },
  {
   "cell_type": "code",
   "execution_count": 2,
   "id": "cc4ba88f",
   "metadata": {},
   "outputs": [],
   "source": [
    "a = 85\n",
    "b = 75\n",
    "c = 25\n"
   ]
  },
  {
   "cell_type": "code",
   "execution_count": 3,
   "id": "59553032",
   "metadata": {},
   "outputs": [
    {
     "data": {
      "text/plain": [
       "85"
      ]
     },
     "execution_count": 3,
     "metadata": {},
     "output_type": "execute_result"
    }
   ],
   "source": [
    "a"
   ]
  },
  {
   "cell_type": "code",
   "execution_count": 4,
   "id": "9790f4bd",
   "metadata": {},
   "outputs": [
    {
     "data": {
      "text/plain": [
       "75"
      ]
     },
     "execution_count": 4,
     "metadata": {},
     "output_type": "execute_result"
    }
   ],
   "source": [
    "b"
   ]
  },
  {
   "cell_type": "code",
   "execution_count": 5,
   "id": "4cceb05e",
   "metadata": {},
   "outputs": [
    {
     "data": {
      "text/plain": [
       "25"
      ]
     },
     "execution_count": 5,
     "metadata": {},
     "output_type": "execute_result"
    }
   ],
   "source": [
    "c"
   ]
  },
  {
   "cell_type": "code",
   "execution_count": 6,
   "id": "b7bcc2ce",
   "metadata": {},
   "outputs": [],
   "source": [
    "data = 23\n",
    "_data = 96"
   ]
  },
  {
   "cell_type": "code",
   "execution_count": 7,
   "id": "3f54df1f",
   "metadata": {},
   "outputs": [
    {
     "data": {
      "text/plain": [
       "96"
      ]
     },
     "execution_count": 7,
     "metadata": {},
     "output_type": "execute_result"
    }
   ],
   "source": [
    "_data "
   ]
  },
  {
   "cell_type": "code",
   "execution_count": 9,
   "id": "76845adb",
   "metadata": {},
   "outputs": [
    {
     "ename": "SyntaxError",
     "evalue": "invalid syntax (<ipython-input-9-92b6253d9094>, line 1)",
     "output_type": "error",
     "traceback": [
      "\u001b[1;36m  File \u001b[1;32m\"<ipython-input-9-92b6253d9094>\"\u001b[1;36m, line \u001b[1;32m1\u001b[0m\n\u001b[1;33m    4data = 89\u001b[0m\n\u001b[1;37m        ^\u001b[0m\n\u001b[1;31mSyntaxError\u001b[0m\u001b[1;31m:\u001b[0m invalid syntax\n"
     ]
    }
   ],
   "source": [
    "4data = 89"
   ]
  },
  {
   "cell_type": "code",
   "execution_count": 10,
   "id": "2fd8e8f3",
   "metadata": {},
   "outputs": [
    {
     "ename": "SyntaxError",
     "evalue": "invalid syntax (<ipython-input-10-5c0019f17fca>, line 1)",
     "output_type": "error",
     "traceback": [
      "\u001b[1;36m  File \u001b[1;32m\"<ipython-input-10-5c0019f17fca>\"\u001b[1;36m, line \u001b[1;32m1\u001b[0m\n\u001b[1;33m    4& = 5\u001b[0m\n\u001b[1;37m       ^\u001b[0m\n\u001b[1;31mSyntaxError\u001b[0m\u001b[1;31m:\u001b[0m invalid syntax\n"
     ]
    }
   ],
   "source": [
    "4& = 5"
   ]
  },
  {
   "cell_type": "code",
   "execution_count": 11,
   "id": "24732838",
   "metadata": {},
   "outputs": [],
   "source": [
    "data = 5\n",
    "DATA = 10\n"
   ]
  },
  {
   "cell_type": "code",
   "execution_count": 12,
   "id": "f758c6d3",
   "metadata": {},
   "outputs": [
    {
     "data": {
      "text/plain": [
       "10"
      ]
     },
     "execution_count": 12,
     "metadata": {},
     "output_type": "execute_result"
    }
   ],
   "source": [
    "DATA"
   ]
  },
  {
   "cell_type": "markdown",
   "id": "631d0182",
   "metadata": {},
   "source": [
    "## Ninja Technique\n",
    "\n",
    "* we can assign more variables in single line of code\n",
    "a,b,c,d,e,f = 100,23,12,34,66,45\n"
   ]
  },
  {
   "cell_type": "code",
   "execution_count": 13,
   "id": "ce2e24a3",
   "metadata": {},
   "outputs": [],
   "source": [
    "a,b,c,d = 50,'Shubham',0.12,\"Raje\""
   ]
  },
  {
   "cell_type": "code",
   "execution_count": 14,
   "id": "33ba30a6",
   "metadata": {},
   "outputs": [
    {
     "data": {
      "text/plain": [
       "50"
      ]
     },
     "execution_count": 14,
     "metadata": {},
     "output_type": "execute_result"
    }
   ],
   "source": [
    "a"
   ]
  },
  {
   "cell_type": "code",
   "execution_count": 15,
   "id": "8a6508fb",
   "metadata": {},
   "outputs": [
    {
     "data": {
      "text/plain": [
       "'Shubham'"
      ]
     },
     "execution_count": 15,
     "metadata": {},
     "output_type": "execute_result"
    }
   ],
   "source": [
    "b"
   ]
  },
  {
   "cell_type": "code",
   "execution_count": 16,
   "id": "27588010",
   "metadata": {},
   "outputs": [
    {
     "data": {
      "text/plain": [
       "0.12"
      ]
     },
     "execution_count": 16,
     "metadata": {},
     "output_type": "execute_result"
    }
   ],
   "source": [
    "c"
   ]
  },
  {
   "cell_type": "code",
   "execution_count": 17,
   "id": "90d553b1",
   "metadata": {},
   "outputs": [
    {
     "data": {
      "text/plain": [
       "'Raje'"
      ]
     },
     "execution_count": 17,
     "metadata": {},
     "output_type": "execute_result"
    }
   ],
   "source": [
    "d"
   ]
  },
  {
   "cell_type": "code",
   "execution_count": null,
   "id": "7263ce08",
   "metadata": {},
   "outputs": [],
   "source": []
  }
 ],
 "metadata": {
  "kernelspec": {
   "display_name": "Python 3",
   "language": "python",
   "name": "python3"
  },
  "language_info": {
   "codemirror_mode": {
    "name": "ipython",
    "version": 3
   },
   "file_extension": ".py",
   "mimetype": "text/x-python",
   "name": "python",
   "nbconvert_exporter": "python",
   "pygments_lexer": "ipython3",
   "version": "3.6.8"
  }
 },
 "nbformat": 4,
 "nbformat_minor": 5
}
