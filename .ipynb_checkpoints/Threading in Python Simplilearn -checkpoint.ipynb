{
 "cells": [
  {
   "cell_type": "markdown",
   "id": "02971465",
   "metadata": {},
   "source": [
    "## Process\n",
    "\n",
    "* A process is an executable instance of a computer, in short anything that is running on your computer that is process\n",
    "\n",
    "## Thread \n",
    "\n",
    "* A thread is a sequence of instructions in a program that can be executed independently of the remaining program \n",
    "\n",
    "* Thread exists within process "
   ]
  },
  {
   "cell_type": "code",
   "execution_count": 4,
   "id": "cd030054",
   "metadata": {},
   "outputs": [
    {
     "name": "stdout",
     "output_type": "stream",
     "text": [
      "This is a child thread\n",
      "This is a parent thread\n"
     ]
    }
   ],
   "source": [
    "# First way of creating a thread \n",
    "\n",
    "from threading import *\n",
    "def show():\n",
    "    print('This is a child thread')\n",
    "t = Thread(target = show())      # Creating thbe thread and the target function is show()\n",
    "t.start()              # starting the thread \n",
    "print('This is a parent thread')\n",
    "\n"
   ]
  },
  {
   "cell_type": "code",
   "execution_count": 14,
   "id": "073029a9",
   "metadata": {},
   "outputs": [
    {
     "name": "stdout",
     "output_type": "stream",
     "text": [
      "\n",
      "This is a child class\n",
      "\n",
      "This is a child class\n",
      "\n",
      "This is a main thread\n",
      "\n",
      "This is a main thread\n",
      "\n",
      "This is a main thread\n",
      "\n",
      "This is a main thread\n",
      "\n",
      "This is a main thread\n",
      "\n",
      "This is a child class\n",
      "\n",
      "This is a child class\n",
      "\n",
      "This is a child class\n"
     ]
    }
   ],
   "source": [
    "# Second way of creating a thread \n",
    "\n",
    "from threading import *\n",
    "class MyThread(Thread):    # we are including Thread class into a MyThread \n",
    "    def run(self):\n",
    "        for i in range(5):\n",
    "            print('\\nThis is a child class')   # \\n is used to give gap between the sentences \n",
    "t = MyThread()\n",
    "t.start()\n",
    "\n",
    "for i in range(5):\n",
    "    print('\\nThis is a main thread')\n"
   ]
  },
  {
   "cell_type": "code",
   "execution_count": 22,
   "id": "84f94ede",
   "metadata": {},
   "outputs": [
    {
     "name": "stdout",
     "output_type": "stream",
     "text": [
      "\n",
      "This is a Child thread\n",
      "\n",
      "This is a Child thread\n",
      "\n",
      "This is a Child thread\n",
      "\n",
      "This is a Child thread\n",
      "\n",
      "This is a Child thread\n",
      "\n",
      "This is a Parent Thread\n",
      "\n",
      "This is a Parent Thread\n",
      "\n",
      "This is a Parent Thread\n",
      "\n",
      "This is a Parent Thread\n",
      "\n",
      "This is a Parent Thread\n"
     ]
    }
   ],
   "source": [
    "# 3rd way of creating a thread \n",
    "from threading import *\n",
    "class Demo:\n",
    "    def show(self):\n",
    "        for i in range(5):\n",
    "            print('\\nThis is a Child thread')\n",
    "Obj = Demo()\n",
    "t = Thread(target=Obj.show)\n",
    "t.start()\n",
    "for i in range(5):\n",
    "    print('\\nThis is a Parent Thread')"
   ]
  },
  {
   "cell_type": "markdown",
   "id": "9aaee0da",
   "metadata": {},
   "source": [
    "# Multithreading \n",
    "\n",
    "* A model where multiple threads within a process execute independently whilw sharing the same resources is callled multithreading"
   ]
  },
  {
   "cell_type": "code",
   "execution_count": 32,
   "id": "3fb59476",
   "metadata": {},
   "outputs": [
    {
     "name": "stdout",
     "output_type": "stream",
     "text": [
      "The number is 1\n",
      "The number is 2\n",
      "The number is 3\n",
      "The number is 4\n",
      "The number is 5\n",
      "The double of the number is 2\n",
      "The double of the number is 4\n",
      "The double of the number is 6\n",
      "The double of the number is 8\n",
      "The double of the number is The square of the number is 1\n",
      "The square of the number is 10\n",
      "4\n",
      "The square of the number is 9\n",
      "The square of the number is 16\n",
      "The square of the number is 25\n",
      "This is the main Thread\n"
     ]
    }
   ],
   "source": [
    "# we want to print number of 1 to 5 printed with their doubles and their squares\n",
    "\n",
    "from threading import *\n",
    "class Demo:\n",
    "    def num(self):\n",
    "        for i in range(1,6):\n",
    "            print('The number is',i)\n",
    "    \n",
    "    def double(self):\n",
    "        for i in range(1,6):\n",
    "            print('The double of the number is',2*i)\n",
    "    \n",
    "    def square(self):\n",
    "        for i in range(1,6):\n",
    "            print('The square of the number is',i**2)\n",
    "\n",
    "# Now we created the Functions and to print this we need threads so now let's use Mutithreading\n",
    "\n",
    "Obj = Demo()\n",
    "t1 = Thread(target=Obj.num)\n",
    "t2 = Thread(target=Obj.double)\n",
    "t3 = Thread(target=Obj.square)\n",
    "\n",
    "# To start the threads\n",
    "\n",
    "t1.start()\n",
    "t2.start()\n",
    "t3.start()\n",
    "\n",
    "# to end it \n",
    "\n",
    "t1.join()\n",
    "t2.join()\n",
    "t3.join()\n",
    "\n",
    "print('This is the main Thread')\n",
    "            \n",
    "\n",
    "# This is Mixing the output"
   ]
  },
  {
   "cell_type": "code",
   "execution_count": 33,
   "id": "efd9b43e",
   "metadata": {},
   "outputs": [
    {
     "name": "stdout",
     "output_type": "stream",
     "text": [
      "The number is 1\n",
      "The double of the number is 2\n",
      "The square of the number is 1\n",
      "The number is 2\n",
      "The square of the number isThe double of the number is 4 4\n",
      "\n",
      "The number is 3\n",
      "The square of the number isThe double of the number is 6\n",
      " 9\n",
      "The number is 4\n",
      "The square of the number isThe double of the number is 8\n",
      " 16\n",
      "The number is 5\n",
      "The square of the number isThe double of the number is 10\n",
      " 25\n",
      "This is the main Thread\n"
     ]
    }
   ],
   "source": [
    "# we want to print number of 1 to 5 printed with their doubles and their squares\n",
    "\n",
    "from threading import *\n",
    "import time\n",
    "class Demo:\n",
    "    def num(self):\n",
    "        for i in range(1,6):\n",
    "            print('The number is',i)\n",
    "            time.sleep(1)   # It will put this function on sleep for 1 second \n",
    "    \n",
    "    def double(self):\n",
    "        for i in range(1,6):\n",
    "            print('The double of the number is',2*i)\n",
    "            time.sleep(1)   # It will put this function on sleep for 1 second \n",
    "            \n",
    "    def square(self):\n",
    "        for i in range(1,6):\n",
    "            print('The square of the number is',i**2)\n",
    "            time.sleep(1)    # It will put this function on sleep for 1 second \n",
    "\n",
    "# Now we created the Functions and to print this we need threads so now let's use Mutithreading\n",
    "\n",
    "Obj = Demo()\n",
    "t1 = Thread(target=Obj.num)\n",
    "t2 = Thread(target=Obj.double)\n",
    "t3 = Thread(target=Obj.square)\n",
    "\n",
    "# To start the threads\n",
    "\n",
    "t1.start()\n",
    "t2.start()\n",
    "t3.start()\n",
    "\n",
    "# to end it \n",
    "\n",
    "t1.join()\n",
    "t2.join()\n",
    "t3.join()\n",
    "\n",
    "print('This is the main Thread')\n",
    "            \n",
    "\n",
    "# even this is mixing"
   ]
  },
  {
   "cell_type": "code",
   "execution_count": 34,
   "id": "0c109249",
   "metadata": {},
   "outputs": [
    {
     "name": "stdout",
     "output_type": "stream",
     "text": [
      "The number is 1\n",
      "The double of the number is 2\n",
      "The square of the number is 1\n",
      "The number is 2\n",
      "The double of the number is 4\n",
      "The square of the number is 4\n",
      "The number is 3\n",
      "The double of the number is 6\n",
      "The square of the number is 9\n",
      "The number is 4\n",
      "The double of the number is 8\n",
      "The square of the number is 16\n",
      "The number is 5\n",
      "The double of the number is 10\n",
      "The square of the number is 25\n",
      "This is the main Thread\n"
     ]
    }
   ],
   "source": [
    "# we want to print number of 1 to 5 printed with their doubles and their squares\n",
    "\n",
    "from threading import *\n",
    "import time\n",
    "\n",
    "class Demo:\n",
    "    def num(self):\n",
    "        for i in range(1,6):\n",
    "            print('The number is',i)\n",
    "            time.sleep(1)   # It will put this function on sleep for 1 second \n",
    "    \n",
    "    def double(self):\n",
    "        for i in range(1,6):\n",
    "            print('The double of the number is',2*i)\n",
    "            time.sleep(1)   # It will put this function on sleep for 1 second \n",
    "            \n",
    "    def square(self):\n",
    "        for i in range(1,6):\n",
    "            print('The square of the number is',i**2)\n",
    "            time.sleep(1)    # It will put this function on sleep for 1 second \n",
    "\n",
    "# Now we created the Functions and to print this we need threads so now let's use Mutithreading\n",
    "\n",
    "Obj = Demo()\n",
    "t1 = Thread(target=Obj.num)\n",
    "t2 = Thread(target=Obj.double)\n",
    "t3 = Thread(target=Obj.square)\n",
    "\n",
    "# To start the threads\n",
    "\n",
    "t1.start()\n",
    "time.sleep(0.2)  # It will put this function on sleep for 0.2 second \n",
    "t2.start()\n",
    "time.sleep(0.2)  # It will put this function on sleep for 0.2 second \n",
    "t3.start()\n",
    "\n",
    "# to end it \n",
    "\n",
    "t1.join()\n",
    "t2.join()\n",
    "t3.join()\n",
    "\n",
    "print('This is the main Thread')\n",
    "            \n",
    "\n",
    "# This method is not mixing "
   ]
  },
  {
   "cell_type": "code",
   "execution_count": null,
   "id": "7ca2593c",
   "metadata": {},
   "outputs": [],
   "source": []
  }
 ],
 "metadata": {
  "kernelspec": {
   "display_name": "Python 3",
   "language": "python",
   "name": "python3"
  },
  "language_info": {
   "codemirror_mode": {
    "name": "ipython",
    "version": 3
   },
   "file_extension": ".py",
   "mimetype": "text/x-python",
   "name": "python",
   "nbconvert_exporter": "python",
   "pygments_lexer": "ipython3",
   "version": "3.6.8"
  }
 },
 "nbformat": 4,
 "nbformat_minor": 5
}
