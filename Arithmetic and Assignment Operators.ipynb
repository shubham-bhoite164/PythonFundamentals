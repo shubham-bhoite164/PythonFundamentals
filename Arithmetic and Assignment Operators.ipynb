{
 "cells": [
  {
   "cell_type": "markdown",
   "id": "cb6727ea",
   "metadata": {},
   "source": [
    "# 1. Addition Operator\n"
   ]
  },
  {
   "cell_type": "code",
   "execution_count": 1,
   "id": "731e48ad",
   "metadata": {},
   "outputs": [
    {
     "data": {
      "text/plain": [
       "13"
      ]
     },
     "execution_count": 1,
     "metadata": {},
     "output_type": "execute_result"
    }
   ],
   "source": [
    "5+8"
   ]
  },
  {
   "cell_type": "markdown",
   "id": "42abcccf",
   "metadata": {},
   "source": [
    "# 2. Subtraction Operator"
   ]
  },
  {
   "cell_type": "code",
   "execution_count": 2,
   "id": "c0cab624",
   "metadata": {},
   "outputs": [
    {
     "data": {
      "text/plain": [
       "5"
      ]
     },
     "execution_count": 2,
     "metadata": {},
     "output_type": "execute_result"
    }
   ],
   "source": [
    "10-5"
   ]
  },
  {
   "cell_type": "markdown",
   "id": "1694e768",
   "metadata": {},
   "source": [
    "# 3. Multiplication Operator"
   ]
  },
  {
   "cell_type": "code",
   "execution_count": 3,
   "id": "7a4b7b6f",
   "metadata": {},
   "outputs": [
    {
     "data": {
      "text/plain": [
       "1755"
      ]
     },
     "execution_count": 3,
     "metadata": {},
     "output_type": "execute_result"
    }
   ],
   "source": [
    "39*45"
   ]
  },
  {
   "cell_type": "markdown",
   "id": "abaae8ef",
   "metadata": {},
   "source": [
    "# 4. Dividend Operator"
   ]
  },
  {
   "cell_type": "code",
   "execution_count": 4,
   "id": "1d2223ab",
   "metadata": {},
   "outputs": [
    {
     "data": {
      "text/plain": [
       "5.0"
      ]
     },
     "execution_count": 4,
     "metadata": {},
     "output_type": "execute_result"
    }
   ],
   "source": [
    "25/5"
   ]
  },
  {
   "cell_type": "markdown",
   "id": "278bf673",
   "metadata": {},
   "source": [
    "# 5. Modulus Operator\n",
    "\n",
    "* It returns reminder of the devision \n",
    "\n",
    "* x%y"
   ]
  },
  {
   "cell_type": "code",
   "execution_count": 5,
   "id": "387e2091",
   "metadata": {},
   "outputs": [
    {
     "data": {
      "text/plain": [
       "19"
      ]
     },
     "execution_count": 5,
     "metadata": {},
     "output_type": "execute_result"
    }
   ],
   "source": [
    "456%23"
   ]
  },
  {
   "cell_type": "code",
   "execution_count": 6,
   "id": "48b53dc0",
   "metadata": {},
   "outputs": [
    {
     "data": {
      "text/plain": [
       "5"
      ]
     },
     "execution_count": 6,
     "metadata": {},
     "output_type": "execute_result"
    }
   ],
   "source": [
    "87645%8"
   ]
  },
  {
   "cell_type": "markdown",
   "id": "2bb65b12",
   "metadata": {},
   "source": [
    "# 6. Exponent Operator\n",
    "\n",
    "* Exponent Operator raises the power of left operand to the right operand \n",
    "\n",
    "* x**y"
   ]
  },
  {
   "cell_type": "code",
   "execution_count": 7,
   "id": "213b3e86",
   "metadata": {},
   "outputs": [
    {
     "data": {
      "text/plain": [
       "8"
      ]
     },
     "execution_count": 7,
     "metadata": {},
     "output_type": "execute_result"
    }
   ],
   "source": [
    "2**3"
   ]
  },
  {
   "cell_type": "markdown",
   "id": "3cd2c6ea",
   "metadata": {},
   "source": [
    "# 7. Floor division Operator\n",
    "\n",
    "* It returns Quotient rounded off to the nearest integer. Means it prints the value before the decimal point\n",
    "\n",
    "* x//y"
   ]
  },
  {
   "cell_type": "code",
   "execution_count": 8,
   "id": "79140cb9",
   "metadata": {},
   "outputs": [
    {
     "data": {
      "text/plain": [
       "6"
      ]
     },
     "execution_count": 8,
     "metadata": {},
     "output_type": "execute_result"
    }
   ],
   "source": [
    "36//6"
   ]
  },
  {
   "cell_type": "code",
   "execution_count": 9,
   "id": "e646f152",
   "metadata": {},
   "outputs": [
    {
     "data": {
      "text/plain": [
       "6"
      ]
     },
     "execution_count": 9,
     "metadata": {},
     "output_type": "execute_result"
    }
   ],
   "source": [
    "37//6"
   ]
  },
  {
   "cell_type": "markdown",
   "id": "e3fbe005",
   "metadata": {},
   "source": [
    "# Assignment Operator\n",
    "\n",
    "* They are used to assign the value to the variables "
   ]
  },
  {
   "cell_type": "markdown",
   "id": "348620ba",
   "metadata": {},
   "source": [
    "# 1. Equals to (=) Operator\n",
    "\n",
    "* Equals to (=) operator assigne the value of right hand operand to the left hand operand"
   ]
  },
  {
   "cell_type": "code",
   "execution_count": 10,
   "id": "8966f9fb",
   "metadata": {},
   "outputs": [],
   "source": [
    "x = 7\n",
    "y = 3.5"
   ]
  },
  {
   "cell_type": "markdown",
   "id": "200aec81",
   "metadata": {},
   "source": [
    "# 2. Add Equal to (+=) Operator\n",
    "\n",
    "* Add equal to (+=) Operator adds right hand operand to the left and operand and assign the result in left hand operant\n",
    "\n",
    "* x+=y"
   ]
  },
  {
   "cell_type": "code",
   "execution_count": 11,
   "id": "ac55bf5e",
   "metadata": {},
   "outputs": [
    {
     "data": {
      "text/plain": [
       "15"
      ]
     },
     "execution_count": 11,
     "metadata": {},
     "output_type": "execute_result"
    }
   ],
   "source": [
    "x = 7\n",
    "y = 8\n",
    "x+=y\n",
    "x"
   ]
  },
  {
   "cell_type": "code",
   "execution_count": 12,
   "id": "ef7b6334",
   "metadata": {},
   "outputs": [
    {
     "data": {
      "text/plain": [
       "1"
      ]
     },
     "execution_count": 12,
     "metadata": {},
     "output_type": "execute_result"
    }
   ],
   "source": [
    "x = -7\n",
    "y = 8\n",
    "x+=y\n",
    "x"
   ]
  },
  {
   "cell_type": "code",
   "execution_count": 13,
   "id": "1f1c8f4f",
   "metadata": {},
   "outputs": [
    {
     "data": {
      "text/plain": [
       "8"
      ]
     },
     "execution_count": 13,
     "metadata": {},
     "output_type": "execute_result"
    }
   ],
   "source": [
    "x = -7\n",
    "y = 8\n",
    "x+=y\n",
    "y"
   ]
  },
  {
   "cell_type": "code",
   "execution_count": 14,
   "id": "12a4d66d",
   "metadata": {},
   "outputs": [
    {
     "data": {
      "text/plain": [
       "1"
      ]
     },
     "execution_count": 14,
     "metadata": {},
     "output_type": "execute_result"
    }
   ],
   "source": [
    "x = -7\n",
    "y = 8\n",
    "y+=x\n",
    "y"
   ]
  },
  {
   "cell_type": "markdown",
   "id": "a9802794",
   "metadata": {},
   "source": [
    "# 3. Subtract Equal to (-=) Operator\n",
    "\n",
    "* Subtract equal to (-=) Operator Subtractss right hand operand to the left and operand and assign the result in left hand operant\n",
    "\n",
    "* x-=y"
   ]
  },
  {
   "cell_type": "code",
   "execution_count": 15,
   "id": "31a190fd",
   "metadata": {},
   "outputs": [
    {
     "data": {
      "text/plain": [
       "-1"
      ]
     },
     "execution_count": 15,
     "metadata": {},
     "output_type": "execute_result"
    }
   ],
   "source": [
    "x = 7\n",
    "y = 8\n",
    "x-=y\n",
    "x"
   ]
  },
  {
   "cell_type": "code",
   "execution_count": 16,
   "id": "f5642efc",
   "metadata": {},
   "outputs": [
    {
     "data": {
      "text/plain": [
       "9"
      ]
     },
     "execution_count": 16,
     "metadata": {},
     "output_type": "execute_result"
    }
   ],
   "source": [
    "x = 17\n",
    "y = 8\n",
    "x-=y\n",
    "x"
   ]
  },
  {
   "cell_type": "markdown",
   "id": "b1519fc9",
   "metadata": {},
   "source": [
    "# 4. Multiply Equal to (*=) Operator \n",
    "\n",
    "* Multiply equal to (*=) Operator multiplies right hand operand to the left and operand and assign the result in left hand operant\n",
    "\n",
    "* x*=y\n"
   ]
  },
  {
   "cell_type": "code",
   "execution_count": 17,
   "id": "1c24359d",
   "metadata": {},
   "outputs": [
    {
     "data": {
      "text/plain": [
       "56"
      ]
     },
     "execution_count": 17,
     "metadata": {},
     "output_type": "execute_result"
    }
   ],
   "source": [
    "x = 7\n",
    "y = 8\n",
    "x*=y\n",
    "x"
   ]
  },
  {
   "cell_type": "code",
   "execution_count": 18,
   "id": "addb794c",
   "metadata": {
    "scrolled": true
   },
   "outputs": [
    {
     "data": {
      "text/plain": [
       "8"
      ]
     },
     "execution_count": 18,
     "metadata": {},
     "output_type": "execute_result"
    }
   ],
   "source": [
    "x = 7\n",
    "y = 8\n",
    "x*=y\n",
    "y"
   ]
  },
  {
   "cell_type": "markdown",
   "id": "2560a781",
   "metadata": {},
   "source": [
    "# 5. Divide Equal to (/=) Operator \n",
    "\n",
    "* Divide equal to (/=) Operator divides left operand by right operand and assign the resut to the left hand operand \n",
    "\n",
    "* x/=y"
   ]
  },
  {
   "cell_type": "code",
   "execution_count": 19,
   "id": "6407b7d8",
   "metadata": {},
   "outputs": [
    {
     "data": {
      "text/plain": [
       "0.875"
      ]
     },
     "execution_count": 19,
     "metadata": {},
     "output_type": "execute_result"
    }
   ],
   "source": [
    "x = 7\n",
    "y = 8\n",
    "x/=y\n",
    "x"
   ]
  },
  {
   "cell_type": "markdown",
   "id": "6cd13055",
   "metadata": {},
   "source": [
    "# 6. Modulus equal to (%=) Operand \n",
    "\n",
    "* Modulus equal to (%=) Operator takes the module of left operand using right operand and assign the resut to the left hand operand \n",
    "\n",
    "* x%=y"
   ]
  },
  {
   "cell_type": "code",
   "execution_count": 20,
   "id": "fe470499",
   "metadata": {},
   "outputs": [
    {
     "data": {
      "text/plain": [
       "7"
      ]
     },
     "execution_count": 20,
     "metadata": {},
     "output_type": "execute_result"
    }
   ],
   "source": [
    "x = 7\n",
    "y = 8\n",
    "x%=y\n",
    "x"
   ]
  },
  {
   "cell_type": "code",
   "execution_count": 21,
   "id": "bb477bbe",
   "metadata": {},
   "outputs": [
    {
     "data": {
      "text/plain": [
       "2.0"
      ]
     },
     "execution_count": 21,
     "metadata": {},
     "output_type": "execute_result"
    }
   ],
   "source": [
    "x = 16\n",
    "y = 8\n",
    "x/=y\n",
    "x"
   ]
  },
  {
   "cell_type": "markdown",
   "id": "0236fcf9",
   "metadata": {},
   "source": [
    "# 7. Exponent equal to (**=) Operand \n",
    "\n",
    "* Exponent equal to (**=) Operator which raises the exponential power of the left operand to the value of the right operand, storing the result in the left operand "
   ]
  },
  {
   "cell_type": "code",
   "execution_count": 22,
   "id": "a80a1854",
   "metadata": {},
   "outputs": [
    {
     "data": {
      "text/plain": [
       "8"
      ]
     },
     "execution_count": 22,
     "metadata": {},
     "output_type": "execute_result"
    }
   ],
   "source": [
    "x = 2\n",
    "y = 3\n",
    "x**=y\n",
    "x"
   ]
  },
  {
   "cell_type": "markdown",
   "id": "3fd0d5ed",
   "metadata": {},
   "source": [
    "# 8. Floor equal to (//=) Operand \n",
    "\n",
    "* Floor equal to (//=) operator divides the value found in the left operand by the value of right operand. The integer result will be placed in the left operand \n",
    "\n",
    "* x//=y"
   ]
  },
  {
   "cell_type": "code",
   "execution_count": 23,
   "id": "adb2bd27",
   "metadata": {},
   "outputs": [
    {
     "data": {
      "text/plain": [
       "3"
      ]
     },
     "execution_count": 23,
     "metadata": {},
     "output_type": "execute_result"
    }
   ],
   "source": [
    "x = 24\n",
    "y = 8\n",
    "x//=y\n",
    "x"
   ]
  },
  {
   "cell_type": "code",
   "execution_count": 25,
   "id": "17d6d98e",
   "metadata": {},
   "outputs": [
    {
     "data": {
      "text/plain": [
       "3"
      ]
     },
     "execution_count": 25,
     "metadata": {},
     "output_type": "execute_result"
    }
   ],
   "source": [
    "x = 25\n",
    "y = 8\n",
    "x//=y\n",
    "x"
   ]
  },
  {
   "cell_type": "markdown",
   "id": "c8839f54",
   "metadata": {},
   "source": [
    "# Ninja Trick"
   ]
  },
  {
   "cell_type": "code",
   "execution_count": 26,
   "id": "db4d5fc0",
   "metadata": {},
   "outputs": [
    {
     "data": {
      "text/plain": [
       "10"
      ]
     },
     "execution_count": 26,
     "metadata": {},
     "output_type": "execute_result"
    }
   ],
   "source": [
    "x = 10\n",
    "x+5\n",
    "x"
   ]
  },
  {
   "cell_type": "code",
   "execution_count": 27,
   "id": "f7ee654e",
   "metadata": {},
   "outputs": [
    {
     "data": {
      "text/plain": [
       "15"
      ]
     },
     "execution_count": 27,
     "metadata": {},
     "output_type": "execute_result"
    }
   ],
   "source": [
    "x = 10\n",
    "x+=5 # x=x+5\n",
    "x"
   ]
  },
  {
   "cell_type": "code",
   "execution_count": null,
   "id": "439c4d8a",
   "metadata": {},
   "outputs": [],
   "source": []
  }
 ],
 "metadata": {
  "kernelspec": {
   "display_name": "Python 3",
   "language": "python",
   "name": "python3"
  },
  "language_info": {
   "codemirror_mode": {
    "name": "ipython",
    "version": 3
   },
   "file_extension": ".py",
   "mimetype": "text/x-python",
   "name": "python",
   "nbconvert_exporter": "python",
   "pygments_lexer": "ipython3",
   "version": "3.6.8"
  }
 },
 "nbformat": 4,
 "nbformat_minor": 5
}
