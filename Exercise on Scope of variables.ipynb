{
 "cells": [
  {
   "cell_type": "markdown",
   "id": "90767904",
   "metadata": {},
   "source": [
    "* A guy's name in school was \"john\" and in college his name was \"Max\" and in work location his name was\"peter\". after leaving each place he changed his name. Write a python program to create separate function for each with local variable name and each local variable should represent the respective name from each place."
   ]
  },
  {
   "cell_type": "code",
   "execution_count": 7,
   "id": "6b3cc22b",
   "metadata": {},
   "outputs": [
    {
     "name": "stdout",
     "output_type": "stream",
     "text": [
      "his work name is peter\n",
      "his college name is Max\n",
      "his school name is john\n"
     ]
    }
   ],
   "source": [
    "def school():\n",
    "    name = 'john'\n",
    "    print(f'his school name is {name}')\n",
    "\n",
    "def collage():\n",
    "    name = 'Max'\n",
    "    print(f'his college name is {name}' )\n",
    "    school()\n",
    "\n",
    "def work():\n",
    "    name = 'peter'\n",
    "    print(f'his work name is {name}')\n",
    "    collage()\n",
    "          \n",
    "work()"
   ]
  },
  {
   "cell_type": "markdown",
   "id": "90b04bff",
   "metadata": {},
   "source": [
    "* Write a python program to create a telephone directory which Should take a name as input and return phone number as output. Create separate function for each contact and keep phone number as global space"
   ]
  },
  {
   "cell_type": "code",
   "execution_count": null,
   "id": "5763fceb",
   "metadata": {},
   "outputs": [],
   "source": [
    "def func1():\n",
    "    a"
   ]
  },
  {
   "cell_type": "markdown",
   "id": "31c9667d",
   "metadata": {},
   "source": [
    "* A joined bank account has 2 users and initially the account balance is 0. If user \"A\" credited 500 and user \"B\" credited 600 what will be the account balance. keep the balance as global variable abd try to create different functions for each user and credit the amount from each user. finally show the total amount."
   ]
  },
  {
   "cell_type": "code",
   "execution_count": 1,
   "id": "336e1149",
   "metadata": {},
   "outputs": [
    {
     "name": "stdout",
     "output_type": "stream",
     "text": [
      "1100\n"
     ]
    }
   ],
   "source": [
    "balance = 0 \n",
    "\n",
    "def user_A(x):\n",
    "    global balance \n",
    "    balance = balance + x\n",
    "    \n",
    "def user_B(x):\n",
    "    global balance\n",
    "    balance = balance + x\n",
    "    \n",
    "user_A(500)\n",
    "user_B(600)\n",
    "print(balance)"
   ]
  },
  {
   "cell_type": "code",
   "execution_count": null,
   "id": "5775cac7",
   "metadata": {},
   "outputs": [],
   "source": []
  }
 ],
 "metadata": {
  "kernelspec": {
   "display_name": "Python 3",
   "language": "python",
   "name": "python3"
  },
  "language_info": {
   "codemirror_mode": {
    "name": "ipython",
    "version": 3
   },
   "file_extension": ".py",
   "mimetype": "text/x-python",
   "name": "python",
   "nbconvert_exporter": "python",
   "pygments_lexer": "ipython3",
   "version": "3.6.8"
  }
 },
 "nbformat": 4,
 "nbformat_minor": 5
}
