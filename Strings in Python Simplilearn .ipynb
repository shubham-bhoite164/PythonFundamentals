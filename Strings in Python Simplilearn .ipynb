{
 "cells": [
  {
   "cell_type": "markdown",
   "id": "2938b6c8",
   "metadata": {},
   "source": [
    "* When we try to add the double and single quotes "
   ]
  },
  {
   "cell_type": "code",
   "execution_count": 2,
   "id": "07be045d",
   "metadata": {},
   "outputs": [
    {
     "ename": "SyntaxError",
     "evalue": "invalid syntax (<ipython-input-2-71a5cbe23857>, line 1)",
     "output_type": "error",
     "traceback": [
      "\u001b[1;36m  File \u001b[1;32m\"<ipython-input-2-71a5cbe23857>\"\u001b[1;36m, line \u001b[1;32m1\u001b[0m\n\u001b[1;33m    stg = 'Tim said,\"I'm busy today\"   # It will show error\u001b[0m\n\u001b[1;37m                       ^\u001b[0m\n\u001b[1;31mSyntaxError\u001b[0m\u001b[1;31m:\u001b[0m invalid syntax\n"
     ]
    }
   ],
   "source": [
    "stg = 'Tim said,\"I'm busy today\"  #It will show error \n",
    "print(stg)"
   ]
  },
  {
   "cell_type": "code",
   "execution_count": 3,
   "id": "5f98c9c1",
   "metadata": {},
   "outputs": [
    {
     "name": "stdout",
     "output_type": "stream",
     "text": [
      "Tim said,\"I'm busy today\".\n"
     ]
    }
   ],
   "source": [
    "# To overcome the above misteke add \"\\\" in the string \n",
    "\n",
    "stg = 'Tim said,\"I\\'m busy today\".'  #It wont show error \n",
    "print(stg)"
   ]
  },
  {
   "cell_type": "markdown",
   "id": "d2466d91",
   "metadata": {},
   "source": [
    "* For strings of multiple line "
   ]
  },
  {
   "cell_type": "code",
   "execution_count": 4,
   "id": "8aed70c5",
   "metadata": {},
   "outputs": [
    {
     "ename": "SyntaxError",
     "evalue": "EOL while scanning string literal (<ipython-input-4-9c93fecca0f3>, line 1)",
     "output_type": "error",
     "traceback": [
      "\u001b[1;36m  File \u001b[1;32m\"<ipython-input-4-9c93fecca0f3>\"\u001b[1;36m, line \u001b[1;32m1\u001b[0m\n\u001b[1;33m    stg = \"hey there\u001b[0m\n\u001b[1;37m                     ^\u001b[0m\n\u001b[1;31mSyntaxError\u001b[0m\u001b[1;31m:\u001b[0m EOL while scanning string literal\n"
     ]
    }
   ],
   "source": [
    "stg = \"hey there \n",
    "I am Shubham\"    # It will show error\n",
    "print(stg)"
   ]
  },
  {
   "cell_type": "code",
   "execution_count": 5,
   "id": "18782f39",
   "metadata": {},
   "outputs": [
    {
     "name": "stdout",
     "output_type": "stream",
     "text": [
      "hey there \n",
      "I am Shubham\n"
     ]
    }
   ],
   "source": [
    "stg = '''hey there \n",
    "I am Shubham'''    # To overcome we have to use 3 single or double Quotes \n",
    "print(stg)"
   ]
  },
  {
   "cell_type": "markdown",
   "id": "fa4f8b68",
   "metadata": {},
   "source": [
    "* Lenght of String"
   ]
  },
  {
   "cell_type": "code",
   "execution_count": 6,
   "id": "55ab00e1",
   "metadata": {},
   "outputs": [
    {
     "name": "stdout",
     "output_type": "stream",
     "text": [
      "7\n"
     ]
    }
   ],
   "source": [
    "stg = 'Shubham'\n",
    "print(len(stg))"
   ]
  },
  {
   "cell_type": "code",
   "execution_count": 7,
   "id": "9bb6e119",
   "metadata": {},
   "outputs": [
    {
     "name": "stdout",
     "output_type": "stream",
     "text": [
      "a\n"
     ]
    }
   ],
   "source": [
    "# To extract any elemrnt from the array\n",
    "\n",
    "stg = 'Shubham'\n",
    "print(stg[5])   # where 5 ia an index number"
   ]
  },
  {
   "cell_type": "markdown",
   "id": "fcb74c0b",
   "metadata": {},
   "source": [
    "# Slicing "
   ]
  },
  {
   "cell_type": "code",
   "execution_count": 8,
   "id": "1c8d5d00",
   "metadata": {},
   "outputs": [
    {
     "name": "stdout",
     "output_type": "stream",
     "text": [
      "Shubham\n"
     ]
    }
   ],
   "source": [
    "print(stg)"
   ]
  },
  {
   "cell_type": "code",
   "execution_count": 9,
   "id": "3db30b4e",
   "metadata": {},
   "outputs": [
    {
     "name": "stdout",
     "output_type": "stream",
     "text": [
      "Shub\n"
     ]
    }
   ],
   "source": [
    "print(stg[0:4])"
   ]
  },
  {
   "cell_type": "code",
   "execution_count": 10,
   "id": "17a37c97",
   "metadata": {},
   "outputs": [
    {
     "name": "stdout",
     "output_type": "stream",
     "text": [
      "Shub\n",
      "Shubh\n",
      "am\n"
     ]
    }
   ],
   "source": [
    "print(stg[0:4])\n",
    "print(stg[:5])\n",
    "print(stg[5:])"
   ]
  },
  {
   "cell_type": "markdown",
   "id": "7a8ebb41",
   "metadata": {},
   "source": [
    "###  Amezing Inbuild methods"
   ]
  },
  {
   "cell_type": "code",
   "execution_count": 14,
   "id": "1221b36b",
   "metadata": {},
   "outputs": [
    {
     "name": "stdout",
     "output_type": "stream",
     "text": [
      "RAJ IS A GOOD BOY\n",
      "raj is a good boy\n",
      "9\n",
      "9\n"
     ]
    }
   ],
   "source": [
    "stg = 'Raj is a Good boy'\n",
    "\n",
    "# To print the entire string in the uppercase\n",
    "print(stg.upper())\n",
    "\n",
    "# To print the strig in lower case \n",
    "print(stg.lower())\n",
    "\n",
    "# To find the index of any character \n",
    "print(stg.find('G'))\n",
    "       #Or\n",
    "print(stg.index('G'))\n",
    "         "
   ]
  },
  {
   "cell_type": "code",
   "execution_count": 18,
   "id": "ebbd8e89",
   "metadata": {},
   "outputs": [
    {
     "name": "stdout",
     "output_type": "stream",
     "text": [
      "['Raj', 'is', 'a', 'Good', 'boy']\n"
     ]
    }
   ],
   "source": [
    "# To Split from the given string\n",
    "\n",
    "stg = 'Raj is a Good boy'\n",
    "print(stg.split(' '))"
   ]
  },
  {
   "cell_type": "code",
   "execution_count": 20,
   "id": "727cbdab",
   "metadata": {},
   "outputs": [
    {
     "name": "stdout",
     "output_type": "stream",
     "text": [
      "Raj is a Bad boy\n"
     ]
    }
   ],
   "source": [
    "# TO replace anythig in the string \n",
    "\n",
    "stg = 'Raj is a Good boy'\n",
    "print(stg.replace('Good','Bad'))"
   ]
  },
  {
   "cell_type": "markdown",
   "id": "7d1e939c",
   "metadata": {},
   "source": [
    "# rpartition method\n",
    "\n",
    "* It returns tuple and it always has 3 elements "
   ]
  },
  {
   "cell_type": "code",
   "execution_count": 34,
   "id": "2a44df9b",
   "metadata": {},
   "outputs": [
    {
     "name": "stdout",
     "output_type": "stream",
     "text": [
      "('Raj ', 'is', ' good')\n"
     ]
    }
   ],
   "source": [
    "stg = 'Raj is good'\n",
    "print(stg.rpartition('is'))"
   ]
  },
  {
   "cell_type": "code",
   "execution_count": null,
   "id": "4b9800f5",
   "metadata": {},
   "outputs": [],
   "source": []
  },
  {
   "cell_type": "markdown",
   "id": "a0e2f4c9",
   "metadata": {},
   "source": [
    "# Concanitaing the string"
   ]
  },
  {
   "cell_type": "code",
   "execution_count": 38,
   "id": "a90355cd",
   "metadata": {},
   "outputs": [
    {
     "name": "stdout",
     "output_type": "stream",
     "text": [
      "Good Morning\n"
     ]
    }
   ],
   "source": [
    "stg1 = 'Good'\n",
    "stg2 = 'Morning'\n",
    "stg = stg1+\" \"+stg2\n",
    "print(stg)"
   ]
  },
  {
   "cell_type": "code",
   "execution_count": 39,
   "id": "aa7b7027",
   "metadata": {},
   "outputs": [
    {
     "name": "stdout",
     "output_type": "stream",
     "text": [
      "Hey threre, all!\n"
     ]
    }
   ],
   "source": [
    "# Print     Hey there, all!\n",
    "# Shortcut way to do it \n",
    "stg1 = 'Hey'\n",
    "stg2 = 'threre'\n",
    "stg3 = 'all'\n",
    "stg = \"{} {}, {}!\".format(stg1,stg2,stg3)\n",
    "print(stg)"
   ]
  },
  {
   "cell_type": "code",
   "execution_count": null,
   "id": "9f60a972",
   "metadata": {},
   "outputs": [],
   "source": []
  }
 ],
 "metadata": {
  "kernelspec": {
   "display_name": "Python 3 (ipykernel)",
   "language": "python",
   "name": "python3"
  },
  "language_info": {
   "codemirror_mode": {
    "name": "ipython",
    "version": 3
   },
   "file_extension": ".py",
   "mimetype": "text/x-python",
   "name": "python",
   "nbconvert_exporter": "python",
   "pygments_lexer": "ipython3",
   "version": "3.9.6"
  }
 },
 "nbformat": 4,
 "nbformat_minor": 5
}
