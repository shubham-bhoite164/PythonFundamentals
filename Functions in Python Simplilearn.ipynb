{
 "cells": [
  {
   "cell_type": "markdown",
   "id": "02a87b50",
   "metadata": {},
   "source": [
    "* Function is a set of Code that performs some task"
   ]
  },
  {
   "cell_type": "markdown",
   "id": "841e214b",
   "metadata": {},
   "source": [
    "* Syntax :-\n",
    "      def function_name:\n",
    "           statement(s)"
   ]
  },
  {
   "cell_type": "code",
   "execution_count": null,
   "id": "85719109",
   "metadata": {},
   "outputs": [],
   "source": []
  },
  {
   "cell_type": "markdown",
   "id": "2da93131",
   "metadata": {},
   "source": [
    "* How to create a Function "
   ]
  },
  {
   "cell_type": "code",
   "execution_count": 1,
   "id": "1a43f206",
   "metadata": {},
   "outputs": [
    {
     "name": "stdout",
     "output_type": "stream",
     "text": [
      "Good morning\n"
     ]
    }
   ],
   "source": [
    "def welcome():    # welcome is a function name and always end the function with (). () this could be filled or left empty\n",
    "    print('Good moderning')\n",
    "welcome()         # here we are calling the function"
   ]
  },
  {
   "cell_type": "code",
   "execution_count": 7,
   "id": "64d5c878",
   "metadata": {},
   "outputs": [
    {
     "name": "stdout",
     "output_type": "stream",
     "text": [
      "The sum is 11\n",
      "The sum is 14\n"
     ]
    }
   ],
   "source": [
    "def add(a,b):\n",
    "    total = a+b\n",
    "    print('The sum is', total)\n",
    "add(5,6)\n",
    "# OR\n",
    "x = 4\n",
    "y = 10\n",
    "add(x,y)"
   ]
  },
  {
   "cell_type": "markdown",
   "id": "f3512949",
   "metadata": {},
   "source": [
    "# Key word Argument \n",
    "\n",
    "* we can specify which value can be stored in which variable"
   ]
  },
  {
   "cell_type": "code",
   "execution_count": 9,
   "id": "e9402cb8",
   "metadata": {},
   "outputs": [
    {
     "name": "stdout",
     "output_type": "stream",
     "text": [
      "a:5   b:6\n",
      "The sum is 11\n",
      "a:10   b:4\n",
      "The sum is 14\n"
     ]
    }
   ],
   "source": [
    "def add(b,a):\n",
    "    total = a+b\n",
    "    print('a:%d   b:%d' %(a,b))  # using this to check if the values are storing at the specific variables \n",
    "    print('The sum is', total)\n",
    "add(a = 5, b = 6)\n",
    "# OR\n",
    "a = x = 4\n",
    "b = y = 10\n",
    "add(x,y)"
   ]
  },
  {
   "cell_type": "markdown",
   "id": "11a9e94f",
   "metadata": {},
   "source": [
    "## If we store only one value "
   ]
  },
  {
   "cell_type": "code",
   "execution_count": 10,
   "id": "118bee52",
   "metadata": {},
   "outputs": [
    {
     "name": "stdout",
     "output_type": "stream",
     "text": [
      "a:10   b:0\n",
      "The sum is 10\n"
     ]
    }
   ],
   "source": [
    "def add(a = 0,b = 0):      # we provide the default value as 0.\n",
    "    total = a+b\n",
    "    print('a:%d   b:%d' %(a,b))  # using this to check if the values are storing at the specific variables \n",
    "    print('The sum is', total)\n",
    "add(10)"
   ]
  },
  {
   "cell_type": "markdown",
   "id": "20912696",
   "metadata": {},
   "source": [
    "## If we wanted to add any number "
   ]
  },
  {
   "cell_type": "code",
   "execution_count": 11,
   "id": "149e4e3e",
   "metadata": {},
   "outputs": [
    {
     "name": "stdout",
     "output_type": "stream",
     "text": [
      "Sum is 768\n"
     ]
    }
   ],
   "source": [
    "def add(*a):\n",
    "    total = 0\n",
    "    for i in a:\n",
    "        total=total+i\n",
    "    print('Sum is', total)\n",
    "add(19,23,43,44,5,6,5,6,76,76,34,3,4,34,345,45,)"
   ]
  },
  {
   "cell_type": "markdown",
   "id": "eadb6e11",
   "metadata": {},
   "source": [
    "## Call by referance"
   ]
  },
  {
   "cell_type": "code",
   "execution_count": 16,
   "id": "51c7248e",
   "metadata": {},
   "outputs": [
    {
     "name": "stdout",
     "output_type": "stream",
     "text": [
      "a:5   b:6\n",
      "a:2   b:3\n",
      "The sum is 5\n",
      "a:4   b:10\n",
      "x:4   y:10\n",
      "a:4   b:10\n",
      "a:2   b:3\n",
      "The sum is 5\n",
      "the sum is 14\n"
     ]
    }
   ],
   "source": [
    "def add(a,b):\n",
    "    print('a:%d   b:%d' %(a,b))  # to check the value of a,b\n",
    "    a = 2\n",
    "    b = 3\n",
    "    print('a:%d   b:%d' %(a,b))   # after chenging the value of a,b. lets check their value \n",
    "    total = a+b\n",
    "    print('The sum is', total)\n",
    "add(5,6)\n",
    "\n",
    "x = 4\n",
    "y = 10\n",
    "print('a:%d   b:%d' %(a,b))    # to check thae value of a,b\n",
    "print('x:%d   y:%d' %(x,y))    # to check the value of  x,y\n",
    "add(x,y)\n",
    "print('the sum is', x+y)"
   ]
  },
  {
   "cell_type": "code",
   "execution_count": 18,
   "id": "c8d36708",
   "metadata": {},
   "outputs": [
    {
     "name": "stdout",
     "output_type": "stream",
     "text": [
      "[1, 2, 3, 4, 5]\n",
      "[1, 2, 0, 4, 5]\n"
     ]
    }
   ],
   "source": [
    "def add(lst):\n",
    "    lst[2] = 0\n",
    "    \n",
    "lst = [1,2,3,4,5]\n",
    "print(lst)  \n",
    "add(lst)\n",
    "print(lst)"
   ]
  },
  {
   "cell_type": "markdown",
   "id": "ad1307a2",
   "metadata": {},
   "source": [
    "##  Using return "
   ]
  },
  {
   "cell_type": "code",
   "execution_count": 19,
   "id": "1f8d6993",
   "metadata": {},
   "outputs": [
    {
     "name": "stdout",
     "output_type": "stream",
     "text": [
      "the sum is 30\n"
     ]
    }
   ],
   "source": [
    "def add(a,b):\n",
    "    total = a+b\n",
    "    return total \n",
    "result = add(10,20)\n",
    "print('the sum is', result)"
   ]
  },
  {
   "cell_type": "code",
   "execution_count": null,
   "id": "de22143a",
   "metadata": {},
   "outputs": [],
   "source": []
  }
 ],
 "metadata": {
  "kernelspec": {
   "display_name": "Python 3",
   "language": "python",
   "name": "python3"
  },
  "language_info": {
   "codemirror_mode": {
    "name": "ipython",
    "version": 3
   },
   "file_extension": ".py",
   "mimetype": "text/x-python",
   "name": "python",
   "nbconvert_exporter": "python",
   "pygments_lexer": "ipython3",
   "version": "3.6.8"
  }
 },
 "nbformat": 4,
 "nbformat_minor": 5
}
