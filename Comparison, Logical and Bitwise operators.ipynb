{
 "cells": [
  {
   "cell_type": "markdown",
   "id": "d83ea17f",
   "metadata": {},
   "source": [
    "# Comparison Operator "
   ]
  },
  {
   "cell_type": "markdown",
   "id": "c12faaea",
   "metadata": {},
   "source": [
    "* Comparison Operators are used to compare one value to another. The result of comparison is boolean value, Which can be either True or False "
   ]
  },
  {
   "cell_type": "markdown",
   "id": "3343d742",
   "metadata": {},
   "source": [
    "## 1. Equal to (==) Operator \n",
    "\n",
    "* Equal to (==) operator checks whether the value of the operands are equal. If yes it reurns true "
   ]
  },
  {
   "cell_type": "code",
   "execution_count": 1,
   "id": "0ba6892e",
   "metadata": {},
   "outputs": [
    {
     "data": {
      "text/plain": [
       "True"
      ]
     },
     "execution_count": 1,
     "metadata": {},
     "output_type": "execute_result"
    }
   ],
   "source": [
    "2==2"
   ]
  },
  {
   "cell_type": "code",
   "execution_count": 2,
   "id": "149e98fc",
   "metadata": {},
   "outputs": [
    {
     "data": {
      "text/plain": [
       "False"
      ]
     },
     "execution_count": 2,
     "metadata": {},
     "output_type": "execute_result"
    }
   ],
   "source": [
    "x = 7\n",
    "y = 6\n",
    "x==y"
   ]
  },
  {
   "cell_type": "markdown",
   "id": "ef9354e0",
   "metadata": {},
   "source": [
    "## 2. Not equal to (!=) operator \n",
    "\n",
    "* Not equal to (!=) operator checks if the value of the two operands are not equal, then the condition becomes true  "
   ]
  },
  {
   "cell_type": "code",
   "execution_count": 3,
   "id": "119377eb",
   "metadata": {},
   "outputs": [
    {
     "data": {
      "text/plain": [
       "True"
      ]
     },
     "execution_count": 3,
     "metadata": {},
     "output_type": "execute_result"
    }
   ],
   "source": [
    "4!=7"
   ]
  },
  {
   "cell_type": "code",
   "execution_count": 4,
   "id": "1b21e446",
   "metadata": {},
   "outputs": [
    {
     "data": {
      "text/plain": [
       "True"
      ]
     },
     "execution_count": 4,
     "metadata": {},
     "output_type": "execute_result"
    }
   ],
   "source": [
    "x = 8\n",
    "y = 9\n",
    "x!=y"
   ]
  },
  {
   "cell_type": "code",
   "execution_count": 5,
   "id": "27aaa909",
   "metadata": {},
   "outputs": [
    {
     "data": {
      "text/plain": [
       "False"
      ]
     },
     "execution_count": 5,
     "metadata": {},
     "output_type": "execute_result"
    }
   ],
   "source": [
    "x = 8\n",
    "y = 8\n",
    "x!=y"
   ]
  },
  {
   "cell_type": "markdown",
   "id": "1332cbf1",
   "metadata": {},
   "source": [
    "## 3. Greater than (>) Operator \n",
    "\n",
    "* Greater than (>) Operator checks if the value of the left operand is greater then the value of right operand, then the condition becomes true "
   ]
  },
  {
   "cell_type": "code",
   "execution_count": 6,
   "id": "69d9c8d5",
   "metadata": {},
   "outputs": [
    {
     "data": {
      "text/plain": [
       "True"
      ]
     },
     "execution_count": 6,
     "metadata": {},
     "output_type": "execute_result"
    }
   ],
   "source": [
    "8>5"
   ]
  },
  {
   "cell_type": "code",
   "execution_count": 7,
   "id": "511c5ac2",
   "metadata": {},
   "outputs": [
    {
     "data": {
      "text/plain": [
       "False"
      ]
     },
     "execution_count": 7,
     "metadata": {},
     "output_type": "execute_result"
    }
   ],
   "source": [
    "5>8"
   ]
  },
  {
   "cell_type": "code",
   "execution_count": 8,
   "id": "3e6cc970",
   "metadata": {},
   "outputs": [
    {
     "data": {
      "text/plain": [
       "False"
      ]
     },
     "execution_count": 8,
     "metadata": {},
     "output_type": "execute_result"
    }
   ],
   "source": [
    "x = 34\n",
    "y = 45\n",
    "x>y"
   ]
  },
  {
   "cell_type": "markdown",
   "id": "b86a3060",
   "metadata": {},
   "source": [
    "## 4. Less than (<) Operator \n",
    "\n",
    "* Less than (<) Operator checks if the value of the left operand is Less then the value of right operand, then the condition becomes true "
   ]
  },
  {
   "cell_type": "code",
   "execution_count": 9,
   "id": "79c6c53a",
   "metadata": {},
   "outputs": [
    {
     "data": {
      "text/plain": [
       "True"
      ]
     },
     "execution_count": 9,
     "metadata": {},
     "output_type": "execute_result"
    }
   ],
   "source": [
    "5<7"
   ]
  },
  {
   "cell_type": "code",
   "execution_count": 10,
   "id": "624018c0",
   "metadata": {},
   "outputs": [
    {
     "data": {
      "text/plain": [
       "True"
      ]
     },
     "execution_count": 10,
     "metadata": {},
     "output_type": "execute_result"
    }
   ],
   "source": [
    "x = 34\n",
    "y = 45\n",
    "x<y"
   ]
  },
  {
   "cell_type": "markdown",
   "id": "12fb932b",
   "metadata": {},
   "source": [
    "## 5. Greater than equal to (>=) Operator \n",
    "\n",
    "* Greater than equal to (>=) Operator checks if the value of the left operand is greater than or euals to then the value of right operand, then the condition becomes true "
   ]
  },
  {
   "cell_type": "code",
   "execution_count": 11,
   "id": "e63968ae",
   "metadata": {},
   "outputs": [
    {
     "data": {
      "text/plain": [
       "False"
      ]
     },
     "execution_count": 11,
     "metadata": {},
     "output_type": "execute_result"
    }
   ],
   "source": [
    "4>=5"
   ]
  },
  {
   "cell_type": "code",
   "execution_count": 12,
   "id": "0d1026ba",
   "metadata": {},
   "outputs": [
    {
     "data": {
      "text/plain": [
       "False"
      ]
     },
     "execution_count": 12,
     "metadata": {},
     "output_type": "execute_result"
    }
   ],
   "source": [
    "x = 34\n",
    "y = 45\n",
    "x>=y"
   ]
  },
  {
   "cell_type": "markdown",
   "id": "ac5829f6",
   "metadata": {},
   "source": [
    "## 6. Less than equal to (<=) Operator \n",
    "\n",
    "* Less than equal to (<=) Operator checks if the value of the left operand is Less than or equal the value of right operand, then the condition becomes true."
   ]
  },
  {
   "cell_type": "code",
   "execution_count": 1,
   "id": "1a9d4cb6",
   "metadata": {},
   "outputs": [
    {
     "data": {
      "text/plain": [
       "True"
      ]
     },
     "execution_count": 1,
     "metadata": {},
     "output_type": "execute_result"
    }
   ],
   "source": [
    "12<=13"
   ]
  },
  {
   "cell_type": "code",
   "execution_count": 2,
   "id": "28a9c98f",
   "metadata": {},
   "outputs": [
    {
     "data": {
      "text/plain": [
       "True"
      ]
     },
     "execution_count": 2,
     "metadata": {},
     "output_type": "execute_result"
    }
   ],
   "source": [
    "x = 34\n",
    "y = 45\n",
    "x<=y"
   ]
  },
  {
   "cell_type": "markdown",
   "id": "cd27d126",
   "metadata": {},
   "source": [
    "# Logical Operator\n",
    "\n",
    "* Logical Operators are used to combine conditional statements "
   ]
  },
  {
   "cell_type": "markdown",
   "id": "9a2b2d53",
   "metadata": {},
   "source": [
    "## 1. AND Operator \n",
    "\n",
    "* And operator returns True if both Statements are True "
   ]
  },
  {
   "cell_type": "code",
   "execution_count": 3,
   "id": "6d18e452",
   "metadata": {},
   "outputs": [
    {
     "data": {
      "text/plain": [
       "False"
      ]
     },
     "execution_count": 3,
     "metadata": {},
     "output_type": "execute_result"
    }
   ],
   "source": [
    "x = 6\n",
    "x > 10 and x<1"
   ]
  },
  {
   "cell_type": "code",
   "execution_count": 4,
   "id": "b0678454",
   "metadata": {},
   "outputs": [
    {
     "data": {
      "text/plain": [
       "False"
      ]
     },
     "execution_count": 4,
     "metadata": {},
     "output_type": "execute_result"
    }
   ],
   "source": [
    "x = 6\n",
    "x > 10 and x>1"
   ]
  },
  {
   "cell_type": "code",
   "execution_count": 5,
   "id": "75b31269",
   "metadata": {},
   "outputs": [
    {
     "data": {
      "text/plain": [
       "True"
      ]
     },
     "execution_count": 5,
     "metadata": {},
     "output_type": "execute_result"
    }
   ],
   "source": [
    "x = 6\n",
    "x < 10 and x>1"
   ]
  },
  {
   "cell_type": "markdown",
   "id": "833a4e06",
   "metadata": {},
   "source": [
    "## 2. OR Operator \n",
    "\n",
    "* OR Operator Returns True if one of the statements is True "
   ]
  },
  {
   "cell_type": "code",
   "execution_count": 6,
   "id": "fd843ba6",
   "metadata": {},
   "outputs": [
    {
     "data": {
      "text/plain": [
       "True"
      ]
     },
     "execution_count": 6,
     "metadata": {},
     "output_type": "execute_result"
    }
   ],
   "source": [
    "x = 8\n",
    "x<10 or x>12"
   ]
  },
  {
   "cell_type": "markdown",
   "id": "ad66a947",
   "metadata": {},
   "source": [
    "## 2. NOT Operator \n",
    "\n",
    "* Not Operator Reverse thr logical satate of thr operand "
   ]
  },
  {
   "cell_type": "code",
   "execution_count": 7,
   "id": "8e8bc661",
   "metadata": {},
   "outputs": [
    {
     "data": {
      "text/plain": [
       "False"
      ]
     },
     "execution_count": 7,
     "metadata": {},
     "output_type": "execute_result"
    }
   ],
   "source": [
    "a = True \n",
    "not a"
   ]
  },
  {
   "cell_type": "markdown",
   "id": "c01cbf70",
   "metadata": {},
   "source": [
    "# Bitwise Operator \n",
    "\n",
    "* Bitwise operators are used to compare (Binary) numbers"
   ]
  },
  {
   "cell_type": "markdown",
   "id": "e18ab4ed",
   "metadata": {},
   "source": [
    "## 1. Bitwise AND (&) Operator \n",
    "\n",
    "* Bitwise AND(&) Operator sets each bit to 1 if both bits are 1. "
   ]
  },
  {
   "cell_type": "code",
   "execution_count": 8,
   "id": "65a03692",
   "metadata": {},
   "outputs": [
    {
     "data": {
      "text/plain": [
       "10"
      ]
     },
     "execution_count": 8,
     "metadata": {},
     "output_type": "execute_result"
    }
   ],
   "source": [
    "# 10 = 1010\n",
    "# 11 = 1011\n",
    "10&11"
   ]
  },
  {
   "cell_type": "markdown",
   "id": "e13cf364",
   "metadata": {},
   "source": [
    "a = 10 = 1010 (Binary)\n",
    "b = 4 =  0100 (Binary\n",
    "\n",
    "a & b = 1010\n",
    "         &\n",
    "        0100\n",
    "      = 0000\n",
    "      = 0 (Decimal)\n"
   ]
  },
  {
   "cell_type": "markdown",
   "id": "32acc89b",
   "metadata": {},
   "source": [
    "## 2. Bitwise OR (|) Operator \n",
    "\n",
    "* Bitwise OR Operator sets each bit to 1 if one of two bits is 1"
   ]
  },
  {
   "cell_type": "code",
   "execution_count": 18,
   "id": "9f8eae05",
   "metadata": {},
   "outputs": [
    {
     "data": {
      "text/plain": [
       "15"
      ]
     },
     "execution_count": 18,
     "metadata": {},
     "output_type": "execute_result"
    }
   ],
   "source": [
    "5|10"
   ]
  },
  {
   "cell_type": "markdown",
   "id": "bf9c707c",
   "metadata": {},
   "source": [
    "## 3. Birwise XOR (^) Operator \n",
    "\n",
    "* XOR operator Sets each bit to 1 if and only if one of two bits is 1"
   ]
  },
  {
   "cell_type": "code",
   "execution_count": 11,
   "id": "86c54f49",
   "metadata": {},
   "outputs": [
    {
     "data": {
      "text/plain": [
       "14"
      ]
     },
     "execution_count": 11,
     "metadata": {},
     "output_type": "execute_result"
    }
   ],
   "source": [
    "12^2"
   ]
  },
  {
   "cell_type": "code",
   "execution_count": 12,
   "id": "4d34ff63",
   "metadata": {},
   "outputs": [
    {
     "data": {
      "text/plain": [
       "6"
      ]
     },
     "execution_count": 12,
     "metadata": {},
     "output_type": "execute_result"
    }
   ],
   "source": [
    "10^12"
   ]
  },
  {
   "cell_type": "markdown",
   "id": "92e6958a",
   "metadata": {},
   "source": [
    "## 4. Bitwise NOT(~) Operator \n",
    "\n",
    "* Bitwise not operator inverts all the bits"
   ]
  },
  {
   "cell_type": "code",
   "execution_count": 13,
   "id": "5128aea9",
   "metadata": {},
   "outputs": [
    {
     "data": {
      "text/plain": [
       "-12"
      ]
     },
     "execution_count": 13,
     "metadata": {},
     "output_type": "execute_result"
    }
   ],
   "source": [
    "~11"
   ]
  },
  {
   "cell_type": "markdown",
   "id": "0ec0d9f7",
   "metadata": {},
   "source": [
    "## 5. Bitwise Left Shift (<<) Operator\n",
    "\n",
    "* Bitwise left shift operator move the left operands value to the left by the number of bits specified by the right operand "
   ]
  },
  {
   "cell_type": "code",
   "execution_count": 19,
   "id": "95cde342",
   "metadata": {},
   "outputs": [
    {
     "data": {
      "text/plain": [
       "320"
      ]
     },
     "execution_count": 19,
     "metadata": {},
     "output_type": "execute_result"
    }
   ],
   "source": [
    "10<<5"
   ]
  },
  {
   "cell_type": "markdown",
   "id": "e37d431f",
   "metadata": {},
   "source": [
    "##  6. Bitwise Right Shift (>>) Operator\n",
    "\n",
    "* Bitwise right shift operator move the left operands value to the right by the number of bits specified by the right operand "
   ]
  },
  {
   "cell_type": "code",
   "execution_count": 15,
   "id": "b3927a5b",
   "metadata": {},
   "outputs": [
    {
     "data": {
      "text/plain": [
       "1"
      ]
     },
     "execution_count": 15,
     "metadata": {},
     "output_type": "execute_result"
    }
   ],
   "source": [
    "10>>3"
   ]
  },
  {
   "cell_type": "markdown",
   "id": "2ffd09fe",
   "metadata": {},
   "source": [
    "# Ninja Trap"
   ]
  },
  {
   "cell_type": "code",
   "execution_count": 16,
   "id": "658ff1e4",
   "metadata": {},
   "outputs": [
    {
     "data": {
      "text/plain": [
       "7"
      ]
     },
     "execution_count": 16,
     "metadata": {},
     "output_type": "execute_result"
    }
   ],
   "source": [
    "10 and 7"
   ]
  },
  {
   "cell_type": "code",
   "execution_count": 17,
   "id": "eeca76ae",
   "metadata": {},
   "outputs": [
    {
     "data": {
      "text/plain": [
       "2"
      ]
     },
     "execution_count": 17,
     "metadata": {},
     "output_type": "execute_result"
    }
   ],
   "source": [
    "10 & 7"
   ]
  },
  {
   "cell_type": "code",
   "execution_count": null,
   "id": "35a6286e",
   "metadata": {},
   "outputs": [],
   "source": []
  }
 ],
 "metadata": {
  "kernelspec": {
   "display_name": "Python 3",
   "language": "python",
   "name": "python3"
  },
  "language_info": {
   "codemirror_mode": {
    "name": "ipython",
    "version": 3
   },
   "file_extension": ".py",
   "mimetype": "text/x-python",
   "name": "python",
   "nbconvert_exporter": "python",
   "pygments_lexer": "ipython3",
   "version": "3.6.8"
  }
 },
 "nbformat": 4,
 "nbformat_minor": 5
}
