{
 "cells": [
  {
   "cell_type": "markdown",
   "id": "cdc0cf26",
   "metadata": {},
   "source": [
    "## Data Types"
   ]
  },
  {
   "cell_type": "code",
   "execution_count": 1,
   "id": "b2a80b50",
   "metadata": {},
   "outputs": [
    {
     "data": {
      "text/plain": [
       "int"
      ]
     },
     "execution_count": 1,
     "metadata": {},
     "output_type": "execute_result"
    }
   ],
   "source": [
    "x = 100\n",
    "type(x)"
   ]
  },
  {
   "cell_type": "code",
   "execution_count": 2,
   "id": "1d09cb8c",
   "metadata": {},
   "outputs": [
    {
     "data": {
      "text/plain": [
       "float"
      ]
     },
     "execution_count": 2,
     "metadata": {},
     "output_type": "execute_result"
    }
   ],
   "source": [
    "x = 123.4\n",
    "type(x)"
   ]
  },
  {
   "cell_type": "code",
   "execution_count": 3,
   "id": "c218232e",
   "metadata": {},
   "outputs": [
    {
     "data": {
      "text/plain": [
       "str"
      ]
     },
     "execution_count": 3,
     "metadata": {},
     "output_type": "execute_result"
    }
   ],
   "source": [
    "# String is collection of characters \n",
    "\n",
    "x = 'Shubham'\n",
    "type(x)"
   ]
  },
  {
   "cell_type": "markdown",
   "id": "ae0d1b66",
   "metadata": {},
   "source": [
    "## List"
   ]
  },
  {
   "cell_type": "code",
   "execution_count": 4,
   "id": "66227d5b",
   "metadata": {},
   "outputs": [],
   "source": [
    "# List is the collection of variables \n",
    "x = [14,167,9]"
   ]
  },
  {
   "cell_type": "code",
   "execution_count": 5,
   "id": "9048e61e",
   "metadata": {},
   "outputs": [
    {
     "name": "stdout",
     "output_type": "stream",
     "text": [
      "[14, 167, 9]\n"
     ]
    }
   ],
   "source": [
    "print(x)"
   ]
  },
  {
   "cell_type": "code",
   "execution_count": 6,
   "id": "1309ef8a",
   "metadata": {},
   "outputs": [
    {
     "data": {
      "text/plain": [
       "list"
      ]
     },
     "execution_count": 6,
     "metadata": {},
     "output_type": "execute_result"
    }
   ],
   "source": [
    "type(x)"
   ]
  },
  {
   "cell_type": "code",
   "execution_count": 9,
   "id": "fc8c4578",
   "metadata": {},
   "outputs": [
    {
     "name": "stdout",
     "output_type": "stream",
     "text": [
      "9\n",
      "14\n"
     ]
    }
   ],
   "source": [
    "# Now how to extract elements from the list \n",
    "\n",
    "print(x[2])\n",
    "print(x[0])\n"
   ]
  },
  {
   "cell_type": "code",
   "execution_count": 10,
   "id": "aeab6f9d",
   "metadata": {},
   "outputs": [
    {
     "name": "stdout",
     "output_type": "stream",
     "text": [
      "[14, 167, 9]\n"
     ]
    }
   ],
   "source": [
    "print(x)"
   ]
  },
  {
   "cell_type": "code",
   "execution_count": 11,
   "id": "ab6e097a",
   "metadata": {},
   "outputs": [
    {
     "name": "stdout",
     "output_type": "stream",
     "text": [
      "[14, 167, 93]\n"
     ]
    }
   ],
   "source": [
    "# Now lets change the value in the list \n",
    "\n",
    "x[2] = 93\n",
    "print(x)"
   ]
  },
  {
   "cell_type": "markdown",
   "id": "9e90b7c7",
   "metadata": {},
   "source": [
    "##  Tuples\n",
    "\n",
    "* Tuples has round brackets and Lists have square brackets "
   ]
  },
  {
   "cell_type": "code",
   "execution_count": 12,
   "id": "7cdae4b8",
   "metadata": {},
   "outputs": [
    {
     "name": "stdout",
     "output_type": "stream",
     "text": [
      "(4, 8, 6)\n",
      "<class 'tuple'>\n"
     ]
    }
   ],
   "source": [
    "x = (4,8,6)\n",
    "print(x)\n",
    "print((type(x)))"
   ]
  },
  {
   "cell_type": "code",
   "execution_count": 13,
   "id": "893d60bb",
   "metadata": {},
   "outputs": [
    {
     "ename": "TypeError",
     "evalue": "'tuple' object is not callable",
     "output_type": "error",
     "traceback": [
      "\u001b[1;31m---------------------------------------------------------------------------\u001b[0m",
      "\u001b[1;31mTypeError\u001b[0m                                 Traceback (most recent call last)",
      "\u001b[1;32m<ipython-input-13-711c76e7b8c9>\u001b[0m in \u001b[0;36m<module>\u001b[1;34m\u001b[0m\n\u001b[1;32m----> 1\u001b[1;33m \u001b[0mprint\u001b[0m\u001b[1;33m(\u001b[0m\u001b[0mx\u001b[0m\u001b[1;33m(\u001b[0m\u001b[1;36m1\u001b[0m\u001b[1;33m)\u001b[0m\u001b[1;33m)\u001b[0m\u001b[1;33m\u001b[0m\u001b[1;33m\u001b[0m\u001b[0m\n\u001b[0m",
      "\u001b[1;31mTypeError\u001b[0m: 'tuple' object is not callable"
     ]
    }
   ],
   "source": [
    "print(x(1))"
   ]
  },
  {
   "cell_type": "markdown",
   "id": "ded1d824",
   "metadata": {},
   "source": [
    "* So the main difference between Lists and Tuples is we can access every single element of list but we can't access every element of Tuples. "
   ]
  },
  {
   "cell_type": "markdown",
   "id": "d484a952",
   "metadata": {},
   "source": [
    "* to assign the values in only one single line \n",
    "\n"
   ]
  },
  {
   "cell_type": "code",
   "execution_count": 14,
   "id": "42daedf7",
   "metadata": {},
   "outputs": [],
   "source": [
    "(x,y,z) = 5,10,7\n"
   ]
  },
  {
   "cell_type": "code",
   "execution_count": 15,
   "id": "abfc40ca",
   "metadata": {},
   "outputs": [
    {
     "name": "stdout",
     "output_type": "stream",
     "text": [
      "5\n",
      "10\n",
      "7\n"
     ]
    }
   ],
   "source": [
    "print(x)\n",
    "print(y)\n",
    "print(z)"
   ]
  },
  {
   "cell_type": "code",
   "execution_count": 16,
   "id": "aa87e27f",
   "metadata": {},
   "outputs": [],
   "source": [
    "# To assign the same value to multiple variable \n",
    "\n",
    "x = 1\n",
    "y = 1\n",
    "z = 1"
   ]
  },
  {
   "cell_type": "code",
   "execution_count": 17,
   "id": "53496369",
   "metadata": {},
   "outputs": [],
   "source": [
    "x = y = z = 1"
   ]
  },
  {
   "cell_type": "code",
   "execution_count": 18,
   "id": "562622a9",
   "metadata": {},
   "outputs": [
    {
     "name": "stdout",
     "output_type": "stream",
     "text": [
      "1\n"
     ]
    }
   ],
   "source": [
    "print(x)"
   ]
  },
  {
   "cell_type": "markdown",
   "id": "7863b6ba",
   "metadata": {},
   "source": [
    "# Rule for naming the variable \n",
    "\n",
    "* First character must be alphabets, numbers or underscores"
   ]
  },
  {
   "cell_type": "code",
   "execution_count": 19,
   "id": "b7a90dea",
   "metadata": {},
   "outputs": [],
   "source": [
    "abc = 100"
   ]
  },
  {
   "cell_type": "code",
   "execution_count": 20,
   "id": "3116e392",
   "metadata": {},
   "outputs": [],
   "source": [
    "_abc = 10"
   ]
  },
  {
   "cell_type": "code",
   "execution_count": 21,
   "id": "792ed274",
   "metadata": {},
   "outputs": [
    {
     "ename": "SyntaxError",
     "evalue": "invalid syntax (<ipython-input-21-80771803a911>, line 1)",
     "output_type": "error",
     "traceback": [
      "\u001b[1;36m  File \u001b[1;32m\"<ipython-input-21-80771803a911>\"\u001b[1;36m, line \u001b[1;32m1\u001b[0m\n\u001b[1;33m    3a = 12\u001b[0m\n\u001b[1;37m     ^\u001b[0m\n\u001b[1;31mSyntaxError\u001b[0m\u001b[1;31m:\u001b[0m invalid syntax\n"
     ]
    }
   ],
   "source": [
    "3a = 12\n",
    "\n",
    "# it will show error"
   ]
  },
  {
   "cell_type": "code",
   "execution_count": 22,
   "id": "34c3e5ec",
   "metadata": {},
   "outputs": [
    {
     "ename": "SyntaxError",
     "evalue": "invalid syntax (<ipython-input-22-f95c465a9616>, line 1)",
     "output_type": "error",
     "traceback": [
      "\u001b[1;36m  File \u001b[1;32m\"<ipython-input-22-f95c465a9616>\"\u001b[1;36m, line \u001b[1;32m1\u001b[0m\n\u001b[1;33m    @abc = 12\u001b[0m\n\u001b[1;37m         ^\u001b[0m\n\u001b[1;31mSyntaxError\u001b[0m\u001b[1;31m:\u001b[0m invalid syntax\n"
     ]
    }
   ],
   "source": [
    "@abc = 12\n",
    "\n",
    "# Invalid "
   ]
  },
  {
   "cell_type": "code",
   "execution_count": 23,
   "id": "819f1c41",
   "metadata": {},
   "outputs": [],
   "source": [
    "a100 = 23\n",
    "\n",
    "# valid"
   ]
  },
  {
   "cell_type": "code",
   "execution_count": 24,
   "id": "15668a21",
   "metadata": {},
   "outputs": [],
   "source": [
    "_a12 = 45\n",
    "\n",
    "# valid"
   ]
  },
  {
   "cell_type": "code",
   "execution_count": 25,
   "id": "0fed6edf",
   "metadata": {},
   "outputs": [
    {
     "ename": "SyntaxError",
     "evalue": "invalid syntax (<ipython-input-25-31a2624dffa7>, line 1)",
     "output_type": "error",
     "traceback": [
      "\u001b[1;36m  File \u001b[1;32m\"<ipython-input-25-31a2624dffa7>\"\u001b[1;36m, line \u001b[1;32m1\u001b[0m\n\u001b[1;33m    a99$ = 34\u001b[0m\n\u001b[1;37m       ^\u001b[0m\n\u001b[1;31mSyntaxError\u001b[0m\u001b[1;31m:\u001b[0m invalid syntax\n"
     ]
    }
   ],
   "source": [
    "a99$ = 34\n",
    "\n",
    "# Only include 'underscore' as a special character"
   ]
  },
  {
   "cell_type": "markdown",
   "id": "e71f8b29",
   "metadata": {},
   "source": [
    "* Variable names are case sensitive \n",
    "\n",
    "* a100 and A100 are different from each other "
   ]
  },
  {
   "cell_type": "code",
   "execution_count": 26,
   "id": "9bd5e6cc",
   "metadata": {},
   "outputs": [
    {
     "name": "stdout",
     "output_type": "stream",
     "text": [
      "200\n",
      "100\n"
     ]
    }
   ],
   "source": [
    "a100 = 100\n",
    "A100 = 200\n",
    "\n",
    "print(A100)\n",
    "print(a100)\n",
    "\n",
    "# they are completely different"
   ]
  },
  {
   "cell_type": "markdown",
   "id": "359520e2",
   "metadata": {},
   "source": [
    "* Cannot use words as break, class, Try"
   ]
  },
  {
   "cell_type": "code",
   "execution_count": 27,
   "id": "c1861d1b",
   "metadata": {},
   "outputs": [
    {
     "ename": "SyntaxError",
     "evalue": "invalid syntax (<ipython-input-27-34daa86cb8f6>, line 1)",
     "output_type": "error",
     "traceback": [
      "\u001b[1;36m  File \u001b[1;32m\"<ipython-input-27-34daa86cb8f6>\"\u001b[1;36m, line \u001b[1;32m1\u001b[0m\n\u001b[1;33m    break = 100\u001b[0m\n\u001b[1;37m          ^\u001b[0m\n\u001b[1;31mSyntaxError\u001b[0m\u001b[1;31m:\u001b[0m invalid syntax\n"
     ]
    }
   ],
   "source": [
    "break = 100"
   ]
  },
  {
   "cell_type": "markdown",
   "id": "752132df",
   "metadata": {},
   "source": [
    "# Arithmatic Operation "
   ]
  },
  {
   "cell_type": "code",
   "execution_count": 36,
   "id": "8a1cc146",
   "metadata": {},
   "outputs": [
    {
     "name": "stdout",
     "output_type": "stream",
     "text": [
      "30\n"
     ]
    }
   ],
   "source": [
    "x = 20\n",
    "y = 10\n",
    "result = x+y\n",
    "print(result)\n"
   ]
  },
  {
   "cell_type": "code",
   "execution_count": 37,
   "id": "09af14c2",
   "metadata": {},
   "outputs": [
    {
     "name": "stdout",
     "output_type": "stream",
     "text": [
      "10\n"
     ]
    }
   ],
   "source": [
    "result = x-y\n",
    "print(result)"
   ]
  },
  {
   "cell_type": "code",
   "execution_count": 38,
   "id": "04d11b29",
   "metadata": {},
   "outputs": [
    {
     "name": "stdout",
     "output_type": "stream",
     "text": [
      "200\n"
     ]
    }
   ],
   "source": [
    "result = x*y\n",
    "print(result)"
   ]
  },
  {
   "cell_type": "code",
   "execution_count": 39,
   "id": "0daed5e8",
   "metadata": {},
   "outputs": [
    {
     "name": "stdout",
     "output_type": "stream",
     "text": [
      "2.0\n"
     ]
    }
   ],
   "source": [
    "result = x/y\n",
    "print(result)"
   ]
  },
  {
   "cell_type": "code",
   "execution_count": 40,
   "id": "08f51eed",
   "metadata": {},
   "outputs": [
    {
     "name": "stdout",
     "output_type": "stream",
     "text": [
      "2\n"
     ]
    }
   ],
   "source": [
    "# To print result in integer use // \n",
    "\n",
    "result = x//y\n",
    "print(result)"
   ]
  },
  {
   "cell_type": "code",
   "execution_count": 41,
   "id": "6c9b916f",
   "metadata": {},
   "outputs": [
    {
     "name": "stdout",
     "output_type": "stream",
     "text": [
      "0.6666666666666666\n"
     ]
    }
   ],
   "source": [
    "result = 2/3\n",
    "print(result)"
   ]
  },
  {
   "cell_type": "code",
   "execution_count": 42,
   "id": "eec8af72",
   "metadata": {},
   "outputs": [
    {
     "name": "stdout",
     "output_type": "stream",
     "text": [
      "0\n"
     ]
    }
   ],
   "source": [
    "result = 2//3\n",
    "print(result)"
   ]
  },
  {
   "cell_type": "code",
   "execution_count": 43,
   "id": "f6b83e16",
   "metadata": {},
   "outputs": [
    {
     "name": "stdout",
     "output_type": "stream",
     "text": [
      "0\n"
     ]
    }
   ],
   "source": [
    "result = x%y    # % is Moulus AKA Mod\n",
    "# It gives reminder \n",
    "print(result)"
   ]
  },
  {
   "cell_type": "code",
   "execution_count": 44,
   "id": "a5464dfe",
   "metadata": {},
   "outputs": [
    {
     "name": "stdout",
     "output_type": "stream",
     "text": [
      "2\n"
     ]
    }
   ],
   "source": [
    "result = 23%7\n",
    "print(result)"
   ]
  },
  {
   "cell_type": "code",
   "execution_count": 45,
   "id": "697e4004",
   "metadata": {},
   "outputs": [
    {
     "name": "stdout",
     "output_type": "stream",
     "text": [
      "0.5508771929824562\n"
     ]
    }
   ],
   "source": [
    "x = 3.14\n",
    "y = 5.7\n",
    "result = x/y\n",
    "print(result)"
   ]
  },
  {
   "cell_type": "code",
   "execution_count": 46,
   "id": "30d31971",
   "metadata": {},
   "outputs": [
    {
     "name": "stdout",
     "output_type": "stream",
     "text": [
      "3.14\n"
     ]
    }
   ],
   "source": [
    "x = 3.14\n",
    "y = 5.7\n",
    "result = x%y\n",
    "print(result)"
   ]
  },
  {
   "cell_type": "markdown",
   "id": "59ba857d",
   "metadata": {},
   "source": [
    "# String Operations "
   ]
  },
  {
   "cell_type": "code",
   "execution_count": 48,
   "id": "96840e7f",
   "metadata": {},
   "outputs": [
    {
     "name": "stdout",
     "output_type": "stream",
     "text": [
      "S\n"
     ]
    }
   ],
   "source": [
    "dev = 'Shubham'\n",
    "print(dev[0])"
   ]
  },
  {
   "cell_type": "code",
   "execution_count": 49,
   "id": "367783c8",
   "metadata": {},
   "outputs": [
    {
     "name": "stdout",
     "output_type": "stream",
     "text": [
      "h\n"
     ]
    }
   ],
   "source": [
    "print(dev[4])"
   ]
  },
  {
   "cell_type": "markdown",
   "id": "a055e757",
   "metadata": {},
   "source": [
    "* Extract the characters from the string "
   ]
  },
  {
   "cell_type": "code",
   "execution_count": 51,
   "id": "031eb1fc",
   "metadata": {},
   "outputs": [
    {
     "name": "stdout",
     "output_type": "stream",
     "text": [
      "Shu\n"
     ]
    }
   ],
   "source": [
    "print(dev[0:3])  # printing the characters from 0 to 3"
   ]
  },
  {
   "cell_type": "code",
   "execution_count": 52,
   "id": "7d1ca08f",
   "metadata": {},
   "outputs": [
    {
     "name": "stdout",
     "output_type": "stream",
     "text": [
      "Shubha\n"
     ]
    }
   ],
   "source": [
    "print(dev[0:6])"
   ]
  },
  {
   "cell_type": "code",
   "execution_count": 53,
   "id": "eeeda4b9",
   "metadata": {},
   "outputs": [
    {
     "name": "stdout",
     "output_type": "stream",
     "text": [
      "hu\n"
     ]
    }
   ],
   "source": [
    "print(dev[1:3])"
   ]
  },
  {
   "cell_type": "code",
   "execution_count": 54,
   "id": "8542b8a7",
   "metadata": {},
   "outputs": [
    {
     "name": "stdout",
     "output_type": "stream",
     "text": [
      "Shu\n"
     ]
    }
   ],
   "source": [
    "print(dev[:3])"
   ]
  },
  {
   "cell_type": "markdown",
   "id": "34640c86",
   "metadata": {},
   "source": [
    "* To print from any character to the last character we no need to mention the last character \n",
    "\n",
    "* print(dev[5:])"
   ]
  },
  {
   "cell_type": "code",
   "execution_count": 55,
   "id": "2328e843",
   "metadata": {},
   "outputs": [
    {
     "name": "stdout",
     "output_type": "stream",
     "text": [
      "bham\n"
     ]
    }
   ],
   "source": [
    "print(dev[3:])"
   ]
  },
  {
   "cell_type": "code",
   "execution_count": 56,
   "id": "e478c1ad",
   "metadata": {},
   "outputs": [
    {
     "name": "stdout",
     "output_type": "stream",
     "text": [
      "Shubham\n"
     ]
    }
   ],
   "source": [
    "print(dev[0:20])  # we do not have 20 characters still it will print everything"
   ]
  },
  {
   "cell_type": "markdown",
   "id": "29dad3e5",
   "metadata": {},
   "source": [
    "# To find the length of the string"
   ]
  },
  {
   "cell_type": "code",
   "execution_count": 57,
   "id": "235f559a",
   "metadata": {},
   "outputs": [
    {
     "data": {
      "text/plain": [
       "7"
      ]
     },
     "execution_count": 57,
     "metadata": {},
     "output_type": "execute_result"
    }
   ],
   "source": [
    "len(dev)"
   ]
  },
  {
   "cell_type": "code",
   "execution_count": null,
   "id": "3a7034ad",
   "metadata": {},
   "outputs": [],
   "source": []
  }
 ],
 "metadata": {
  "kernelspec": {
   "display_name": "Python 3",
   "language": "python",
   "name": "python3"
  },
  "language_info": {
   "codemirror_mode": {
    "name": "ipython",
    "version": 3
   },
   "file_extension": ".py",
   "mimetype": "text/x-python",
   "name": "python",
   "nbconvert_exporter": "python",
   "pygments_lexer": "ipython3",
   "version": "3.6.8"
  }
 },
 "nbformat": 4,
 "nbformat_minor": 5
}
