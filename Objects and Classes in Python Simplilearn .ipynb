{
 "cells": [
  {
   "cell_type": "markdown",
   "id": "989c19e2",
   "metadata": {},
   "source": [
    "## What are Objects \n",
    "\n",
    "* just like we touch everything is object same in python every instanace is object"
   ]
  },
  {
   "cell_type": "markdown",
   "id": "d9e625e3",
   "metadata": {},
   "source": [
    "## What are classes \n",
    "\n",
    "* A class is a blueprint for similar object"
   ]
  },
  {
   "cell_type": "code",
   "execution_count": 4,
   "id": "2fc6b9b8",
   "metadata": {},
   "outputs": [
    {
     "name": "stdout",
     "output_type": "stream",
     "text": [
      "Hi I'm Sam\n",
      "I am eligible to vote\n"
     ]
    }
   ],
   "source": [
    "class Person :             # Creating a class \n",
    "    \n",
    "    def __init__(self):   \n",
    "        self.name='Sam'\n",
    "        self.gender='Male'\n",
    "        self.age= 22\n",
    "    \n",
    "    def talk(self):      # Now adding behaviour \n",
    "        print(\"Hi I'm\", self.name)\n",
    "    \n",
    "    def vote(self):\n",
    "        if self.age < 18:   # we are condition that if only the person is above 18 then only he can vote \n",
    "            print(\"I am not eligble to vote\")\n",
    "        else:\n",
    "            print(\"I am eligible to vote\")\n",
    "            \n",
    "obj = Person()            # creaing a object        \n",
    "Person.talk(obj)\n",
    "Person.vote(obj)\n",
    "        "
   ]
  },
  {
   "cell_type": "code",
   "execution_count": 6,
   "id": "036b227c",
   "metadata": {},
   "outputs": [
    {
     "name": "stdout",
     "output_type": "stream",
     "text": [
      "Hi I'm Sam\n",
      "I am eligible to vote\n"
     ]
    }
   ],
   "source": [
    "# Another easy method to do this only chnage in last 2 lines \n",
    "\n",
    "\n",
    "class Person :             # Creating a class \n",
    "    \n",
    "    def __init__(self):   \n",
    "        self.name='Sam'\n",
    "        self.gender='Male'\n",
    "        self.age= 22\n",
    "    \n",
    "    def talk(self):      # Now adding behaviour \n",
    "        print(\"Hi I'm\", self.name)\n",
    "    \n",
    "    def vote(self):\n",
    "        if self.age < 18:   # we are condition that if only the person is above 18 then only he can vote \n",
    "            print(\"I am not eligble to vote\")\n",
    "        else:\n",
    "            print(\"I am eligible to vote\")\n",
    "            \n",
    "obj = Person()            # creaing a object        \n",
    "obj.talk()\n",
    "obj.vote()"
   ]
  },
  {
   "cell_type": "code",
   "execution_count": 4,
   "id": "99a95c22",
   "metadata": {},
   "outputs": [
    {
     "name": "stdout",
     "output_type": "stream",
     "text": [
      "Sam Jasse\n",
      "Hi I'm Sam\n",
      "I am eligible to vote\n",
      "Hi I'm Jasse\n",
      "I am not eligble to vote\n"
     ]
    }
   ],
   "source": [
    "# Creating two objects \n",
    "\n",
    "class Person :             # Creating a class \n",
    "    \n",
    "    def __init__(self,n,g,a):   \n",
    "        self.name=n\n",
    "        self.gender=g\n",
    "        self.age=a\n",
    "    \n",
    "    def talk(self):      # Now adding behaviour \n",
    "        print(\"Hi I'm\", self.name)\n",
    "    \n",
    "    def vote(self):\n",
    "        if self.age < 18:   # we are condition that if only the person is above 18 then only he can vote \n",
    "            print(\"I am not eligble to vote\")\n",
    "        else:\n",
    "            print(\"I am eligible to vote\")\n",
    "            \n",
    "obj1 = Person('Sam','Male',22)            # creating a object 1\n",
    "obj2 = Person('Jasse','Female',16)        # creating a Object 2\n",
    "print(obj1.name, obj2.name)\n",
    "\n",
    "obj1.talk()     # calling talk\n",
    "obj1.vote()     # calling vote\n",
    "obj2.talk()     # calling talk \n",
    "obj2.vote()     # calling vote \n"
   ]
  },
  {
   "cell_type": "markdown",
   "id": "7311d57a",
   "metadata": {},
   "source": [
    "## Let us condider car \n",
    "\n",
    "* Attributes :- Data describing the object. for example, Year of manifacture, maximum speed \n",
    "    \n",
    "* Behaviour :- Methods on the attributes. for example, Display speed, change speed \n",
    "\n",
    "* Class :- class is a collection of similar objects. ex, BMW,FORD. but the cycle and truck are not included in it.\n",
    "\n",
    "\n",
    "\n",
    "\n",
    "\n"
   ]
  },
  {
   "cell_type": "code",
   "execution_count": 6,
   "id": "fa5b4abc",
   "metadata": {},
   "outputs": [
    {
     "name": "stdout",
     "output_type": "stream",
     "text": [
      "155 mph\n",
      "155 mph\n",
      "155 mph\n",
      "155 mph\n"
     ]
    }
   ],
   "source": [
    "class car:\n",
    "    \n",
    "    def getSpeed(self):      \n",
    "        print('155 mph')\n",
    "\n",
    "BMW = car()       # here BMW and FORD are the instance \n",
    "FORD = car()\n",
    "car.getSpeed(BMW)\n",
    "car.getSpeed(FORD)\n",
    "\n",
    "# OR \n",
    "\n",
    "BMW.getSpeed()\n",
    "FORD.getSpeed()\n",
    "    "
   ]
  },
  {
   "cell_type": "markdown",
   "id": "8bfd1c9b",
   "metadata": {},
   "source": [
    "## Using __init__"
   ]
  },
  {
   "cell_type": "code",
   "execution_count": 19,
   "id": "a890695f",
   "metadata": {},
   "outputs": [
    {
     "name": "stdout",
     "output_type": "stream",
     "text": [
      "maximum speed is 155\n",
      "maximum speed is 140\n",
      "The year is 2018\n",
      "The year is 2016\n"
     ]
    }
   ],
   "source": [
    "class car:\n",
    "    \n",
    "    def __init__(self,year,speed):\n",
    "        self.year = year\n",
    "        self.speed = speed\n",
    "    \n",
    "    def getSpeed(self):      \n",
    "        print('maximum speed is', self.speed)\n",
    "        \n",
    "    def year(self):\n",
    "        print('The year is', self.year)\n",
    "\n",
    "BMW = car(2018, 155)       # here BMW and FORD are the instance \n",
    "FORD = car(2016, 140)\n",
    "\n",
    "car.getSpeed(BMW)\n",
    "car.getSpeed(FORD)\n",
    "\n",
    "car.year(BMW)\n",
    "car.year(FORD)\n",
    "    "
   ]
  },
  {
   "cell_type": "markdown",
   "id": "c3649756",
   "metadata": {},
   "source": [
    "## Changing the instance "
   ]
  },
  {
   "cell_type": "code",
   "execution_count": 21,
   "id": "54be294b",
   "metadata": {},
   "outputs": [
    {
     "name": "stdout",
     "output_type": "stream",
     "text": [
      "maximum speed is 155\n",
      "maximum speed is 143\n"
     ]
    }
   ],
   "source": [
    "class car:\n",
    "    \n",
    "    def __init__(self,year,speed):\n",
    "        self.year = year\n",
    "        self.speed = speed\n",
    "    \n",
    "    def getSpeed(self):      \n",
    "        print('maximum speed is', self.speed)\n",
    "        \n",
    "    def year(self):\n",
    "        print('The year is', self.year)\n",
    "        \n",
    "    def setSpeed(self,speed):\n",
    "        self.speed = speed\n",
    "        \n",
    "\n",
    "BMW = car(2018, 155)       # here BMW is the instance \n",
    "\n",
    "car.getSpeed(BMW)        # First speed\n",
    "BMW.setSpeed(143)        # Chengign the speed\n",
    "car.getSpeed(BMW)        # chnaged speed \n",
    "\n",
    "    \n"
   ]
  },
  {
   "cell_type": "markdown",
   "id": "68ab6b95",
   "metadata": {},
   "source": [
    "# Inheritance "
   ]
  },
  {
   "cell_type": "markdown",
   "id": "7135037e",
   "metadata": {},
   "source": [
    "* It is a Mechanism for a new class to use the features of another class"
   ]
  },
  {
   "cell_type": "code",
   "execution_count": 27,
   "id": "1ad1e7dd",
   "metadata": {},
   "outputs": [
    {
     "name": "stdout",
     "output_type": "stream",
     "text": [
      "maximum speed is 155\n",
      "maximum speed is 150\n",
      "137\n"
     ]
    }
   ],
   "source": [
    "class car:\n",
    "    \n",
    "    def __init__(self,year,speed):\n",
    "        self.year = year\n",
    "        self.speed = speed\n",
    "    \n",
    "    def getSpeed(self):      \n",
    "        print('maximum speed is', self.speed)\n",
    "        \n",
    "    def year(self):\n",
    "        print('The year is', self.year)\n",
    "        \n",
    "    def setSpeed(self,speed):\n",
    "        self.speed = speed\n",
    "        \n",
    "\n",
    "BMW = car(2018, 155)     \n",
    "FORD = car(2016, 140)\n",
    "\n",
    "class Sedan(car):       # This is chlid class of car class \n",
    "    def accelerate(self):\n",
    "        print('137')\n",
    "    def openTrunk(self):\n",
    "        print('The trunk has been Opened')\n",
    "\n",
    "\n",
    "class SUV(car):         # Child class of car class\n",
    "    def accelerate(self):\n",
    "        print('127')\n",
    "Honda = Sedan(2018,150)\n",
    "\n",
    "car.getSpeed(BMW)\n",
    "car.getSpeed(Honda)\n",
    "\n",
    "Sedan.accelerate(Honda)"
   ]
  },
  {
   "cell_type": "markdown",
   "id": "4c20347d",
   "metadata": {},
   "source": [
    "# Encapsulation \n",
    "\n",
    "* The feature of preventing data from direct access is called Encapsulation"
   ]
  },
  {
   "cell_type": "markdown",
   "id": "7343a81d",
   "metadata": {},
   "source": [
    "# Polymorphism \n",
    "\n",
    "* It is feature of using the same function in multiple ways "
   ]
  }
 ],
 "metadata": {
  "kernelspec": {
   "display_name": "Python 3",
   "language": "python",
   "name": "python3"
  },
  "language_info": {
   "codemirror_mode": {
    "name": "ipython",
    "version": 3
   },
   "file_extension": ".py",
   "mimetype": "text/x-python",
   "name": "python",
   "nbconvert_exporter": "python",
   "pygments_lexer": "ipython3",
   "version": "3.6.8"
  }
 },
 "nbformat": 4,
 "nbformat_minor": 5
}
