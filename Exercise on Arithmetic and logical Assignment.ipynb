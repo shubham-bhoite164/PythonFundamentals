{
 "cells": [
  {
   "cell_type": "markdown",
   "id": "760a99ee",
   "metadata": {},
   "source": [
    "* If you are travelling from houston, TX to Austin, TX and then from Austin, TX to Dallas, TX. how will you calculate the total distance and required time for travelling if you are driving 70mph\n",
    "\n",
    "* # Houston to austin is 162 miles \n",
    "* # Austin to Dallas is 195 miles "
   ]
  },
  {
   "cell_type": "code",
   "execution_count": null,
   "id": "806204b7",
   "metadata": {},
   "outputs": [],
   "source": []
  },
  {
   "cell_type": "markdown",
   "id": "2c47cdc1",
   "metadata": {},
   "source": [
    "* Write a python program to find the area of triangle using \"Heron's Formula\"\n",
    "\n",
    "* Here is heron's formula \n",
    "  \n",
    "* Let a,b,c be the lenghts of the sides of triangle. The area is given by:\n",
    "*   Area = (p(p-a)*(p-b)*(p-c))**1/2\n",
    "*   Where the p is half the parameter or (a+b+c)/2"
   ]
  },
  {
   "cell_type": "code",
   "execution_count": null,
   "id": "32b2e158",
   "metadata": {},
   "outputs": [],
   "source": [
    "int(input())\n"
   ]
  }
 ],
 "metadata": {
  "kernelspec": {
   "display_name": "Python 3",
   "language": "python",
   "name": "python3"
  },
  "language_info": {
   "codemirror_mode": {
    "name": "ipython",
    "version": 3
   },
   "file_extension": ".py",
   "mimetype": "text/x-python",
   "name": "python",
   "nbconvert_exporter": "python",
   "pygments_lexer": "ipython3",
   "version": "3.6.8"
  }
 },
 "nbformat": 4,
 "nbformat_minor": 5
}
