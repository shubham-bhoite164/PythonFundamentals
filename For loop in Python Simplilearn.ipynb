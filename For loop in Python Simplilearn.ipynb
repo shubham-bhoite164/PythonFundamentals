{
 "cells": [
  {
   "cell_type": "code",
   "execution_count": 1,
   "id": "b536f996",
   "metadata": {},
   "outputs": [
    {
     "name": "stdout",
     "output_type": "stream",
     "text": [
      "1 Shubham\n"
     ]
    }
   ],
   "source": [
    "x = [1,4.2,'Shubham']      # we can use this method when the list is small\n",
    "print(x[0],x[2])"
   ]
  },
  {
   "cell_type": "code",
   "execution_count": 4,
   "id": "f88dd85e",
   "metadata": {},
   "outputs": [
    {
     "name": "stdout",
     "output_type": "stream",
     "text": [
      "1,4.2,Shubham,"
     ]
    }
   ],
   "source": [
    "x = [1,4.2,'Shubham'] \n",
    "for i in x:\n",
    "    print(i,end=',')"
   ]
  },
  {
   "cell_type": "code",
   "execution_count": 10,
   "id": "1ed26240",
   "metadata": {},
   "outputs": [
    {
     "name": "stdout",
     "output_type": "stream",
     "text": [
      "0 2 4 6 8 10 12 14 16 18 20 "
     ]
    }
   ],
   "source": [
    "# we want to print all the even numbers in the range of 0 to 20\n",
    "for i in range(0,21):\n",
    "    if i%2==0:\n",
    "        print(i,end=' ')\n",
    "    else:\n",
    "        continue"
   ]
  },
  {
   "cell_type": "code",
   "execution_count": 13,
   "id": "d3682a93",
   "metadata": {},
   "outputs": [
    {
     "name": "stdout",
     "output_type": "stream",
     "text": [
      "0 2 4 6 8 10 12 14 16 18 20 "
     ]
    }
   ],
   "source": [
    "# we can do above method by more easiest way \n",
    "\n",
    "for i in range(0,21,2):\n",
    "    print(i,end=' ')"
   ]
  },
  {
   "cell_type": "code",
   "execution_count": 16,
   "id": "8e7909be",
   "metadata": {},
   "outputs": [
    {
     "name": "stdout",
     "output_type": "stream",
     "text": [
      "110\n"
     ]
    }
   ],
   "source": [
    "# To add the all even numbers \n",
    "sum = 0\n",
    "for i in range(0,21):\n",
    "    if i%2==0:\n",
    "        sum=sum+i\n",
    "print(sum)"
   ]
  },
  {
   "cell_type": "markdown",
   "id": "a43b1ade",
   "metadata": {},
   "source": [
    "# Patterns "
   ]
  },
  {
   "cell_type": "code",
   "execution_count": 21,
   "id": "cc0cd741",
   "metadata": {},
   "outputs": [
    {
     "name": "stdout",
     "output_type": "stream",
     "text": [
      "enter a number5\n",
      "\n",
      "1\n",
      "12\n",
      "123\n",
      "1234\n"
     ]
    }
   ],
   "source": [
    "# to print \n",
    "#  1\n",
    "#  1 2\n",
    "#  1 2 3\n",
    "#  1 2 3 4\n",
    "#  1 2 3 4 5\n",
    "\n",
    "n = int(input('enter a number'))\n",
    "for i in range(1,n+1):\n",
    "    for j in range(1,i):\n",
    "        print(j,end='')\n",
    "    print()\n"
   ]
  },
  {
   "cell_type": "code",
   "execution_count": 23,
   "id": "24adae96",
   "metadata": {},
   "outputs": [
    {
     "name": "stdout",
     "output_type": "stream",
     "text": [
      "enter a number5\n",
      "\n",
      "1\n",
      "12\n",
      "123\n",
      "1234\n"
     ]
    }
   ],
   "source": [
    "n = int(input('enter a number'))\n",
    "for i in range(1,n+1):\n",
    "    for j in range(1,i):\n",
    "        print(j,end='')\n",
    "    print()"
   ]
  },
  {
   "cell_type": "markdown",
   "id": "5ab108ad",
   "metadata": {},
   "source": [
    "## To add two matrices \n",
    "\n",
    "* they should have same number of rows and coluomns "
   ]
  },
  {
   "cell_type": "code",
   "execution_count": 28,
   "id": "1a0a4a71",
   "metadata": {},
   "outputs": [
    {
     "name": "stdout",
     "output_type": "stream",
     "text": [
      "enter the number rows2\n",
      "enter the number columns2\n",
      "enter the 0 * 0 element1\n",
      "enter the 0 * 1 element2\n",
      "enter the 1 * 0 element3\n",
      "enter the 1 * 1 element4\n",
      "enter the 0 * 0 element5\n",
      "enter the 0 * 1 element6\n",
      "enter the 1 * 0 element7\n",
      "enter the 1 * 1 element8\n",
      "[[6, 8], [10, 12]]\n"
     ]
    }
   ],
   "source": [
    "r = int(input('enter the number rows'))\n",
    "c = int(input('enter the number columns'))\n",
    "x = []\n",
    "val = []\n",
    "for i in range(0,r):\n",
    "    for j in range(0,c):\n",
    "        val.insert(j,int(input('enter the %d * %d element' %(i,j))))\n",
    "    x.insert(i,val)\n",
    "    val = []\n",
    "y = []\n",
    "for i in range(0,r):\n",
    "    for j in range(0,c):\n",
    "        val.insert(j,int(input('enter the %d * %d element' %(i,j))))\n",
    "    y.insert(i,val)\n",
    "    val = []\n",
    "sum = []\n",
    "\n",
    "for i in range(0,r):\n",
    "    for j in range(0,c):\n",
    "        val.insert(j, x[i][j]+y[i][j])\n",
    "    sum.insert(i,val)\n",
    "    val = []\n",
    "print(sum)        "
   ]
  },
  {
   "cell_type": "code",
   "execution_count": null,
   "id": "cd829f1a",
   "metadata": {},
   "outputs": [],
   "source": []
  }
 ],
 "metadata": {
  "kernelspec": {
   "display_name": "Python 3",
   "language": "python",
   "name": "python3"
  },
  "language_info": {
   "codemirror_mode": {
    "name": "ipython",
    "version": 3
   },
   "file_extension": ".py",
   "mimetype": "text/x-python",
   "name": "python",
   "nbconvert_exporter": "python",
   "pygments_lexer": "ipython3",
   "version": "3.6.8"
  }
 },
 "nbformat": 4,
 "nbformat_minor": 5
}
