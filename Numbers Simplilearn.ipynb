{
 "cells": [
  {
   "cell_type": "markdown",
   "id": "e130adb3",
   "metadata": {},
   "source": [
    "* We know about the Integer, String, Float. Now let's move further"
   ]
  },
  {
   "cell_type": "code",
   "execution_count": 2,
   "id": "bc0c59e5",
   "metadata": {},
   "outputs": [
    {
     "data": {
      "text/plain": [
       "complex"
      ]
     },
     "execution_count": 2,
     "metadata": {},
     "output_type": "execute_result"
    }
   ],
   "source": [
    "num = 2+5j\n",
    "type(num)"
   ]
  },
  {
   "cell_type": "code",
   "execution_count": 3,
   "id": "0bf5b274",
   "metadata": {},
   "outputs": [
    {
     "data": {
      "text/plain": [
       "2.0"
      ]
     },
     "execution_count": 3,
     "metadata": {},
     "output_type": "execute_result"
    }
   ],
   "source": [
    "num.real  # to find real part "
   ]
  },
  {
   "cell_type": "code",
   "execution_count": 4,
   "id": "6b256bfe",
   "metadata": {},
   "outputs": [
    {
     "data": {
      "text/plain": [
       "5.0"
      ]
     },
     "execution_count": 4,
     "metadata": {},
     "output_type": "execute_result"
    }
   ],
   "source": [
    "num.imag  # to find imaginary part"
   ]
  },
  {
   "cell_type": "markdown",
   "id": "c2b0e8d2",
   "metadata": {},
   "source": [
    "# Conversion "
   ]
  },
  {
   "cell_type": "code",
   "execution_count": 5,
   "id": "b7c136cf",
   "metadata": {},
   "outputs": [
    {
     "name": "stdout",
     "output_type": "stream",
     "text": [
      "<class 'int'>\n"
     ]
    }
   ],
   "source": [
    "x = 192\n",
    "print(type(x))"
   ]
  },
  {
   "cell_type": "code",
   "execution_count": 6,
   "id": "bf7757d1",
   "metadata": {},
   "outputs": [
    {
     "name": "stdout",
     "output_type": "stream",
     "text": [
      "<class 'str'>\n"
     ]
    }
   ],
   "source": [
    "x = '192'     # after adding inverted comma it'll become string \n",
    "print(type(x))"
   ]
  },
  {
   "cell_type": "markdown",
   "id": "f42f7760",
   "metadata": {},
   "source": [
    "* Python stores the input given value as in the format of strig so sometimes we need to convert the given value into Integer or Float "
   ]
  },
  {
   "cell_type": "code",
   "execution_count": 8,
   "id": "e5102cbc",
   "metadata": {},
   "outputs": [
    {
     "data": {
      "text/plain": [
       "int"
      ]
     },
     "execution_count": 8,
     "metadata": {},
     "output_type": "execute_result"
    }
   ],
   "source": [
    "x = int(x)\n",
    "type(x)    # it will convert the strig into string"
   ]
  },
  {
   "cell_type": "code",
   "execution_count": 9,
   "id": "5dc836da",
   "metadata": {},
   "outputs": [
    {
     "data": {
      "text/plain": [
       "float"
      ]
     },
     "execution_count": 9,
     "metadata": {},
     "output_type": "execute_result"
    }
   ],
   "source": [
    "x = float(x)\n",
    "type(x)    # it will convert the strig into float"
   ]
  },
  {
   "cell_type": "code",
   "execution_count": 10,
   "id": "2f62a7fd",
   "metadata": {},
   "outputs": [
    {
     "name": "stdout",
     "output_type": "stream",
     "text": [
      "192.0\n"
     ]
    }
   ],
   "source": [
    "print(x)   # now it's float"
   ]
  },
  {
   "cell_type": "code",
   "execution_count": 11,
   "id": "97528ca5",
   "metadata": {},
   "outputs": [
    {
     "name": "stdout",
     "output_type": "stream",
     "text": [
      "<class 'complex'>\n",
      "(192+0j)\n"
     ]
    }
   ],
   "source": [
    "x = complex(x)\n",
    "print(type(x))\n",
    "print(x)"
   ]
  },
  {
   "cell_type": "code",
   "execution_count": 12,
   "id": "b6cf8614",
   "metadata": {},
   "outputs": [
    {
     "data": {
      "text/plain": [
       "(2+3j)"
      ]
     },
     "execution_count": 12,
     "metadata": {},
     "output_type": "execute_result"
    }
   ],
   "source": [
    "complex(2,3)   # to make a complex function "
   ]
  },
  {
   "cell_type": "markdown",
   "id": "b26bb7e5",
   "metadata": {},
   "source": [
    "# Functions "
   ]
  },
  {
   "cell_type": "code",
   "execution_count": 13,
   "id": "122c13c5",
   "metadata": {},
   "outputs": [
    {
     "name": "stdout",
     "output_type": "stream",
     "text": [
      "-7.5\n",
      "7.5\n"
     ]
    }
   ],
   "source": [
    "# Absolute Value \n",
    "\n",
    "x = -7.5\n",
    "print(x)\n",
    "print(abs(x))   # for absolute value of function "
   ]
  },
  {
   "cell_type": "code",
   "execution_count": 15,
   "id": "779cdc81",
   "metadata": {},
   "outputs": [
    {
     "name": "stdout",
     "output_type": "stream",
     "text": [
      "10\n",
      "22026.465794806718\n"
     ]
    }
   ],
   "source": [
    "# Exponentional value \n",
    "\n",
    "# it is used to find the e raised to the power.\n",
    "\n",
    "#For that we must \"import math\" library\n",
    "\n",
    "import math\n",
    "x = 10\n",
    "print(x)\n",
    "print(math.exp(x))   # for exponential value of function \n"
   ]
  },
  {
   "cell_type": "code",
   "execution_count": 16,
   "id": "a1584f16",
   "metadata": {},
   "outputs": [
    {
     "data": {
      "text/plain": [
       "2.718281828459045"
      ]
     },
     "execution_count": 16,
     "metadata": {},
     "output_type": "execute_result"
    }
   ],
   "source": [
    "math.e"
   ]
  },
  {
   "cell_type": "code",
   "execution_count": 17,
   "id": "d746a2f2",
   "metadata": {},
   "outputs": [
    {
     "data": {
      "text/plain": [
       "3.141592653589793"
      ]
     },
     "execution_count": 17,
     "metadata": {},
     "output_type": "execute_result"
    }
   ],
   "source": [
    "math.pi"
   ]
  },
  {
   "cell_type": "code",
   "execution_count": 18,
   "id": "45e3df20",
   "metadata": {},
   "outputs": [
    {
     "name": "stdout",
     "output_type": "stream",
     "text": [
      "5.0\n"
     ]
    }
   ],
   "source": [
    "# Now to find Squareroot \n",
    "\n",
    "print(math.sqrt(25))"
   ]
  },
  {
   "cell_type": "code",
   "execution_count": 19,
   "id": "1148b809",
   "metadata": {},
   "outputs": [
    {
     "name": "stdout",
     "output_type": "stream",
     "text": [
      "2.6457513110645907\n"
     ]
    }
   ],
   "source": [
    "print(math.sqrt(7))"
   ]
  },
  {
   "cell_type": "code",
   "execution_count": 20,
   "id": "bbea2070",
   "metadata": {},
   "outputs": [
    {
     "data": {
      "text/plain": [
       "656333434"
      ]
     },
     "execution_count": 20,
     "metadata": {},
     "output_type": "execute_result"
    }
   ],
   "source": [
    "# TO find the maximum value \n",
    "\n",
    "max(23,454,23,2,454,57,67,8787,78,7,87,656333434)"
   ]
  },
  {
   "cell_type": "code",
   "execution_count": 21,
   "id": "defb7016",
   "metadata": {},
   "outputs": [
    {
     "data": {
      "text/plain": [
       "2"
      ]
     },
     "execution_count": 21,
     "metadata": {},
     "output_type": "execute_result"
    }
   ],
   "source": [
    "# To find the minimum value \n",
    "\n",
    "min(23,2,34,5,4,5,6,56,6,56,56,56,56,56,56,5,63,43,4,32,32,434546,56)"
   ]
  },
  {
   "cell_type": "markdown",
   "id": "1ee70e64",
   "metadata": {},
   "source": [
    "# Creating List"
   ]
  },
  {
   "cell_type": "code",
   "execution_count": 46,
   "id": "d54a1811",
   "metadata": {},
   "outputs": [
    {
     "name": "stdout",
     "output_type": "stream",
     "text": [
      "[1, 2, 3, 4]\n"
     ]
    }
   ],
   "source": [
    "num = [1,2,3,4]\n",
    "print(num)          # Only Integers "
   ]
  },
  {
   "cell_type": "code",
   "execution_count": 23,
   "id": "80045d18",
   "metadata": {},
   "outputs": [
    {
     "name": "stdout",
     "output_type": "stream",
     "text": [
      "['a', 'b', 'c', 'd']\n"
     ]
    }
   ],
   "source": [
    "letter = ['a','b','c','d']\n",
    "print(letter)               # Only Letters"
   ]
  },
  {
   "cell_type": "code",
   "execution_count": 24,
   "id": "bc149d1d",
   "metadata": {},
   "outputs": [
    {
     "name": "stdout",
     "output_type": "stream",
     "text": [
      "['get', 'Shubham', 'nice']\n"
     ]
    }
   ],
   "source": [
    "stg = ['get','Shubham','nice'] \n",
    "print(stg)                    # Only Strings "
   ]
  },
  {
   "cell_type": "code",
   "execution_count": 29,
   "id": "a9fbf344",
   "metadata": {},
   "outputs": [
    {
     "name": "stdout",
     "output_type": "stream",
     "text": [
      "[1, 6, 'Shubham', 'good', 'nice']\n"
     ]
    }
   ],
   "source": [
    "mix = [1,6,'Shubham','good','nice']   \n",
    "print(mix)                   # All mix of int, letters, strings"
   ]
  },
  {
   "cell_type": "code",
   "execution_count": 27,
   "id": "65a437eb",
   "metadata": {},
   "outputs": [
    {
     "name": "stdout",
     "output_type": "stream",
     "text": [
      "[[1, 2], ['a', 'b']]\n"
     ]
    }
   ],
   "source": [
    "mat = [[1,2],['a','b']]\n",
    "print(mat)               # List containing List"
   ]
  },
  {
   "cell_type": "markdown",
   "id": "766246e2",
   "metadata": {},
   "source": [
    "# Accessing the element in the list "
   ]
  },
  {
   "cell_type": "code",
   "execution_count": 30,
   "id": "7cd09b1b",
   "metadata": {},
   "outputs": [
    {
     "name": "stdout",
     "output_type": "stream",
     "text": [
      "[1, 6, 'Shubham', 'good', 'nice']\n"
     ]
    }
   ],
   "source": [
    "print(mix)"
   ]
  },
  {
   "cell_type": "code",
   "execution_count": 31,
   "id": "85d05f1e",
   "metadata": {},
   "outputs": [
    {
     "data": {
      "text/plain": [
       "'Shubham'"
      ]
     },
     "execution_count": 31,
     "metadata": {},
     "output_type": "execute_result"
    }
   ],
   "source": [
    "mix[2]   # Accessing it from the start of the list\n",
    "        \n",
    "         # From start it starts with 0 index number"
   ]
  },
  {
   "cell_type": "code",
   "execution_count": 32,
   "id": "09a88f10",
   "metadata": {},
   "outputs": [
    {
     "data": {
      "text/plain": [
       "'Shubham'"
      ]
     },
     "execution_count": 32,
     "metadata": {},
     "output_type": "execute_result"
    }
   ],
   "source": [
    "mix[-3]   # Accessing it from the end of the list \n",
    "\n",
    "          # From end it starts with 1 index number"
   ]
  },
  {
   "cell_type": "code",
   "execution_count": 34,
   "id": "a185c3f5",
   "metadata": {},
   "outputs": [
    {
     "data": {
      "text/plain": [
       "[1, 6, 'Shubham']"
      ]
     },
     "execution_count": 34,
     "metadata": {},
     "output_type": "execute_result"
    }
   ],
   "source": [
    "mix[:3]\n"
   ]
  },
  {
   "cell_type": "code",
   "execution_count": 35,
   "id": "1d147bd6",
   "metadata": {},
   "outputs": [
    {
     "data": {
      "text/plain": [
       "['good', 'nice']"
      ]
     },
     "execution_count": 35,
     "metadata": {},
     "output_type": "execute_result"
    }
   ],
   "source": [
    "mix[3:]"
   ]
  },
  {
   "cell_type": "code",
   "execution_count": 36,
   "id": "dde9aa8d",
   "metadata": {},
   "outputs": [
    {
     "data": {
      "text/plain": [
       "['nice']"
      ]
     },
     "execution_count": 36,
     "metadata": {},
     "output_type": "execute_result"
    }
   ],
   "source": [
    "mix[4:]"
   ]
  },
  {
   "cell_type": "code",
   "execution_count": 37,
   "id": "72107432",
   "metadata": {},
   "outputs": [
    {
     "data": {
      "text/plain": [
       "[1, 'Shubham', 'nice']"
      ]
     },
     "execution_count": 37,
     "metadata": {},
     "output_type": "execute_result"
    }
   ],
   "source": [
    "# To find the every 2nd element from the list\n",
    "\n",
    "mix[::2]"
   ]
  },
  {
   "cell_type": "code",
   "execution_count": 38,
   "id": "c17bb889",
   "metadata": {},
   "outputs": [
    {
     "data": {
      "text/plain": [
       "['nice', 'good', 'Shubham', 6, 1]"
      ]
     },
     "execution_count": 38,
     "metadata": {},
     "output_type": "execute_result"
    }
   ],
   "source": [
    "# To print the list in reverse Order \n",
    "\n",
    "mix[::-1]"
   ]
  },
  {
   "cell_type": "markdown",
   "id": "6f336ef5",
   "metadata": {},
   "source": [
    "# Operations On the Lists "
   ]
  },
  {
   "cell_type": "code",
   "execution_count": 40,
   "id": "9a3ba1f8",
   "metadata": {},
   "outputs": [
    {
     "name": "stdout",
     "output_type": "stream",
     "text": [
      "[0, 0, 0, 0, 0, 0, 0, 0, 0, 0, 0, 0, 0, 0, 0, 0, 0, 0, 0, 0, 0, 0, 0, 0, 0, 0, 0, 0, 0, 0, 0, 0, 0, 0, 0, 0, 0, 0, 0, 0, 0, 0, 0, 0, 0, 0, 0, 0, 0, 0, 0, 0, 0, 0, 0, 0, 0, 0, 0, 0, 0, 0, 0, 0, 0, 0, 0, 0, 0, 0, 0, 0, 0, 0, 0, 0, 0, 0, 0, 0, 0, 0, 0, 0, 0, 0, 0, 0, 0, 0, 0, 0, 0, 0, 0, 0, 0, 0, 0, 0]\n"
     ]
    }
   ],
   "source": [
    "# To Print the element multiple times \n",
    "\n",
    "z = [0]*100\n",
    "print(z)     # So Hundred 0's got printed "
   ]
  },
  {
   "cell_type": "code",
   "execution_count": 41,
   "id": "7c2c1a71",
   "metadata": {},
   "outputs": [
    {
     "name": "stdout",
     "output_type": "stream",
     "text": [
      "['a', 'b', 'c', 'd']\n"
     ]
    }
   ],
   "source": [
    "# Lets bring the list's we used previously \n",
    "\n",
    "print(letter)"
   ]
  },
  {
   "cell_type": "code",
   "execution_count": 42,
   "id": "b0501dd6",
   "metadata": {},
   "outputs": [
    {
     "name": "stdout",
     "output_type": "stream",
     "text": [
      "['get', 'Shubham', 'nice']\n"
     ]
    }
   ],
   "source": [
    "print(stg)"
   ]
  },
  {
   "cell_type": "code",
   "execution_count": 43,
   "id": "a70d78ca",
   "metadata": {},
   "outputs": [
    {
     "name": "stdout",
     "output_type": "stream",
     "text": [
      "['a', 'b', 'c', 'd', 'get', 'Shubham', 'nice']\n"
     ]
    }
   ],
   "source": [
    "#Adding two lists \"Letter\" and \"stg\"\n",
    "conc = letter + stg  \n",
    "print(conc)"
   ]
  },
  {
   "cell_type": "markdown",
   "id": "b9688994",
   "metadata": {},
   "source": [
    "* Unpacking of the list \n"
   ]
  },
  {
   "cell_type": "code",
   "execution_count": 44,
   "id": "65fc0337",
   "metadata": {},
   "outputs": [
    {
     "name": "stdout",
     "output_type": "stream",
     "text": [
      "['h', 'e', 'y', ' ', 't', 'h', 'e', 'r', 'e']\n"
     ]
    }
   ],
   "source": [
    "var = list(\"hey there\")\n",
    "print(var)"
   ]
  },
  {
   "cell_type": "code",
   "execution_count": 47,
   "id": "97a63c33",
   "metadata": {},
   "outputs": [
    {
     "name": "stdout",
     "output_type": "stream",
     "text": [
      "[1, 2, 3, 4]\n"
     ]
    }
   ],
   "source": [
    "print(num)"
   ]
  },
  {
   "cell_type": "code",
   "execution_count": 48,
   "id": "b046a6c2",
   "metadata": {},
   "outputs": [
    {
     "name": "stdout",
     "output_type": "stream",
     "text": [
      "1\n",
      "[2, 3, 4]\n"
     ]
    }
   ],
   "source": [
    "# Now to separate '1' from '2,3,4'. Only to seprate first element \n",
    "\n",
    "one, *other = num\n",
    "print(one)\n",
    "print(other)        "
   ]
  },
  {
   "cell_type": "markdown",
   "id": "ed9f40e2",
   "metadata": {},
   "source": [
    "# Methods in Lists "
   ]
  },
  {
   "cell_type": "markdown",
   "id": "9a988020",
   "metadata": {},
   "source": [
    "* Append"
   ]
  },
  {
   "cell_type": "code",
   "execution_count": 52,
   "id": "8bcbfb1d",
   "metadata": {},
   "outputs": [
    {
     "name": "stdout",
     "output_type": "stream",
     "text": [
      "[1, 2, 3, 4]\n"
     ]
    }
   ],
   "source": [
    "print(num)"
   ]
  },
  {
   "cell_type": "code",
   "execution_count": 53,
   "id": "616bee76",
   "metadata": {},
   "outputs": [
    {
     "name": "stdout",
     "output_type": "stream",
     "text": [
      "[1, 2, 3, 4, 6]\n"
     ]
    }
   ],
   "source": [
    "# append it is used to add the element at the end of thr list \n",
    "\n",
    "num.append(6) # adding 6 at the end\n",
    "print(num)"
   ]
  },
  {
   "cell_type": "markdown",
   "id": "cc901664",
   "metadata": {},
   "source": [
    "* extend"
   ]
  },
  {
   "cell_type": "code",
   "execution_count": 57,
   "id": "159909a1",
   "metadata": {},
   "outputs": [
    {
     "name": "stdout",
     "output_type": "stream",
     "text": [
      "[1, 2, 3, 4, 6, 'get', 'Shubham', 'nice', 'get', 'Shubham', 'nice', 'get', 'Shubham', 'nice', 'get', 'Shubham', 'nice']\n"
     ]
    }
   ],
   "source": [
    "# extend is used to add the list in the list at the end \n",
    "\n",
    "num.extend(stg)# stg is the list mentioned previously\n",
    "print(num)"
   ]
  },
  {
   "cell_type": "markdown",
   "id": "264672ef",
   "metadata": {},
   "source": [
    "* insert . it is used to add the element in the middle of the list"
   ]
  },
  {
   "cell_type": "code",
   "execution_count": 60,
   "id": "5d343896",
   "metadata": {},
   "outputs": [],
   "source": [
    "num.insert(5,'Dada')"
   ]
  },
  {
   "cell_type": "code",
   "execution_count": 61,
   "id": "1efb00f8",
   "metadata": {},
   "outputs": [
    {
     "name": "stdout",
     "output_type": "stream",
     "text": [
      "[1, 2, 3, 4, 6, 'Dada', 'Shubham', 'get', 'Shubham', 'nice', 'get', 'Shubham', 'nice', 'get', 'Shubham', 'nice', 'get', 'Shubham', 'nice']\n"
     ]
    }
   ],
   "source": [
    "print(num)"
   ]
  },
  {
   "cell_type": "markdown",
   "id": "26f44211",
   "metadata": {},
   "source": [
    "* remove . It removes the element "
   ]
  },
  {
   "cell_type": "code",
   "execution_count": 62,
   "id": "7a6dd796",
   "metadata": {},
   "outputs": [
    {
     "name": "stdout",
     "output_type": "stream",
     "text": [
      "[1, 2, 3, 4, 6, 'Dada', 'Shubham', 'get', 'Shubham', 'nice', 'get', 'Shubham', 'nice', 'get', 'Shubham', 'nice', 'get', 'Shubham', 'nice']\n"
     ]
    }
   ],
   "source": [
    "print(num)"
   ]
  },
  {
   "cell_type": "code",
   "execution_count": 63,
   "id": "2e67af1f",
   "metadata": {},
   "outputs": [
    {
     "name": "stdout",
     "output_type": "stream",
     "text": [
      "[1, 2, 3, 4]\n"
     ]
    }
   ],
   "source": [
    "num = [1,2,3,4]\n",
    "print(num)"
   ]
  },
  {
   "cell_type": "code",
   "execution_count": 64,
   "id": "8f33854e",
   "metadata": {},
   "outputs": [
    {
     "name": "stdout",
     "output_type": "stream",
     "text": [
      "[1, 2, 4]\n"
     ]
    }
   ],
   "source": [
    "num.remove(3)\n",
    "print(num)"
   ]
  },
  {
   "cell_type": "markdown",
   "id": "196ad3e0",
   "metadata": {},
   "source": [
    "* sort  . To sort out the elements "
   ]
  },
  {
   "cell_type": "code",
   "execution_count": 66,
   "id": "cd843ae6",
   "metadata": {},
   "outputs": [
    {
     "name": "stdout",
     "output_type": "stream",
     "text": [
      "['a', 'b', 'g', 'h', 'u']\n"
     ]
    }
   ],
   "source": [
    "var1 = ['a','b','g','h','u']\n",
    "var1.sort()\n",
    "print(var1)"
   ]
  },
  {
   "cell_type": "markdown",
   "id": "b292397f",
   "metadata": {},
   "source": [
    "# Build in functions with lists \n"
   ]
  },
  {
   "cell_type": "code",
   "execution_count": 67,
   "id": "cbd87e78",
   "metadata": {},
   "outputs": [],
   "source": [
    "x = [9,17,14,4,90,55]"
   ]
  },
  {
   "cell_type": "markdown",
   "id": "39fa0407",
   "metadata": {},
   "source": [
    "* len  . is used to find the length of the function"
   ]
  },
  {
   "cell_type": "code",
   "execution_count": 68,
   "id": "bf4ee7da",
   "metadata": {},
   "outputs": [
    {
     "data": {
      "text/plain": [
       "6"
      ]
     },
     "execution_count": 68,
     "metadata": {},
     "output_type": "execute_result"
    }
   ],
   "source": [
    "len(x)"
   ]
  },
  {
   "cell_type": "markdown",
   "id": "12d3ce4a",
   "metadata": {},
   "source": [
    "* min  . gives minimum elemrnt \n",
    "\n",
    "* max  . gives maximimum of elemrnt "
   ]
  },
  {
   "cell_type": "code",
   "execution_count": 69,
   "id": "871671cf",
   "metadata": {},
   "outputs": [
    {
     "data": {
      "text/plain": [
       "4"
      ]
     },
     "execution_count": 69,
     "metadata": {},
     "output_type": "execute_result"
    }
   ],
   "source": [
    "min(x)"
   ]
  },
  {
   "cell_type": "code",
   "execution_count": 70,
   "id": "47779ee6",
   "metadata": {},
   "outputs": [
    {
     "data": {
      "text/plain": [
       "90"
      ]
     },
     "execution_count": 70,
     "metadata": {},
     "output_type": "execute_result"
    }
   ],
   "source": [
    "max(x)"
   ]
  },
  {
   "cell_type": "code",
   "execution_count": 71,
   "id": "4bdb492f",
   "metadata": {},
   "outputs": [
    {
     "data": {
      "text/plain": [
       "189"
      ]
     },
     "execution_count": 71,
     "metadata": {},
     "output_type": "execute_result"
    }
   ],
   "source": [
    "sum(x)     # gives sum of all elements "
   ]
  },
  {
   "cell_type": "code",
   "execution_count": 72,
   "id": "69bcdb17",
   "metadata": {},
   "outputs": [
    {
     "data": {
      "text/plain": [
       "31.5"
      ]
     },
     "execution_count": 72,
     "metadata": {},
     "output_type": "execute_result"
    }
   ],
   "source": [
    "sum(x)/len(x)    # it will give average of the list "
   ]
  },
  {
   "cell_type": "code",
   "execution_count": null,
   "id": "e2579716",
   "metadata": {},
   "outputs": [],
   "source": []
  }
 ],
 "metadata": {
  "kernelspec": {
   "display_name": "Python 3",
   "language": "python",
   "name": "python3"
  },
  "language_info": {
   "codemirror_mode": {
    "name": "ipython",
    "version": 3
   },
   "file_extension": ".py",
   "mimetype": "text/x-python",
   "name": "python",
   "nbconvert_exporter": "python",
   "pygments_lexer": "ipython3",
   "version": "3.6.8"
  }
 },
 "nbformat": 4,
 "nbformat_minor": 5
}
