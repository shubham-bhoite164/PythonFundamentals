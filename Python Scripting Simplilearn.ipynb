{
 "cells": [
  {
   "cell_type": "markdown",
   "id": "c93be3ea",
   "metadata": {},
   "source": [
    "## OS library "
   ]
  },
  {
   "cell_type": "code",
   "execution_count": 2,
   "id": "15a9bc86",
   "metadata": {},
   "outputs": [
    {
     "name": "stdout",
     "output_type": "stream",
     "text": [
      "C:\\Users\\Shubham Bhoite\\Python Fundamentals\n",
      "C:\\Users\\Shubham Bhoite\\Python Fundamentals\\Photos\n"
     ]
    }
   ],
   "source": [
    "import os\n",
    "\n",
    "def current_directory():\n",
    "    cwd = os.getcwd()\n",
    "    print(cwd)\n",
    "    \n",
    "def file_path(filename):\n",
    "    path = os.path.abspath((filename))\n",
    "    print(path)\n",
    "    \n",
    "current_directory()\n",
    "filename = 'Photos'\n",
    "file_path(filename)\n",
    "    "
   ]
  },
  {
   "cell_type": "markdown",
   "id": "0c6a26ea",
   "metadata": {},
   "source": [
    "## Time Module "
   ]
  },
  {
   "cell_type": "code",
   "execution_count": 10,
   "id": "798803a4",
   "metadata": {},
   "outputs": [
    {
     "name": "stdout",
     "output_type": "stream",
     "text": [
      "1626170135.719935\n",
      "time.struct_time(tm_year=2021, tm_mon=7, tm_mday=13, tm_hour=15, tm_min=25, tm_sec=35, tm_wday=1, tm_yday=194, tm_isdst=0)\n",
      "2021\n",
      "Tue Jul 13 15:25:35 2021\n"
     ]
    }
   ],
   "source": [
    "import time # 1st January 1970 is the starting time \n",
    "\n",
    "a = time.time()\n",
    "print(a)          # this will show how many seconds are passed since January 1970 \n",
    "\n",
    "# So we don't need the the above thing. so we use the function 'Local time'\n",
    "\n",
    "localtime = time.localtime(a)\n",
    "print(localtime)\n",
    "\n",
    "# Now to print in proper manner \n",
    "print(localtime.tm_year) # it will print year \n",
    "\n",
    "# To print in more proper manner \n",
    "\n",
    "print(time.ctime(a))\n"
   ]
  },
  {
   "cell_type": "markdown",
   "id": "206505f2",
   "metadata": {},
   "source": [
    "##  SMTP  \n",
    "\n",
    "* It is used to send the mails \n",
    "\n",
    "* it stands for simple mail transfrer protocall"
   ]
  },
  {
   "cell_type": "code",
   "execution_count": null,
   "id": "998c1245",
   "metadata": {},
   "outputs": [],
   "source": [
    "import smtplib \n",
    "\n",
    "# and we can continue the work but I don't need this "
   ]
  },
  {
   "cell_type": "markdown",
   "id": "8e56646e",
   "metadata": {},
   "source": [
    "### To print anything on seprate line \n",
    "\n",
    "* *args "
   ]
  },
  {
   "cell_type": "code",
   "execution_count": 5,
   "id": "d6857535",
   "metadata": {},
   "outputs": [
    {
     "name": "stdout",
     "output_type": "stream",
     "text": [
      "10\n",
      "11\n",
      "12\n",
      "234\n",
      "Shubham\n"
     ]
    }
   ],
   "source": [
    "def func(*args):     # we should always add * before args \n",
    "    for i in args:\n",
    "        print(i)\n",
    "        \n",
    "func(10,11,12,234,'Shubham')   # the beauty is we can print anything "
   ]
  },
  {
   "cell_type": "markdown",
   "id": "50d41dda",
   "metadata": {},
   "source": [
    "### To print anything with the pairs \n",
    "\n",
    "* *args,**kwargs"
   ]
  },
  {
   "cell_type": "code",
   "execution_count": 6,
   "id": "40fb2e93",
   "metadata": {},
   "outputs": [
    {
     "name": "stdout",
     "output_type": "stream",
     "text": [
      "('a', 2)\n",
      "('b', 4)\n",
      "('c', 5)\n",
      "('g', 4)\n"
     ]
    }
   ],
   "source": [
    "def func(*args,**kwargs):     \n",
    "    for i in kwargs.items():\n",
    "        print(i)\n",
    "        \n",
    "func(a=2,b=4,c=5,g=4) "
   ]
  },
  {
   "cell_type": "code",
   "execution_count": null,
   "id": "64d0af29",
   "metadata": {},
   "outputs": [],
   "source": []
  }
 ],
 "metadata": {
  "kernelspec": {
   "display_name": "Python 3 (ipykernel)",
   "language": "python",
   "name": "python3"
  },
  "language_info": {
   "codemirror_mode": {
    "name": "ipython",
    "version": 3
   },
   "file_extension": ".py",
   "mimetype": "text/x-python",
   "name": "python",
   "nbconvert_exporter": "python",
   "pygments_lexer": "ipython3",
   "version": "3.9.6"
  }
 },
 "nbformat": 4,
 "nbformat_minor": 5
}
