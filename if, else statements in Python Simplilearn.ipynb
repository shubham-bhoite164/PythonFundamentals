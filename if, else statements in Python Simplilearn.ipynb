{
 "cells": [
  {
   "cell_type": "code",
   "execution_count": 1,
   "id": "4ac8849a",
   "metadata": {},
   "outputs": [
    {
     "name": "stdout",
     "output_type": "stream",
     "text": [
      "This is outside the if block\n"
     ]
    }
   ],
   "source": [
    "a = 20\n",
    "if a>50:\n",
    "    print('This is the if body')\n",
    "print('This is outside the if block')"
   ]
  },
  {
   "cell_type": "markdown",
   "id": "1b3cf4c5",
   "metadata": {},
   "source": [
    "# If else Statement "
   ]
  },
  {
   "cell_type": "code",
   "execution_count": 2,
   "id": "f66286c5",
   "metadata": {},
   "outputs": [
    {
     "name": "stdout",
     "output_type": "stream",
     "text": [
      "This is in if block\n",
      "i is an even number\n"
     ]
    }
   ],
   "source": [
    "i = 20\n",
    "if i%2==0:\n",
    "    print('This is in if block')\n",
    "    print('i is an even number')\n",
    "else:\n",
    "    print('This is the else block')\n",
    "    print('i is an odd number')"
   ]
  },
  {
   "cell_type": "markdown",
   "id": "3833fd44",
   "metadata": {},
   "source": [
    "# Nasted if statement "
   ]
  },
  {
   "cell_type": "code",
   "execution_count": 1,
   "id": "99d8193f",
   "metadata": {},
   "outputs": [
    {
     "name": "stdout",
     "output_type": "stream",
     "text": [
      "c is an odd number less than 25\n"
     ]
    }
   ],
   "source": [
    "c = 21\n",
    "if c<25:\n",
    "    if c%2==0:\n",
    "        print('c is an even number less than 25')\n",
    "    else:\n",
    "        print('c is an odd number less than 25')\n",
    "else:\n",
    "    print('c is grater than 25')"
   ]
  },
  {
   "cell_type": "code",
   "execution_count": 2,
   "id": "9108548a",
   "metadata": {},
   "outputs": [
    {
     "name": "stdout",
     "output_type": "stream",
     "text": [
      "c is grater than 25\n"
     ]
    }
   ],
   "source": [
    "c = 50\n",
    "if c<25:\n",
    "    if c%2==0:\n",
    "        print('c is an even number less than 25')\n",
    "    else:\n",
    "        print('c is an odd number less than 25')\n",
    "else:\n",
    "    print('c is grater than 25')"
   ]
  },
  {
   "cell_type": "markdown",
   "id": "989869ba",
   "metadata": {},
   "source": [
    "# if - elif - else Statement"
   ]
  },
  {
   "cell_type": "code",
   "execution_count": 4,
   "id": "db39fa24",
   "metadata": {},
   "outputs": [
    {
     "name": "stdout",
     "output_type": "stream",
     "text": [
      "This is a consonant\n"
     ]
    }
   ],
   "source": [
    "var  = 'z'\n",
    "if var=='a':\n",
    "    print('this is a vovel a')\n",
    "elif var=='e':\n",
    "    print('this is s vovel e')\n",
    "elif var=='i':\n",
    "    print('this is s vovel i')\n",
    "elif var=='o':\n",
    "    print('this is s vovel o')\n",
    "elif var=='u':\n",
    "    print('this is s vovel u')\n",
    "else:\n",
    "    print('This is a consonant')"
   ]
  },
  {
   "cell_type": "code",
   "execution_count": 5,
   "id": "0e33bd41",
   "metadata": {},
   "outputs": [
    {
     "name": "stdout",
     "output_type": "stream",
     "text": [
      "this is s vovel o\n"
     ]
    }
   ],
   "source": [
    "var  = 'o'\n",
    "if var=='a':\n",
    "    print('this is a vovel a')\n",
    "elif var=='e':\n",
    "    print('this is s vovel e')\n",
    "elif var=='i':\n",
    "    print('this is s vovel i')\n",
    "elif var=='o':\n",
    "    print('this is s vovel o')\n",
    "elif var=='u':\n",
    "    print('this is s vovel u')\n",
    "else:\n",
    "    print('This is a consonant')"
   ]
  },
  {
   "cell_type": "code",
   "execution_count": null,
   "id": "95021d65",
   "metadata": {},
   "outputs": [],
   "source": []
  }
 ],
 "metadata": {
  "kernelspec": {
   "display_name": "Python 3",
   "language": "python",
   "name": "python3"
  },
  "language_info": {
   "codemirror_mode": {
    "name": "ipython",
    "version": 3
   },
   "file_extension": ".py",
   "mimetype": "text/x-python",
   "name": "python",
   "nbconvert_exporter": "python",
   "pygments_lexer": "ipython3",
   "version": "3.6.8"
  }
 },
 "nbformat": 4,
 "nbformat_minor": 5
}
