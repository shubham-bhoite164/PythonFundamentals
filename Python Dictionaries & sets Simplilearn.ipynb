{
 "cells": [
  {
   "cell_type": "markdown",
   "id": "34a6cdf1",
   "metadata": {},
   "source": [
    "* Dictionary is an unordered collection of data stored as a pair of key and value \n",
    "\n",
    "* Syntax\n",
    "  variable_name = {key1 : value1, key2 : value2,....}"
   ]
  },
  {
   "cell_type": "markdown",
   "id": "fe0e4fcd",
   "metadata": {},
   "source": [
    "# Sets and Dictionaries "
   ]
  },
  {
   "cell_type": "code",
   "execution_count": null,
   "id": "e3582165",
   "metadata": {},
   "outputs": [],
   "source": []
  },
  {
   "cell_type": "markdown",
   "id": "e253ffba",
   "metadata": {},
   "source": [
    "## Creating Dictionaries"
   ]
  },
  {
   "cell_type": "code",
   "execution_count": 1,
   "id": "cb4c5431",
   "metadata": {},
   "outputs": [
    {
     "name": "stdout",
     "output_type": "stream",
     "text": [
      "{}\n",
      "<class 'dict'>\n"
     ]
    }
   ],
   "source": [
    "d1 = {}\n",
    "print(d1)\n",
    "print(type(d1))"
   ]
  },
  {
   "cell_type": "code",
   "execution_count": 2,
   "id": "ea642e3a",
   "metadata": {},
   "outputs": [
    {
     "name": "stdout",
     "output_type": "stream",
     "text": [
      "{1: 'Welcome', 2: 'Python', 3: 'Tutorial'}\n"
     ]
    }
   ],
   "source": [
    "d2 = {1:\"Welcome\",2:\"Python\",3:\"Tutorial\"}   # These integers are keys and strings are values\n",
    "print(d2)"
   ]
  },
  {
   "cell_type": "code",
   "execution_count": 3,
   "id": "eb979aa9",
   "metadata": {},
   "outputs": [
    {
     "name": "stdout",
     "output_type": "stream",
     "text": [
      "{'name': 'sam', 'age': '22', 'profession': 'student'}\n"
     ]
    }
   ],
   "source": [
    "d3 = {\"name\":\"sam\",\"age\":\"22\",\"profession\":\"student\"}\n",
    "print(d3)"
   ]
  },
  {
   "cell_type": "code",
   "execution_count": 5,
   "id": "5e82b856",
   "metadata": {},
   "outputs": [
    {
     "name": "stdout",
     "output_type": "stream",
     "text": [
      "{1: 'Welcome', 2: 'Python', 3: 'Tutorial'}\n"
     ]
    }
   ],
   "source": [
    "d4 = dict({1:\"Welcome\",2:\"Python\",3:\"Tutorial\"})\n",
    "print(d4)"
   ]
  },
  {
   "cell_type": "code",
   "execution_count": 6,
   "id": "7fa8d9fa",
   "metadata": {},
   "outputs": [
    {
     "name": "stdout",
     "output_type": "stream",
     "text": [
      "{1: 'Welcome', 2: 'Python', 3: 'Tutorial'}\n"
     ]
    }
   ],
   "source": [
    "d5 = dict([(1,\"Welcome\"),(2,\"Python\"),(3,\"Tutorial\")])\n",
    "print(d5)"
   ]
  },
  {
   "cell_type": "markdown",
   "id": "87bd2544",
   "metadata": {},
   "source": [
    "### Nesting "
   ]
  },
  {
   "cell_type": "code",
   "execution_count": 12,
   "id": "b12a0236",
   "metadata": {},
   "outputs": [
    {
     "name": "stdout",
     "output_type": "stream",
     "text": [
      "{'name': {'frist': 'Sam', 'last': 'Crew'}, 'age': '22', 'profession': 'student'}\n"
     ]
    }
   ],
   "source": [
    "# Nesting in Dictionaries \n",
    "\n",
    "d6 = {\"name\":{\"frist\":\"Sam\",\"last\":\"Crew\"},\"age\":\"22\",\"profession\":\"student\"}\n",
    "print(d6)\n",
    "\n"
   ]
  },
  {
   "cell_type": "markdown",
   "id": "8934578a",
   "metadata": {},
   "source": [
    "## Adding elements in Dictionary"
   ]
  },
  {
   "cell_type": "code",
   "execution_count": 13,
   "id": "bd7688a2",
   "metadata": {},
   "outputs": [
    {
     "name": "stdout",
     "output_type": "stream",
     "text": [
      "{0: 'Welcome'}\n"
     ]
    }
   ],
   "source": [
    "d = {}\n",
    "d[0] = \"Welcome\"\n",
    "print(d)"
   ]
  },
  {
   "cell_type": "code",
   "execution_count": 14,
   "id": "9d1e4351",
   "metadata": {},
   "outputs": [
    {
     "name": "stdout",
     "output_type": "stream",
     "text": [
      "{0: 'Welcome', 1: ('How', 'are', 'you')}\n"
     ]
    }
   ],
   "source": [
    "d[1] = (\"How\",\"are\",\"you\")\n",
    "print(d)"
   ]
  },
  {
   "cell_type": "code",
   "execution_count": 15,
   "id": "847ffdb5",
   "metadata": {},
   "outputs": [
    {
     "name": "stdout",
     "output_type": "stream",
     "text": [
      "{0: 'Welcome', 1: ('How', 'are', 'you'), 'name': 'sam'}\n"
     ]
    }
   ],
   "source": [
    "d[\"name\"] = \"sam\"\n",
    "print(d)"
   ]
  },
  {
   "cell_type": "code",
   "execution_count": 16,
   "id": "e0cd75d5",
   "metadata": {},
   "outputs": [
    {
     "name": "stdout",
     "output_type": "stream",
     "text": [
      "{0: 'Welcome', 1: ('How', 'are', 'you'), 'name': {'frist': 'Sam', 'last': 'Crew'}}\n"
     ]
    }
   ],
   "source": [
    "d[\"name\"] = {\"frist\":\"Sam\",\"last\":\"Crew\"}\n",
    "print(d)"
   ]
  },
  {
   "cell_type": "markdown",
   "id": "cddce3b2",
   "metadata": {},
   "source": [
    "# Accessing the elements "
   ]
  },
  {
   "cell_type": "code",
   "execution_count": 11,
   "id": "adb206e8",
   "metadata": {},
   "outputs": [
    {
     "name": "stdout",
     "output_type": "stream",
     "text": [
      "{'are', 'How', 'you'}\n"
     ]
    }
   ],
   "source": [
    "print(d)"
   ]
  },
  {
   "cell_type": "code",
   "execution_count": 18,
   "id": "2bdec227",
   "metadata": {},
   "outputs": [
    {
     "name": "stdout",
     "output_type": "stream",
     "text": [
      "{'frist': 'Sam', 'last': 'Crew'}\n"
     ]
    }
   ],
   "source": [
    "print(d[\"name\"])"
   ]
  },
  {
   "cell_type": "code",
   "execution_count": 19,
   "id": "3edc9907",
   "metadata": {},
   "outputs": [
    {
     "name": "stdout",
     "output_type": "stream",
     "text": [
      "Sam\n"
     ]
    }
   ],
   "source": [
    "print(d[\"name\"][\"frist\"])"
   ]
  },
  {
   "cell_type": "code",
   "execution_count": 20,
   "id": "c21dd926",
   "metadata": {},
   "outputs": [
    {
     "name": "stdout",
     "output_type": "stream",
     "text": [
      "Crew\n"
     ]
    }
   ],
   "source": [
    "print(d[\"name\"][\"last\"])"
   ]
  },
  {
   "cell_type": "markdown",
   "id": "8d871624",
   "metadata": {},
   "source": [
    "# Deleting Elements "
   ]
  },
  {
   "cell_type": "code",
   "execution_count": 13,
   "id": "047acd65",
   "metadata": {},
   "outputs": [
    {
     "name": "stdout",
     "output_type": "stream",
     "text": [
      "{0: 'Welcome', 1: ('How', 'are', 'you'), 'name': {'frist': 'Sam', 'last': 'Crew'}}\n",
      "<class 'dict'>\n"
     ]
    }
   ],
   "source": [
    "d = {0: 'Welcome', 1: ('How', 'are', 'you'), 'name': {'frist': 'Sam', 'last': 'Crew'}}\n",
    "print(d)\n",
    "print(type(d))"
   ]
  },
  {
   "cell_type": "code",
   "execution_count": 14,
   "id": "36dc842b",
   "metadata": {},
   "outputs": [
    {
     "data": {
      "text/plain": [
       "'Welcome'"
      ]
     },
     "execution_count": 14,
     "metadata": {},
     "output_type": "execute_result"
    }
   ],
   "source": [
    "d.pop(0)    # here we has given the key as '0' so it will delete 'welcome'"
   ]
  },
  {
   "cell_type": "code",
   "execution_count": 15,
   "id": "2642462b",
   "metadata": {},
   "outputs": [
    {
     "name": "stdout",
     "output_type": "stream",
     "text": [
      "{1: ('How', 'are', 'you'), 'name': {'frist': 'Sam', 'last': 'Crew'}}\n"
     ]
    }
   ],
   "source": [
    "print(d)"
   ]
  },
  {
   "cell_type": "code",
   "execution_count": 17,
   "id": "3696aa06",
   "metadata": {},
   "outputs": [
    {
     "data": {
      "text/plain": [
       "('name', {'frist': 'Sam', 'last': 'Crew'})"
      ]
     },
     "execution_count": 17,
     "metadata": {},
     "output_type": "execute_result"
    }
   ],
   "source": [
    "d.popitem()    # No need to mention anything it will delete the last element of the dectionary"
   ]
  },
  {
   "cell_type": "code",
   "execution_count": 18,
   "id": "567b3c79",
   "metadata": {},
   "outputs": [
    {
     "name": "stdout",
     "output_type": "stream",
     "text": [
      "{1: ('How', 'are', 'you')}\n"
     ]
    }
   ],
   "source": [
    "print(d)"
   ]
  },
  {
   "cell_type": "code",
   "execution_count": 19,
   "id": "5f85a2b7",
   "metadata": {},
   "outputs": [
    {
     "name": "stdout",
     "output_type": "stream",
     "text": [
      "{0: 'Welcome', 1: ('How', 'are', 'you'), 'name': {'frist': 'Sam', 'last': 'Crew'}}\n"
     ]
    }
   ],
   "source": [
    "d = {0: 'Welcome', 1: ('How', 'are', 'you'), 'name': {'frist': 'Sam', 'last': 'Crew'}}\n",
    "print(d)"
   ]
  },
  {
   "cell_type": "markdown",
   "id": "1c7fcbbd",
   "metadata": {},
   "source": [
    "# Using Build in functions "
   ]
  },
  {
   "cell_type": "code",
   "execution_count": 20,
   "id": "c5446d2e",
   "metadata": {},
   "outputs": [
    {
     "data": {
      "text/plain": [
       "dict_values(['Welcome', ('How', 'are', 'you'), {'frist': 'Sam', 'last': 'Crew'}])"
      ]
     },
     "execution_count": 20,
     "metadata": {},
     "output_type": "execute_result"
    }
   ],
   "source": [
    "d.values()  # It will return the values "
   ]
  },
  {
   "cell_type": "code",
   "execution_count": 23,
   "id": "07b67caf",
   "metadata": {},
   "outputs": [
    {
     "data": {
      "text/plain": [
       "{'c': 1, 'b': 1, 'd': 1, 'a': 1}"
      ]
     },
     "execution_count": 23,
     "metadata": {},
     "output_type": "execute_result"
    }
   ],
   "source": [
    "keys = {'a','b','c','d'}\n",
    "value = 1\n",
    "dict.fromkeys(keys,value)      # It has ne sequence"
   ]
  },
  {
   "cell_type": "code",
   "execution_count": 24,
   "id": "1d091550",
   "metadata": {},
   "outputs": [],
   "source": [
    "d.clear()  # to clear the dict "
   ]
  },
  {
   "cell_type": "code",
   "execution_count": 25,
   "id": "b47a940a",
   "metadata": {},
   "outputs": [
    {
     "name": "stdout",
     "output_type": "stream",
     "text": [
      "{}\n"
     ]
    }
   ],
   "source": [
    "print(d)    # Now it's end "
   ]
  },
  {
   "cell_type": "code",
   "execution_count": null,
   "id": "ed6f44c6",
   "metadata": {},
   "outputs": [],
   "source": []
  }
 ],
 "metadata": {
  "kernelspec": {
   "display_name": "Python 3",
   "language": "python",
   "name": "python3"
  },
  "language_info": {
   "codemirror_mode": {
    "name": "ipython",
    "version": 3
   },
   "file_extension": ".py",
   "mimetype": "text/x-python",
   "name": "python",
   "nbconvert_exporter": "python",
   "pygments_lexer": "ipython3",
   "version": "3.6.8"
  }
 },
 "nbformat": 4,
 "nbformat_minor": 5
}
