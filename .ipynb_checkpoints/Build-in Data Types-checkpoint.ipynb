{
 "cells": [
  {
   "cell_type": "code",
   "execution_count": 1,
   "id": "1ebc2ee0",
   "metadata": {},
   "outputs": [],
   "source": [
    "x = 4"
   ]
  },
  {
   "cell_type": "code",
   "execution_count": 2,
   "id": "aa4d33d3",
   "metadata": {},
   "outputs": [],
   "source": [
    "y = 'India'"
   ]
  },
  {
   "cell_type": "code",
   "execution_count": 5,
   "id": "847cea62",
   "metadata": {},
   "outputs": [],
   "source": [
    "z = 3.5"
   ]
  },
  {
   "cell_type": "markdown",
   "id": "446400ed",
   "metadata": {},
   "source": [
    "## Ninja Trick\n"
   ]
  },
  {
   "cell_type": "code",
   "execution_count": 6,
   "id": "7cf7bd04",
   "metadata": {},
   "outputs": [
    {
     "name": "stdout",
     "output_type": "stream",
     "text": [
      "<class 'int'>\n"
     ]
    }
   ],
   "source": [
    "print(type(x))"
   ]
  },
  {
   "cell_type": "code",
   "execution_count": 7,
   "id": "dbacce7f",
   "metadata": {},
   "outputs": [
    {
     "name": "stdout",
     "output_type": "stream",
     "text": [
      "<class 'int'>\n"
     ]
    }
   ],
   "source": [
    "print(type(4))"
   ]
  },
  {
   "cell_type": "code",
   "execution_count": 8,
   "id": "9bfae1d0",
   "metadata": {},
   "outputs": [
    {
     "name": "stdout",
     "output_type": "stream",
     "text": [
      "<class 'float'>\n"
     ]
    }
   ],
   "source": [
    "print(type(0.4))"
   ]
  },
  {
   "cell_type": "markdown",
   "id": "3d4584b2",
   "metadata": {},
   "source": [
    "* what if we want to treat an integer as a string we can use typecasting. Then what is type casting.\n",
    "* typecasting means converting one data type value i to another data type value\n",
    "* there are 3 types typecasting\n",
    "* int() = converts string or float into integer\n",
    "* float() = converts integer or string into float\n",
    "* string() = converts integer or float into string\n"
   ]
  },
  {
   "cell_type": "code",
   "execution_count": 9,
   "id": "ae00dc36",
   "metadata": {},
   "outputs": [
    {
     "name": "stdout",
     "output_type": "stream",
     "text": [
      "<class 'int'>\n"
     ]
    }
   ],
   "source": [
    "print(type(x))"
   ]
  },
  {
   "cell_type": "markdown",
   "id": "f067b734",
   "metadata": {},
   "source": [
    "* so it shows it is intege. to conver it ibro string use str()"
   ]
  },
  {
   "cell_type": "code",
   "execution_count": 10,
   "id": "7d0580ad",
   "metadata": {},
   "outputs": [
    {
     "name": "stdout",
     "output_type": "stream",
     "text": [
      "<class 'str'>\n"
     ]
    }
   ],
   "source": [
    "x = str(x)\n",
    "print(type(x))"
   ]
  },
  {
   "cell_type": "markdown",
   "id": "77525da3",
   "metadata": {},
   "source": [
    "* So it is converted into string"
   ]
  }
 ],
 "metadata": {
  "kernelspec": {
   "display_name": "Python 3",
   "language": "python",
   "name": "python3"
  },
  "language_info": {
   "codemirror_mode": {
    "name": "ipython",
    "version": 3
   },
   "file_extension": ".py",
   "mimetype": "text/x-python",
   "name": "python",
   "nbconvert_exporter": "python",
   "pygments_lexer": "ipython3",
   "version": "3.6.8"
  }
 },
 "nbformat": 4,
 "nbformat_minor": 5
}
