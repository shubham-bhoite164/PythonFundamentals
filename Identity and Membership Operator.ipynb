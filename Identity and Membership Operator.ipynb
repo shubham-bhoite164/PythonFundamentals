{
 "cells": [
  {
   "cell_type": "markdown",
   "id": "62321479",
   "metadata": {},
   "source": [
    "# Identity Operator \n",
    "\n",
    "* Identity operator compare the memory locations of two objects."
   ]
  },
  {
   "cell_type": "markdown",
   "id": "187d973e",
   "metadata": {},
   "source": [
    "## 1. \"is\" Operator \n",
    "\n",
    "* \"is\" Operator which evaluates to true if the variables on either side of the operator point to the object and flase ohtherwise  "
   ]
  },
  {
   "cell_type": "code",
   "execution_count": 1,
   "id": "a3bd4041",
   "metadata": {},
   "outputs": [
    {
     "data": {
      "text/plain": [
       "True"
      ]
     },
     "execution_count": 1,
     "metadata": {},
     "output_type": "execute_result"
    }
   ],
   "source": [
    "x = 10\n",
    "y = 10\n",
    "x is y "
   ]
  },
  {
   "cell_type": "code",
   "execution_count": 2,
   "id": "2cb46f63",
   "metadata": {},
   "outputs": [
    {
     "data": {
      "text/plain": [
       "False"
      ]
     },
     "execution_count": 2,
     "metadata": {},
     "output_type": "execute_result"
    }
   ],
   "source": [
    "x = 10\n",
    "y = 20\n",
    "x is y "
   ]
  },
  {
   "cell_type": "markdown",
   "id": "05bba4f9",
   "metadata": {},
   "source": [
    "## 2. \"is not\" Operator\n",
    "\n",
    "* \"is not\" Operator which evaluates to false if the variable on either side of the operator point to the same object and true otherwise "
   ]
  },
  {
   "cell_type": "code",
   "execution_count": 3,
   "id": "9997b006",
   "metadata": {},
   "outputs": [
    {
     "data": {
      "text/plain": [
       "False"
      ]
     },
     "execution_count": 3,
     "metadata": {},
     "output_type": "execute_result"
    }
   ],
   "source": [
    "x = 10\n",
    "y = 10\n",
    "x is not y "
   ]
  },
  {
   "cell_type": "code",
   "execution_count": 4,
   "id": "2e8d50f1",
   "metadata": {},
   "outputs": [
    {
     "data": {
      "text/plain": [
       "True"
      ]
     },
     "execution_count": 4,
     "metadata": {},
     "output_type": "execute_result"
    }
   ],
   "source": [
    "x = 10\n",
    "y = 20\n",
    "x is not y "
   ]
  },
  {
   "cell_type": "markdown",
   "id": "c3b22452",
   "metadata": {},
   "source": [
    "# Membership Operator \n",
    "\n",
    "* Membership Operator are operators used to validate the membership of a value "
   ]
  },
  {
   "cell_type": "markdown",
   "id": "33a0a5ff",
   "metadata": {},
   "source": [
    "##  1. \"in\" Operator\n",
    "\n",
    "* \"in\" Operator evaluates to true if it finds a variable in specified sequences and false otherwise."
   ]
  },
  {
   "cell_type": "code",
   "execution_count": 5,
   "id": "1cf54afa",
   "metadata": {},
   "outputs": [
    {
     "data": {
      "text/plain": [
       "True"
      ]
     },
     "execution_count": 5,
     "metadata": {},
     "output_type": "execute_result"
    }
   ],
   "source": [
    "t = (3,6,4,1)\n",
    "3 in t"
   ]
  },
  {
   "cell_type": "markdown",
   "id": "d919d761",
   "metadata": {},
   "source": [
    "## 2. \"not in\" Operator \n",
    "\n",
    "* \"not in\" Operator which evaluates to true if it does not finds a variable in the specified sequence and false otherwise "
   ]
  },
  {
   "cell_type": "code",
   "execution_count": 6,
   "id": "e70e9aad",
   "metadata": {},
   "outputs": [
    {
     "data": {
      "text/plain": [
       "False"
      ]
     },
     "execution_count": 6,
     "metadata": {},
     "output_type": "execute_result"
    }
   ],
   "source": [
    "t = (3,6,4,1)\n",
    "3 not in t"
   ]
  },
  {
   "cell_type": "code",
   "execution_count": null,
   "id": "0d33ac29",
   "metadata": {},
   "outputs": [],
   "source": []
  }
 ],
 "metadata": {
  "kernelspec": {
   "display_name": "Python 3",
   "language": "python",
   "name": "python3"
  },
  "language_info": {
   "codemirror_mode": {
    "name": "ipython",
    "version": 3
   },
   "file_extension": ".py",
   "mimetype": "text/x-python",
   "name": "python",
   "nbconvert_exporter": "python",
   "pygments_lexer": "ipython3",
   "version": "3.6.8"
  }
 },
 "nbformat": 4,
 "nbformat_minor": 5
}
