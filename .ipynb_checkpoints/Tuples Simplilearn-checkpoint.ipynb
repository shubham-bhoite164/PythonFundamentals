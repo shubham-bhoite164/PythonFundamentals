{
 "cells": [
  {
   "cell_type": "markdown",
   "id": "c936a31e",
   "metadata": {},
   "source": [
    "# Creating Tuples\n",
    "\n",
    "* In list we have square brackets and in tuples we have round brackets"
   ]
  },
  {
   "cell_type": "code",
   "execution_count": 2,
   "id": "3597297a",
   "metadata": {},
   "outputs": [
    {
     "name": "stdout",
     "output_type": "stream",
     "text": [
      "<class 'tuple'>\n"
     ]
    }
   ],
   "source": [
    "emp = ()\n",
    "print(type(emp))  # Empty brackets are also tuples "
   ]
  },
  {
   "cell_type": "code",
   "execution_count": 3,
   "id": "294a49b7",
   "metadata": {},
   "outputs": [
    {
     "data": {
      "text/plain": [
       "tuple"
      ]
     },
     "execution_count": 3,
     "metadata": {},
     "output_type": "execute_result"
    }
   ],
   "source": [
    "city = \"pune\",\n",
    "type(city)"
   ]
  },
  {
   "cell_type": "code",
   "execution_count": 9,
   "id": "c5695ec7",
   "metadata": {},
   "outputs": [
    {
     "data": {
      "text/plain": [
       "('pune', 'mumbai', 'Banglore', 'Satara')"
      ]
     },
     "execution_count": 9,
     "metadata": {},
     "output_type": "execute_result"
    }
   ],
   "source": [
    "city = ('pune','mumbai','Banglore','Satara')\n",
    "city"
   ]
  },
  {
   "cell_type": "markdown",
   "id": "a382a4a7",
   "metadata": {},
   "source": [
    "* Tuples are immutable they cannot be changed "
   ]
  },
  {
   "cell_type": "code",
   "execution_count": 5,
   "id": "dfeac544",
   "metadata": {},
   "outputs": [
    {
     "name": "stdout",
     "output_type": "stream",
     "text": [
      "[1, 2, 3, 4, 5]\n"
     ]
    }
   ],
   "source": [
    "list1 = [1,2,3,4]\n",
    "tuple1 = (1,2,3,4)\n",
    "list1.append(5)\n",
    "print(list1)"
   ]
  },
  {
   "cell_type": "code",
   "execution_count": 6,
   "id": "9eb8e4c8",
   "metadata": {},
   "outputs": [
    {
     "ename": "AttributeError",
     "evalue": "'tuple' object has no attribute 'append'",
     "output_type": "error",
     "traceback": [
      "\u001b[1;31m---------------------------------------------------------------------------\u001b[0m",
      "\u001b[1;31mAttributeError\u001b[0m                            Traceback (most recent call last)",
      "\u001b[1;32m<ipython-input-6-c9bc946a1e1f>\u001b[0m in \u001b[0;36m<module>\u001b[1;34m\u001b[0m\n\u001b[1;32m----> 1\u001b[1;33m \u001b[0mtuple1\u001b[0m\u001b[1;33m.\u001b[0m\u001b[0mappend\u001b[0m\u001b[1;33m(\u001b[0m\u001b[1;36m5\u001b[0m\u001b[1;33m)\u001b[0m\u001b[1;33m\u001b[0m\u001b[1;33m\u001b[0m\u001b[0m\n\u001b[0m",
      "\u001b[1;31mAttributeError\u001b[0m: 'tuple' object has no attribute 'append'"
     ]
    }
   ],
   "source": [
    "tuple1.append(5)    # so we cannot change anything in tuple as we used to do in Lists"
   ]
  },
  {
   "cell_type": "code",
   "execution_count": 10,
   "id": "0ca5f25d",
   "metadata": {},
   "outputs": [
    {
     "name": "stdout",
     "output_type": "stream",
     "text": [
      "('pune', 'mumbai', 'Banglore', 'Satara')\n"
     ]
    }
   ],
   "source": [
    "print(city)"
   ]
  },
  {
   "cell_type": "code",
   "execution_count": 11,
   "id": "bad7e666",
   "metadata": {},
   "outputs": [
    {
     "data": {
      "text/plain": [
       "'mumbai'"
      ]
     },
     "execution_count": 11,
     "metadata": {},
     "output_type": "execute_result"
    }
   ],
   "source": [
    "city[1]    # we can find elements in tuples "
   ]
  },
  {
   "cell_type": "code",
   "execution_count": 12,
   "id": "3a0a17d9",
   "metadata": {},
   "outputs": [
    {
     "data": {
      "text/plain": [
       "'Satara'"
      ]
     },
     "execution_count": 12,
     "metadata": {},
     "output_type": "execute_result"
    }
   ],
   "source": [
    "city[-1]"
   ]
  },
  {
   "cell_type": "markdown",
   "id": "f35f84f3",
   "metadata": {},
   "source": [
    "# Concatenation means adding two tuples"
   ]
  },
  {
   "cell_type": "code",
   "execution_count": 13,
   "id": "ded76283",
   "metadata": {},
   "outputs": [
    {
     "name": "stdout",
     "output_type": "stream",
     "text": [
      "('pune', 'mumbai', 'Banglore', 'Satara')\n"
     ]
    }
   ],
   "source": [
    "print(city)"
   ]
  },
  {
   "cell_type": "code",
   "execution_count": 14,
   "id": "73bd7032",
   "metadata": {},
   "outputs": [],
   "source": [
    "num = 1,2,3,4"
   ]
  },
  {
   "cell_type": "code",
   "execution_count": 15,
   "id": "51e0c4c2",
   "metadata": {},
   "outputs": [
    {
     "name": "stdout",
     "output_type": "stream",
     "text": [
      "('pune', 'mumbai', 'Banglore', 'Satara', 1, 2, 3, 4)\n"
     ]
    }
   ],
   "source": [
    "print(city+num)"
   ]
  },
  {
   "cell_type": "markdown",
   "id": "4da318a2",
   "metadata": {},
   "source": [
    "# Nesting"
   ]
  },
  {
   "cell_type": "code",
   "execution_count": 16,
   "id": "383ded25",
   "metadata": {},
   "outputs": [
    {
     "name": "stdout",
     "output_type": "stream",
     "text": [
      "(('pune', 'mumbai', 'Banglore', 'Satara'), (1, 2, 3, 4))\n"
     ]
    }
   ],
   "source": [
    "nest = (city,num)\n",
    "print(nest)"
   ]
  },
  {
   "cell_type": "markdown",
   "id": "33b36922",
   "metadata": {},
   "source": [
    "# Repetiton "
   ]
  },
  {
   "cell_type": "code",
   "execution_count": 18,
   "id": "72ca65a9",
   "metadata": {},
   "outputs": [
    {
     "data": {
      "text/plain": [
       "('python', 'python', 'python', 'python', 'python')"
      ]
     },
     "execution_count": 18,
     "metadata": {},
     "output_type": "execute_result"
    }
   ],
   "source": [
    "rep = (\"python\",)*5\n",
    "rep"
   ]
  },
  {
   "cell_type": "code",
   "execution_count": 19,
   "id": "f5a1f5fd",
   "metadata": {},
   "outputs": [
    {
     "name": "stdout",
     "output_type": "stream",
     "text": [
      "('python', 'python', 'python', 'python', 'python', 'python', 'python', 'python', 'python', 'python')\n"
     ]
    }
   ],
   "source": [
    "rep = (\"python\",)\n",
    "print(rep*10)"
   ]
  },
  {
   "cell_type": "markdown",
   "id": "4bd4f0f0",
   "metadata": {},
   "source": [
    "# Slicing"
   ]
  },
  {
   "cell_type": "code",
   "execution_count": 20,
   "id": "f25a4eb9",
   "metadata": {},
   "outputs": [
    {
     "data": {
      "text/plain": [
       "(1, 2, 3, 4)"
      ]
     },
     "execution_count": 20,
     "metadata": {},
     "output_type": "execute_result"
    }
   ],
   "source": [
    "num"
   ]
  },
  {
   "cell_type": "code",
   "execution_count": 21,
   "id": "b1632b34",
   "metadata": {},
   "outputs": [
    {
     "data": {
      "text/plain": [
       "(2, 3, 4)"
      ]
     },
     "execution_count": 21,
     "metadata": {},
     "output_type": "execute_result"
    }
   ],
   "source": [
    "num[1:]"
   ]
  },
  {
   "cell_type": "code",
   "execution_count": 22,
   "id": "3cb9b0e8",
   "metadata": {},
   "outputs": [
    {
     "data": {
      "text/plain": [
       "(1, 2, 3)"
      ]
     },
     "execution_count": 22,
     "metadata": {},
     "output_type": "execute_result"
    }
   ],
   "source": [
    "num[:3]"
   ]
  },
  {
   "cell_type": "code",
   "execution_count": 23,
   "id": "7d79b3b5",
   "metadata": {},
   "outputs": [
    {
     "data": {
      "text/plain": [
       "(4, 3, 2, 1)"
      ]
     },
     "execution_count": 23,
     "metadata": {},
     "output_type": "execute_result"
    }
   ],
   "source": [
    "num[::-1]   # to print in reverce "
   ]
  },
  {
   "cell_type": "markdown",
   "id": "16fb2efe",
   "metadata": {},
   "source": [
    "# Unpacking "
   ]
  },
  {
   "cell_type": "code",
   "execution_count": 24,
   "id": "2075633c",
   "metadata": {},
   "outputs": [
    {
     "data": {
      "text/plain": [
       "('S', 'h', 'u', 'b', 'h', 'a', 'm')"
      ]
     },
     "execution_count": 24,
     "metadata": {},
     "output_type": "execute_result"
    }
   ],
   "source": [
    "tuple('Shubham')"
   ]
  },
  {
   "cell_type": "code",
   "execution_count": 25,
   "id": "68caa3c6",
   "metadata": {},
   "outputs": [
    {
     "name": "stdout",
     "output_type": "stream",
     "text": [
      "(1, 2, 3, 4)\n"
     ]
    }
   ],
   "source": [
    "print(num)"
   ]
  },
  {
   "cell_type": "code",
   "execution_count": 26,
   "id": "ed42e65e",
   "metadata": {},
   "outputs": [
    {
     "name": "stdout",
     "output_type": "stream",
     "text": [
      "1 2 3 4\n"
     ]
    }
   ],
   "source": [
    "a,b,c,d = num\n",
    "print(a,b,c,d)    # so we have putted the values of variables in it"
   ]
  },
  {
   "cell_type": "code",
   "execution_count": 27,
   "id": "d287f7d6",
   "metadata": {},
   "outputs": [
    {
     "data": {
      "text/plain": [
       "1"
      ]
     },
     "execution_count": 27,
     "metadata": {},
     "output_type": "execute_result"
    }
   ],
   "source": [
    "a"
   ]
  },
  {
   "cell_type": "code",
   "execution_count": 28,
   "id": "61debcc0",
   "metadata": {},
   "outputs": [
    {
     "name": "stdout",
     "output_type": "stream",
     "text": [
      "1 [2, 3] 4\n"
     ]
    }
   ],
   "source": [
    "a,*b,c = num\n",
    "print(a,b,c)"
   ]
  },
  {
   "cell_type": "code",
   "execution_count": 29,
   "id": "6bcc4afb",
   "metadata": {},
   "outputs": [
    {
     "name": "stdout",
     "output_type": "stream",
     "text": [
      "1 [2] 3 4\n"
     ]
    }
   ],
   "source": [
    "a,*b,c,d = num\n",
    "print(a,b,c,d)"
   ]
  },
  {
   "cell_type": "markdown",
   "id": "0a65fb2a",
   "metadata": {},
   "source": [
    "# Deleting a tuple "
   ]
  },
  {
   "cell_type": "code",
   "execution_count": 30,
   "id": "379b14d3",
   "metadata": {},
   "outputs": [
    {
     "name": "stdout",
     "output_type": "stream",
     "text": [
      "(1, 2, 3, 4)\n"
     ]
    }
   ],
   "source": [
    "tuple1 = (1,2,3,4)\n",
    "print(tuple1)"
   ]
  },
  {
   "cell_type": "code",
   "execution_count": 31,
   "id": "97c1ead0",
   "metadata": {},
   "outputs": [],
   "source": [
    "del tuple1"
   ]
  },
  {
   "cell_type": "code",
   "execution_count": 32,
   "id": "504e2553",
   "metadata": {},
   "outputs": [
    {
     "ename": "NameError",
     "evalue": "name 'tuple1' is not defined",
     "output_type": "error",
     "traceback": [
      "\u001b[1;31m---------------------------------------------------------------------------\u001b[0m",
      "\u001b[1;31mNameError\u001b[0m                                 Traceback (most recent call last)",
      "\u001b[1;32m<ipython-input-32-e27b56724cb0>\u001b[0m in \u001b[0;36m<module>\u001b[1;34m\u001b[0m\n\u001b[1;32m----> 1\u001b[1;33m \u001b[0mprint\u001b[0m\u001b[1;33m(\u001b[0m\u001b[0mtuple1\u001b[0m\u001b[1;33m)\u001b[0m\u001b[1;33m\u001b[0m\u001b[1;33m\u001b[0m\u001b[0m\n\u001b[0m",
      "\u001b[1;31mNameError\u001b[0m: name 'tuple1' is not defined"
     ]
    }
   ],
   "source": [
    "print(tuple1)    # So tuple1 is deleted "
   ]
  },
  {
   "cell_type": "markdown",
   "id": "4946ad81",
   "metadata": {},
   "source": [
    "# Build in function "
   ]
  },
  {
   "cell_type": "code",
   "execution_count": 33,
   "id": "695446b0",
   "metadata": {},
   "outputs": [],
   "source": [
    "num1 = (3,5,2,2,2,2,6,5,8)\n"
   ]
  },
  {
   "cell_type": "markdown",
   "id": "9b56ab74",
   "metadata": {},
   "source": [
    "* count\n",
    "* To find the number of Counts "
   ]
  },
  {
   "cell_type": "code",
   "execution_count": 34,
   "id": "e64f6e2f",
   "metadata": {},
   "outputs": [
    {
     "data": {
      "text/plain": [
       "4"
      ]
     },
     "execution_count": 34,
     "metadata": {},
     "output_type": "execute_result"
    }
   ],
   "source": [
    "num1.count(2)"
   ]
  },
  {
   "cell_type": "code",
   "execution_count": 35,
   "id": "84ae1f05",
   "metadata": {},
   "outputs": [
    {
     "data": {
      "text/plain": [
       "35"
      ]
     },
     "execution_count": 35,
     "metadata": {},
     "output_type": "execute_result"
    }
   ],
   "source": [
    "sum(num1)   # this will even work for lists "
   ]
  },
  {
   "cell_type": "code",
   "execution_count": 36,
   "id": "588e7b3c",
   "metadata": {},
   "outputs": [
    {
     "data": {
      "text/plain": [
       "9"
      ]
     },
     "execution_count": 36,
     "metadata": {},
     "output_type": "execute_result"
    }
   ],
   "source": [
    "len(num1)"
   ]
  },
  {
   "cell_type": "code",
   "execution_count": 37,
   "id": "1e2eb2ca",
   "metadata": {},
   "outputs": [
    {
     "data": {
      "text/plain": [
       "8"
      ]
     },
     "execution_count": 37,
     "metadata": {},
     "output_type": "execute_result"
    }
   ],
   "source": [
    "max(num1)"
   ]
  },
  {
   "cell_type": "code",
   "execution_count": 38,
   "id": "8fd88c8c",
   "metadata": {},
   "outputs": [
    {
     "data": {
      "text/plain": [
       "2"
      ]
     },
     "execution_count": 38,
     "metadata": {},
     "output_type": "execute_result"
    }
   ],
   "source": [
    "min(num1)"
   ]
  },
  {
   "cell_type": "markdown",
   "id": "4c2d3362",
   "metadata": {},
   "source": [
    "# Converting the list into a Tuple "
   ]
  },
  {
   "cell_type": "code",
   "execution_count": 39,
   "id": "284ed676",
   "metadata": {},
   "outputs": [
    {
     "name": "stdout",
     "output_type": "stream",
     "text": [
      "<class 'list'>\n"
     ]
    }
   ],
   "source": [
    "lst = [1,2,3,4]\n",
    "print(type(lst))"
   ]
  },
  {
   "cell_type": "code",
   "execution_count": 41,
   "id": "c6bbf557",
   "metadata": {},
   "outputs": [
    {
     "name": "stdout",
     "output_type": "stream",
     "text": [
      "<class 'tuple'>\n"
     ]
    }
   ],
   "source": [
    "tpl = tuple(lst)\n",
    "print(type(tpl))"
   ]
  },
  {
   "cell_type": "markdown",
   "id": "85ddf011",
   "metadata": {},
   "source": [
    "* we cannot convert List into tuple "
   ]
  },
  {
   "cell_type": "markdown",
   "id": "c7cf973b",
   "metadata": {},
   "source": [
    "# Nesting Tuples within a list"
   ]
  },
  {
   "cell_type": "code",
   "execution_count": 43,
   "id": "86f91801",
   "metadata": {},
   "outputs": [
    {
     "name": "stdout",
     "output_type": "stream",
     "text": [
      "[(1, 2, 3), (4, 5, 6)]\n"
     ]
    }
   ],
   "source": [
    "lst = [(1,2,3),(4,5,6)]\n",
    "print(lst)"
   ]
  },
  {
   "cell_type": "code",
   "execution_count": 44,
   "id": "43a660f9",
   "metadata": {},
   "outputs": [
    {
     "name": "stdout",
     "output_type": "stream",
     "text": [
      "[(1, 2, 3), (4, 5, 6), ('Shubham', 'is', 'nice', 'boy')]\n"
     ]
    }
   ],
   "source": [
    "lst.append(('Shubham','is','nice','boy'))\n",
    "print(lst)"
   ]
  },
  {
   "cell_type": "markdown",
   "id": "5f1b978c",
   "metadata": {},
   "source": [
    "\n",
    "# Nesting Lists within Tuples "
   ]
  },
  {
   "cell_type": "code",
   "execution_count": 56,
   "id": "458f85d0",
   "metadata": {},
   "outputs": [],
   "source": [
    "tpl = (['a','b','c'],['d','e','f'])"
   ]
  },
  {
   "cell_type": "code",
   "execution_count": 57,
   "id": "b6cd5ef2",
   "metadata": {},
   "outputs": [
    {
     "name": "stdout",
     "output_type": "stream",
     "text": [
      "(['a', 'b', 'c'], ['d', 'e', 'f'])\n"
     ]
    }
   ],
   "source": [
    "print(tpl)"
   ]
  },
  {
   "cell_type": "code",
   "execution_count": 58,
   "id": "3a151371",
   "metadata": {},
   "outputs": [
    {
     "name": "stdout",
     "output_type": "stream",
     "text": [
      "(['a', 'b', 'c', 'z'], ['d', 'e', 'f'])\n"
     ]
    }
   ],
   "source": [
    "tpl[0].append('z')\n",
    "print(tpl)"
   ]
  },
  {
   "cell_type": "code",
   "execution_count": 59,
   "id": "e937c0f6",
   "metadata": {},
   "outputs": [
    {
     "name": "stdout",
     "output_type": "stream",
     "text": [
      "(['a', 'b', 'c'], ['d', 'e', 'f'])\n"
     ]
    }
   ],
   "source": [
    "tpl[0].remove('z')\n",
    "print(tpl)"
   ]
  },
  {
   "cell_type": "code",
   "execution_count": null,
   "id": "1ff244fa",
   "metadata": {},
   "outputs": [],
   "source": []
  }
 ],
 "metadata": {
  "kernelspec": {
   "display_name": "Python 3",
   "language": "python",
   "name": "python3"
  },
  "language_info": {
   "codemirror_mode": {
    "name": "ipython",
    "version": 3
   },
   "file_extension": ".py",
   "mimetype": "text/x-python",
   "name": "python",
   "nbconvert_exporter": "python",
   "pygments_lexer": "ipython3",
   "version": "3.6.8"
  }
 },
 "nbformat": 4,
 "nbformat_minor": 5
}
